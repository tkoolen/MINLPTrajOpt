{
 "cells": [
  {
   "cell_type": "code",
   "execution_count": 1,
   "metadata": {},
   "outputs": [
    {
     "data": {
      "text/plain": [
       "\"/home/twan/code/julia-projects/MINLPTrajOpt/notebooks/exploration/Project.toml\""
      ]
     },
     "execution_count": 1,
     "metadata": {},
     "output_type": "execute_result"
    }
   ],
   "source": [
    "using Pkg, Logging\n",
    "Pkg.activate(@__DIR__)"
   ]
  },
  {
   "cell_type": "code",
   "execution_count": 2,
   "metadata": {},
   "outputs": [
    {
     "name": "stdout",
     "output_type": "stream",
     "text": [
      "\u001b[32m\u001b[1m  Updating\u001b[22m\u001b[39m registry at `~/.julia/registries/General`\n",
      "\u001b[32m\u001b[1m  Updating\u001b[22m\u001b[39m git-repo `https://github.com/JuliaRegistries/General.git`\n",
      "\u001b[?25l\u001b[2K\u001b[?25h\u001b[32m\u001b[1mPrecompiling\u001b[22m\u001b[39m project...\n"
     ]
    }
   ],
   "source": [
    "push!(LOAD_PATH, joinpath(@__DIR__, \"..\", \"..\"))\n",
    "push!(LOAD_PATH, joinpath(@__DIR__, \"..\", \"..\", \"extras\"))\n",
    "Pkg.instantiate()\n",
    "with_logger(NullLogger()) do\n",
    "    pkg\"precompile\"\n",
    "end"
   ]
  },
  {
   "cell_type": "code",
   "execution_count": 3,
   "metadata": {},
   "outputs": [],
   "source": [
    "using JuMP\n",
    "using LinearAlgebra\n",
    "using Random\n",
    "using MINLPTrajOpt\n",
    "using Rotations\n",
    "using RigidBodyDynamics"
   ]
  },
  {
   "cell_type": "code",
   "execution_count": 4,
   "metadata": {},
   "outputs": [
    {
     "data": {
      "text/plain": [
       "Spanning tree:\n",
       "Vertex: world (root)\n",
       "  Vertex: upper_link, Edge: shoulder\n",
       "    Vertex: lower_link, Edge: elbow\n",
       "No non-tree joints."
      ]
     },
     "execution_count": 4,
     "metadata": {},
     "output_type": "execute_result"
    }
   ],
   "source": [
    "urdf = joinpath(dirname(pathof(RigidBodyDynamics)), \"..\", \"test\", \"urdf\", \"Acrobot.urdf\")\n",
    "# mechanism = parse_urdf(urdf)\n",
    "mechanism = parse_urdf(urdf, revolute_joint_type=SinCosRevolute{Float64})"
   ]
  },
  {
   "cell_type": "code",
   "execution_count": 5,
   "metadata": {},
   "outputs": [],
   "source": [
    "using TrigonometricPolynomials\n",
    "using TrigonometricPolynomials: Var"
   ]
  },
  {
   "cell_type": "code",
   "execution_count": 6,
   "metadata": {},
   "outputs": [
    {
     "data": {
      "text/plain": [
       "symbolic_dynamics (generic function with 1 method)"
      ]
     },
     "execution_count": 6,
     "metadata": {},
     "output_type": "execute_result"
    }
   ],
   "source": [
    "function symbolic_dynamics(mechanism::Mechanism{X}) where X\n",
    "    nq = num_positions(mechanism)\n",
    "    nv = num_velocities(mechanism)\n",
    "    sincosmap = SinCosDict()\n",
    "    T = TrigPoly{X}\n",
    "    state = MechanismState{T}(mechanism)\n",
    "    q = configuration(state)\n",
    "    v = velocity(state)\n",
    "    v̇ = similar(v)\n",
    "    τ = similar(v)\n",
    "    for (i, joint) in enumerate(joints(mechanism))\n",
    "        if joint_type(joint) isa SinCosRevolute\n",
    "            θjoint = T(Var(\"θ$i\"), sincosmap)\n",
    "            set_configuration!(state, joint, θjoint)\n",
    "        else\n",
    "            qjoint = [T(Var(\"q$i,$j\"), sincosmap) for j = 1 : num_positions(joint)]\n",
    "            set_configuration!(state, joint, qjoint)\n",
    "        end\n",
    "        copyto!(v[joint], [T(Var(\"v$i,$j\"), sincosmap) for j = 1 : num_velocities(joint)])\n",
    "        copyto!(v̇[joint], [T(Var(\"v̇$i,$j\"), sincosmap) for j = 1 : num_velocities(joint)])\n",
    "        copyto!(τ[joint], [T(Var(\"τ$i,$j\"), sincosmap) for j = 1 : num_velocities(joint)])\n",
    "    end\n",
    "    setdirty!(state)\n",
    "    M = mass_matrix(state)\n",
    "    c = dynamics_bias(state)\n",
    "    # TODO: simplify given quaternion unit norm\n",
    "    q, v, v̇, τ, M * v̇ + c - τ\n",
    "end"
   ]
  },
  {
   "cell_type": "code",
   "execution_count": 7,
   "metadata": {},
   "outputs": [
    {
     "data": {
      "text/plain": [
       "dynamics_constraints (generic function with 1 method)"
      ]
     },
     "execution_count": 7,
     "metadata": {},
     "output_type": "execute_result"
    }
   ],
   "source": [
    "function dynamics_constraints(sym_dynamics::AbstractVector{<:TrigPoly}, varmap::Dict{Var})\n",
    "    nv = length(sym_dynamics)\n",
    "    exprs = Vector{Expr}(undef, nv)\n",
    "    for i in 1 : nv\n",
    "        sum = Expr(:call, :+)\n",
    "        for t in terms(sym_dynamics[i].poly)\n",
    "            c = coefficient(t)\n",
    "            m = monomial(t)\n",
    "            prod = Expr(:call, :*, coefficient(t))\n",
    "            for (x, power) in powers(m)\n",
    "                if power == 1\n",
    "                    push!(prod.args, :($(varmap[x])))\n",
    "                elseif power != 0\n",
    "                    push!(prod.args, :($(varmap[x])^$(power)))\n",
    "                end\n",
    "            end\n",
    "            push!(sum.args, prod)\n",
    "        end\n",
    "        exprs[i] = :($sum == 0)\n",
    "    end\n",
    "    exprs\n",
    "end"
   ]
  },
  {
   "cell_type": "code",
   "execution_count": 8,
   "metadata": {},
   "outputs": [],
   "source": [
    "# q, v, v̇, τ, exprs = symbolic_dynamics(mechanism)"
   ]
  },
  {
   "cell_type": "code",
   "execution_count": 9,
   "metadata": {},
   "outputs": [],
   "source": [
    "# using SymEngine\n",
    "# Base.sincos(x::Basic) = (sin(x), cos(x))\n",
    "# q = [symbols(\"q$i\") for i = 1 : num_positions(mechanism)]\n",
    "# v = [symbols(\"v$i\") for i = 1 : num_velocities(mechanism)]\n",
    "# state = MechanismState(mechanism, q, v)\n",
    "# setdirty!(state)\n",
    "# frame = default_frame(last(bodies(mechanism)))\n",
    "# p = transform(Point3D(frame, 0, 0, 0), transform_to_root(state, frame));"
   ]
  },
  {
   "cell_type": "code",
   "execution_count": 10,
   "metadata": {},
   "outputs": [],
   "source": [
    "using RigidBodyDynamics.CustomCollections: SegmentedVector"
   ]
  },
  {
   "cell_type": "code",
   "execution_count": 11,
   "metadata": {},
   "outputs": [
    {
     "data": {
      "text/plain": [
       "SegmentedVector{JointID,T,Base.OneTo{JointID},Array{T,1}} where T"
      ]
     },
     "execution_count": 11,
     "metadata": {},
     "output_type": "execute_result"
    }
   ],
   "source": [
    "const JointSegmentedVector{T} = SegmentedVector{JointID, T, Base.OneTo{JointID}, Vector{T}}"
   ]
  },
  {
   "cell_type": "code",
   "execution_count": 12,
   "metadata": {},
   "outputs": [],
   "source": [
    "abstract type ObjectiveType end\n",
    "\n",
    "struct MinEffort <: ObjectiveType end\n",
    "struct MinTime <: ObjectiveType end"
   ]
  },
  {
   "cell_type": "code",
   "execution_count": 23,
   "metadata": {},
   "outputs": [],
   "source": [
    "struct TrajOptProblem\n",
    "    model::JuMP.Model\n",
    "    Δts::Vector{JuMP.Variable}\n",
    "    Δqs::Vector{JointSegmentedVector{JuMP.Variable}}\n",
    "    qs::Vector{JointSegmentedVector{JuMP.Variable}}\n",
    "    vs::Vector{JointSegmentedVector{JuMP.Variable}}\n",
    "    v̇s::Vector{JointSegmentedVector{JuMP.Variable}}\n",
    "    τs::Vector{JointSegmentedVector{JuMP.Variable}}\n",
    "\n",
    "    function TrajOptProblem(mechanism::Mechanism, x0::MechanismState, solver;\n",
    "            N::Integer, # number of integration steps\n",
    "            Δtmin::Number, # min time step\n",
    "            Δtmax::Number, # max time step\n",
    "            objectivetype::ObjectiveType,\n",
    "            T::Union{Number, Nothing} = objectivetype isa MinTime ? nothing : N * Δtmax, # final time\n",
    "            Δθmax::Number = 0.5, # max angle change during one integration time step (to control badness of small-angle approximation)\n",
    "        )\n",
    "        model = Model(solver=solver)\n",
    "        nq = num_positions(mechanism)\n",
    "        nv = num_velocities(mechanism)\n",
    "    \n",
    "        # Time step settings\n",
    "        @assert Δtmax >= Δtmin\n",
    "        fixedstep = Δtmin == Δtmax\n",
    "        if fixedstep\n",
    "            T == N * Δtmax || throw(ArgumentError())\n",
    "        end\n",
    "    \n",
    "        # Initial state\n",
    "        qprev = configuration(x0)\n",
    "        vprev = velocity(x0)\n",
    "        \n",
    "        # Variable vectors\n",
    "        Δts = Vector{JuMP.Variable}(undef, N)\n",
    "        Δqs = [similar(qprev, JuMP.Variable) for i = 1 : N]\n",
    "        qs = [similar(qprev, JuMP.Variable) for i = 1 : N]\n",
    "        vs = [similar(vprev, JuMP.Variable) for i = 1 : N]\n",
    "        v̇s = [similar(vprev, JuMP.Variable) for i = 1 : N]\n",
    "        τs = [similar(vprev, JuMP.Variable) for i = 1 : N]\n",
    "    \n",
    "        # Symbolic dynamics\n",
    "        qsym, vsym, v̇sym, τsym, dynsym = symbolic_dynamics(mechanism)\n",
    "   \n",
    "        for i = 1 : N\n",
    "            # Create variables\n",
    "            Δts[i] = @variable model basename=\"Δt_{$i}\"\n",
    "            Δq = Δqs[i] .= [@variable model basename=\"Δq_{$j,$i}\" for j = 1 : nq]\n",
    "            q = qs[i] .= [@variable model basename=\"q_{$j,$i}\" for j = 1 : nq]\n",
    "            v = vs[i] .= [@variable model basename=\"v_{$j,$i}\" for j = 1 : nv]\n",
    "            v̇ = v̇s[i] .= [@variable model basename=\"v̇_{$j,$i}\" for j = 1 : nv]\n",
    "            τ = τs[i] .= [@variable model basename=\"τ_{$j,$i}\" for j = 1 : nv]\n",
    "        \n",
    "            # Time steps\n",
    "            if fixedstep\n",
    "                JuMP.fix(Δts[i], Δtmin)\n",
    "                Δt = Δtmin\n",
    "            else\n",
    "                JuMP.setlowerbound(Δts[i], Δtmin)\n",
    "                JuMP.setupperbound(Δts[i], Δtmax)\n",
    "                Δt = Δts[i]\n",
    "            end\n",
    "        \n",
    "            for joint in tree_joints(mechanism)\n",
    "                if joint_type(joint) isa SinCosRevolute\n",
    "                    # Kinematics delta\n",
    "                    sΔθ, cΔθ = Δq[joint]\n",
    "                    setlowerbound.((sΔθ, cΔθ), -1.0)\n",
    "                    setupperbound.((sΔθ, cΔθ),  1.0)\n",
    "                    if Δθmax < π / 2\n",
    "                        @constraint model -sin(Δθmax) <= sΔθ <= sin(Δθmax)\n",
    "                        if Δθmax < π\n",
    "                            @constraint model cos(Δθmax) <= cΔθ\n",
    "                        end\n",
    "                    end\n",
    "\n",
    "                    # Absolute kinematics (from rotation matrix product)\n",
    "                    sθprev, cθprev = qprev[joint]\n",
    "                    sθ, cθ = q[joint]\n",
    "                    @NLconstraint model sθ^2 + cθ^2 == 1\n",
    "                    @NLconstraint model sθ == sθprev * cΔθ + cθprev * sΔθ\n",
    "                    @NLconstraint model cθ == cθprev * cΔθ - sθprev * sΔθ\n",
    "                \n",
    "                    # Velocity\n",
    "                    Δθ = sΔθ # first-order approximation\n",
    "                    θd = v[joint][1]\n",
    "                    @constraint model Δt * θd == Δθ\n",
    "                else\n",
    "                    error()\n",
    "                end\n",
    "            end\n",
    "        \n",
    "            # Acceleration\n",
    "            @constraint model Δt .* v̇ .== v .- vprev\n",
    "            \n",
    "            # Dynamics\n",
    "            varmap = Dict(Iterators.flatten((\n",
    "                    zip(variable.(qsym), q),\n",
    "                    zip(variable.(vsym), v),\n",
    "                    zip(variable.(v̇sym), v̇),\n",
    "                    zip(variable.(τsym), τ)\n",
    "            )))\n",
    "            JuMP.addNLconstraint.(Ref(model), dynamics_constraints(dynsym, varmap))\n",
    "\n",
    "            qprev = q\n",
    "            vprev = v\n",
    "        end\n",
    "    \n",
    "        # TODO: objective, final state constraint\n",
    "        @objective model Min 1\n",
    "    \n",
    "        new(model, Δts, Δqs, qs, vs, v̇s, τs)\n",
    "    end\n",
    "end"
   ]
  },
  {
   "cell_type": "code",
   "execution_count": 24,
   "metadata": {},
   "outputs": [],
   "source": [
    "using BARON\n",
    "\n",
    "N = 40\n",
    "objectivetype = MinEffort()\n",
    "fixedstep = true\n",
    "T = 4.0\n",
    "\n",
    "if fixedstep\n",
    "    Δt = T / N\n",
    "    Δtmin = Δt\n",
    "    Δtmax = Δt\n",
    "else\n",
    "    Δtmin = 0.0\n",
    "    Δtmax = 0.5\n",
    "end\n",
    "\n",
    "x0 = MechanismState(mechanism)\n",
    "rand!(x0)\n",
    "solver = BaronSolver(threads=Sys.CPU_THREADS)\n",
    "problem = TrajOptProblem(mechanism, x0, solver;\n",
    "    Δtmin=Δtmin, Δtmax=Δtmax, T=T, N=N, objectivetype=objectivetype);"
   ]
  },
  {
   "cell_type": "code",
   "execution_count": 25,
   "metadata": {},
   "outputs": [
    {
     "name": "stdout",
     "output_type": "stream",
     "text": [
      "===========================================================================\n",
      " BARON version 18.8.23. Built: LNX-64 Thu Aug 23 14:46:44 EDT 2018\n",
      "\n",
      " BARON is a product of The Optimization Firm.\n",
      " For information on BARON, see https://minlp.com/about-baron\n",
      " Licensee: MIT at Twan Koolen, tkoolen@mit.edu.\n",
      "\n",
      " If you use this software, please cite publications from\n",
      " https://minlp.com/baron-publications, such as: \n",
      "\n",
      " Khajavirad, A. and N. V. Sahinidis,\n",
      " A hybrid LP/NLP paradigm for global optimization relaxations,\n",
      " Mathematical Programming Computation, 10, 383-421, 2018.\n",
      "===========================================================================\n",
      " This BARON run may utilize the following subsolver(s)\n",
      " For LP/MIP: ILOG CPLEX                                      \n",
      " For NLP: IPOPT, FILTERSD, FILTERSQP\n",
      "===========================================================================\n",
      " Doing local search\n",
      " Unable to find/load CPLEX library libcplex.so: cannot open shared object file: No such file or directory\n",
      " Using CPLEX library libcplex1280.so.\n",
      " Preprocessing found feasible solution with value  1.00000000000     \n",
      " Problem solved during preprocessing\n",
      " Lower bound is  1.00000000000     \n",
      "\n",
      " Cleaning up\n",
      "\n",
      "                         *** Normal completion ***            \n",
      "\n",
      " Wall clock time:                     1.00\n",
      " Total CPU time used:                 1.04\n",
      "\n",
      " Total no. of BaR iterations:      -1\n",
      " Best solution found at node:      -1\n",
      " Max. no. of nodes in memory:       0\n",
      " \n",
      " All done\n",
      "===========================================================================\n"
     ]
    },
    {
     "data": {
      "text/plain": [
       ":Optimal"
      ]
     },
     "execution_count": 25,
     "metadata": {},
     "output_type": "execute_result"
    }
   ],
   "source": [
    "solve(problem.model)"
   ]
  },
  {
   "cell_type": "code",
   "execution_count": null,
   "metadata": {},
   "outputs": [],
   "source": []
  }
 ],
 "metadata": {
  "kernelspec": {
   "display_name": "Julia 1.0.1",
   "language": "julia",
   "name": "julia-1.0"
  },
  "language_info": {
   "file_extension": ".jl",
   "mimetype": "application/julia",
   "name": "julia",
   "version": "1.0.1"
  }
 },
 "nbformat": 4,
 "nbformat_minor": 2
}
