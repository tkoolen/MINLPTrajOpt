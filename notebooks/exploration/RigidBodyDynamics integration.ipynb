{
 "cells": [
  {
   "cell_type": "code",
   "execution_count": 1,
   "metadata": {},
   "outputs": [
    {
     "name": "stdout",
     "output_type": "stream",
     "text": [
      "\u001b[32m\u001b[1m  Updating\u001b[22m\u001b[39m registry at `~/.julia/registries/General`\n",
      "\u001b[32m\u001b[1m  Updating\u001b[22m\u001b[39m git-repo `ssh://git@github.com/JuliaRegistries/General.git`\n",
      "\u001b[?25l\u001b[2K\u001b[?25h"
     ]
    }
   ],
   "source": [
    "using Pkg\n",
    "Pkg.activate(@__DIR__)\n",
    "push!(LOAD_PATH, joinpath(@__DIR__, \"..\", \"..\"))\n",
    "Pkg.instantiate()"
   ]
  },
  {
   "cell_type": "code",
   "execution_count": 2,
   "metadata": {},
   "outputs": [],
   "source": [
    "using JuMP\n",
    "using LinearAlgebra\n",
    "using MINLPTrajOpt\n",
    "using Rotations\n",
    "using RigidBodyDynamics"
   ]
  },
  {
   "cell_type": "code",
   "execution_count": 3,
   "metadata": {},
   "outputs": [
    {
     "data": {
      "text/plain": [
       "Spanning tree:\n",
       "Vertex: world (root)\n",
       "  Vertex: upper_link, Edge: shoulder\n",
       "    Vertex: lower_link, Edge: elbow\n",
       "No non-tree joints."
      ]
     },
     "execution_count": 3,
     "metadata": {},
     "output_type": "execute_result"
    }
   ],
   "source": [
    "urdf = joinpath(dirname(pathof(RigidBodyDynamics)), \"..\", \"test\", \"urdf\", \"Acrobot.urdf\")\n",
    "mechanism = parse_urdf(urdf)"
   ]
  },
  {
   "cell_type": "code",
   "execution_count": 54,
   "metadata": {},
   "outputs": [],
   "source": [
    "push!(LOAD_PATH, joinpath(@__DIR__, \"..\", \"..\", \"extras\", \"TrigonometricPolynomials\"))\n",
    "using TrigonometricPolynomials\n",
    "using TrigonometricPolynomials: Var"
   ]
  },
  {
   "cell_type": "code",
   "execution_count": 55,
   "metadata": {},
   "outputs": [],
   "source": [
    "sincosmap = SinCosDict()\n",
    "q = [TrigPoly{Float64}(Var(\"q$i\"), sincosmap) for i = 1 : num_positions(mechanism)]\n",
    "v = [TrigPoly{Float64}(Var(\"v$i\"), sincosmap) for i = 1 : num_velocities(mechanism)]\n",
    "state = MechanismState(mechanism, q, v)\n",
    "setdirty!(state)"
   ]
  },
  {
   "cell_type": "code",
   "execution_count": 83,
   "metadata": {},
   "outputs": [
    {
     "data": {
      "text/plain": [
       "2×2 Symmetric{TrigPoly{Float64},Array{TrigPoly{Float64},2}}:\n",
       "           2.0cos(q2) + 2.663  cos(q2) + 1.33\n",
       " cos(q2) + 1.33                          1.33"
      ]
     },
     "execution_count": 83,
     "metadata": {},
     "output_type": "execute_result"
    }
   ],
   "source": [
    "M = mass_matrix(state)\n",
    "map!(simplify, M.data, M.data)\n",
    "M"
   ]
  },
  {
   "cell_type": "code",
   "execution_count": 84,
   "metadata": {},
   "outputs": [
    {
     "data": {
      "text/plain": [
       "2-element SegmentedVector{JointID,TrigPoly{Float64},Base.OneTo{JointID},Array{TrigPoly{Float64},1}}:\n",
       "             -2.0v1v2sin(q2) - v2²sin(q2) + 9.81sin(q1)cos(q2) + 9.81cos(q1)sin(q2) + 14.715sin(q1)\n",
       " v1²sin(q2) + 9.81sin(q1)cos(q2) + 9.81cos(q1)sin(q2)                                              "
      ]
     },
     "execution_count": 84,
     "metadata": {},
     "output_type": "execute_result"
    }
   ],
   "source": [
    "c = dynamics_bias(state)\n",
    "map!(simplify ∘ simplify, c, c)\n",
    "c"
   ]
  },
  {
   "cell_type": "code",
   "execution_count": 81,
   "metadata": {},
   "outputs": [
    {
     "data": {
      "text/latex": [
       "-2.0v1v2sin(q2) - v2^{2}sin(q2) + 9.81sin(q1)cos(q2) + 9.81cos(q1)sin(q2) + 14.715sin(q1)"
      ],
      "text/plain": [
       "-2.0v1v2sin(q2) - v2²sin(q2) + 9.81sin(q1)cos(q2) + 9.81cos(q1)sin(q2) + 14.715sin(q1)"
      ]
     },
     "execution_count": 81,
     "metadata": {},
     "output_type": "execute_result"
    }
   ],
   "source": [
    "c[1]"
   ]
  },
  {
   "cell_type": "markdown",
   "metadata": {},
   "source": [
    "Design decisions:\n",
    "\n",
    "* `Problem` type:\n",
    "  * stores a `JuMP.Model`\n",
    "  * does all the setup in the constructor\n",
    "  * stores variables/useful subexpressions\n",
    "  * solve method\n",
    "  * methods for accessing results\n",
    "  * use `AxisArrays` to store variables\n",
    "* No separate `Result` type\n",
    "* Implement `TrigPoly` type, run through `mass_matrix` and `dynamics_bias`."
   ]
  },
  {
   "cell_type": "markdown",
   "metadata": {},
   "source": [
    "Is this really needed?"
   ]
  },
  {
   "cell_type": "code",
   "execution_count": null,
   "metadata": {},
   "outputs": [],
   "source": []
  }
 ],
 "metadata": {
  "kernelspec": {
   "display_name": "Julia 1.0.0",
   "language": "julia",
   "name": "julia-1.0"
  },
  "language_info": {
   "file_extension": ".jl",
   "mimetype": "application/julia",
   "name": "julia",
   "version": "1.0.1"
  }
 },
 "nbformat": 4,
 "nbformat_minor": 2
}
