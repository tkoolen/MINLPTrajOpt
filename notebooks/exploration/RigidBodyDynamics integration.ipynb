{
 "cells": [
  {
   "cell_type": "code",
   "execution_count": 1,
   "metadata": {},
   "outputs": [],
   "source": [
    "using Pkg, Logging\n",
    "Pkg.activate(@__DIR__)\n",
    "push!(LOAD_PATH, joinpath(@__DIR__, \"..\", \"..\"))\n",
    "push!(LOAD_PATH, joinpath(@__DIR__, \"..\", \"..\", \"extras\"));"
   ]
  },
  {
   "cell_type": "code",
   "execution_count": 2,
   "metadata": {},
   "outputs": [
    {
     "name": "stdout",
     "output_type": "stream",
     "text": [
      "\u001b[32m\u001b[1m  Updating\u001b[22m\u001b[39m registry at `~/.julia/registries/General`\n",
      "\u001b[32m\u001b[1m  Updating\u001b[22m\u001b[39m git-repo `https://github.com/JuliaRegistries/General.git`\n",
      "\u001b[?25l\u001b[2K\u001b[?25h\u001b[32m\u001b[1mPrecompiling\u001b[22m\u001b[39m project...\n",
      "\u001b[32m\u001b[1mPrecompiling\u001b[22m\u001b[39m RigidBodyDynamics\n"
     ]
    }
   ],
   "source": [
    "Pkg.instantiate()\n",
    "with_logger(NullLogger()) do\n",
    "    pkg\"precompile\"\n",
    "end"
   ]
  },
  {
   "cell_type": "code",
   "execution_count": 12,
   "metadata": {},
   "outputs": [],
   "source": [
    "using LinearAlgebra\n",
    "using MINLPTrajOpt\n",
    "using RigidBodyDynamics\n",
    "using RigidBodyDynamics: Bounds, lower, upper\n",
    "using JuMP\n",
    "using BARONTools;"
   ]
  },
  {
   "cell_type": "code",
   "execution_count": 4,
   "metadata": {},
   "outputs": [],
   "source": [
    "urdf = joinpath(dirname(pathof(RigidBodyDynamics)), \"..\", \"test\", \"urdf\", \"Acrobot.urdf\")\n",
    "mechanism = parse_urdf(urdf, revolute_joint_type=SinCosRevolute{Float64})\n",
    "shoulder, elbow = joints(mechanism);\n",
    "effort_bounds(shoulder) .= Bounds(0.0, 0.0)\n",
    "effort_bounds(elbow) .= Bounds(-20.0, 20.0);"
   ]
  },
  {
   "cell_type": "code",
   "execution_count": 5,
   "metadata": {},
   "outputs": [
    {
     "data": {
      "text/html": [
       "    <script class='js-collapse-script'>\n",
       "        var curMatch =\n",
       "            window.location.href\n",
       "            .match(/(.*?)\\/notebooks\\/.*\\.ipynb/);\n",
       "\n",
       "        curMatch = curMatch ||\n",
       "            window.location.href\n",
       "            .match(/(.*?)\\/apps\\/.*\\.ipynb/);\n",
       "\n",
       "        if ( curMatch ) {\n",
       "            $('head').append('<base href=\"' + curMatch[1] + '/\">');\n",
       "        }\n",
       "    </script>\n"
      ],
      "text/plain": [
       "HTML{String}(\"    <script class='js-collapse-script'>\\n        var curMatch =\\n            window.location.href\\n            .match(/(.*?)\\\\/notebooks\\\\/.*\\\\.ipynb/);\\n\\n        curMatch = curMatch ||\\n            window.location.href\\n            .match(/(.*?)\\\\/apps\\\\/.*\\\\.ipynb/);\\n\\n        if ( curMatch ) {\\n            \\$('head').append('<base href=\\\"' + curMatch[1] + '/\\\">');\\n        }\\n    </script>\\n\")"
      ]
     },
     "metadata": {},
     "output_type": "display_data"
    },
    {
     "data": {
      "text/html": [
       "<script class='js-collapse-script' src='/assetserver/29d4a42ceb6d03d53ba5feb8981c0eb5bceb5139-assets/webio/dist/bundle.js'></script>"
      ],
      "text/plain": [
       "HTML{String}(\"<script class='js-collapse-script' src='/assetserver/29d4a42ceb6d03d53ba5feb8981c0eb5bceb5139-assets/webio/dist/bundle.js'></script>\")"
      ]
     },
     "metadata": {},
     "output_type": "display_data"
    },
    {
     "data": {
      "text/html": [
       "<script class='js-collapse-script' src='/assetserver/29d4a42ceb6d03d53ba5feb8981c0eb5bceb5139-assets/providers/ijulia_setup.js'></script>"
      ],
      "text/plain": [
       "HTML{String}(\"<script class='js-collapse-script' src='/assetserver/29d4a42ceb6d03d53ba5feb8981c0eb5bceb5139-assets/providers/ijulia_setup.js'></script>\")"
      ]
     },
     "metadata": {},
     "output_type": "display_data"
    },
    {
     "data": {
      "text/html": [
       "  <script class='js-collapse-script'>\n",
       "    $('.js-collapse-script').parent('.output_subarea').css('padding', '0');\n",
       "  </script>\n"
      ],
      "text/plain": [
       "HTML{String}(\"  <script class='js-collapse-script'>\\n    \\$('.js-collapse-script').parent('.output_subarea').css('padding', '0');\\n  </script>\\n\")"
      ]
     },
     "metadata": {},
     "output_type": "display_data"
    },
    {
     "name": "stderr",
     "output_type": "stream",
     "text": [
      "┌ Info: Recompiling stale cache file /home/twan/.julia/compiled/v1.0/MeshCatMechanisms/dGmNl.ji for MeshCatMechanisms [6ad125db-dd91-5488-b820-c1df6aab299d]\n",
      "└ @ Base loading.jl:1187\n"
     ]
    },
    {
     "name": "stdout",
     "output_type": "stream",
     "text": [
      " 67.342317 seconds (148.21 M allocations: 8.138 GiB, 6.95% gc time)\n"
     ]
    },
    {
     "name": "stderr",
     "output_type": "stream",
     "text": [
      "/usr/bin/xdg-open: 851: /usr/bin/xdg-open: www-browser: not found\n",
      "/usr/bin/xdg-open: 851: /usr/bin/xdg-open: links2: not found\n",
      "/usr/bin/xdg-open: 851: /usr/bin/xdg-open: elinks: not found\n",
      "/usr/bin/xdg-open: 851: /usr/bin/xdg-open: links: not found\n",
      "/usr/bin/xdg-open: 851: /usr/bin/xdg-open: lynx: not found\n",
      "/usr/bin/xdg-open: 851: /usr/bin/xdg-open: w3m: not found\n",
      "xdg-open: no method available for opening 'http://127.0.0.1:8700'\n"
     ]
    },
    {
     "name": "stdout",
     "output_type": "stream",
     "text": [
      "Could not open browser automatically: ErrorException(\"failed process: Process(`xdg-open http://127.0.0.1:8700`, ProcessExited(3)) [3]\")\n",
      "Please open the following URL in your browser:\n",
      "http://127.0.0.1:8700\n"
     ]
    }
   ],
   "source": [
    "using MeshCat, MeshCatMechanisms, MechanismGeometries\n",
    "@time mvis = MechanismVisualizer(mechanism, URDFVisuals(urdf))\n",
    "with_logger(NullLogger()) do\n",
    "    open(mvis)\n",
    "end;"
   ]
  },
  {
   "cell_type": "code",
   "execution_count": 13,
   "metadata": {},
   "outputs": [],
   "source": [
    "using BARON\n",
    "\n",
    "N = 30\n",
    "objective = MinEffort()\n",
    "fixedstep = true\n",
    "T = 4.0\n",
    "Δθmax = 0.5\n",
    "\n",
    "if fixedstep\n",
    "    Δt = T / N\n",
    "    Δtmin = Δt\n",
    "    Δtmax = Δt\n",
    "else\n",
    "    Δtmin = 0.0\n",
    "    Δtmax = 0.5\n",
    "end\n",
    "\n",
    "x0 = MechanismState(mechanism)\n",
    "set_configuration!(x0, shoulder, 0.1)\n",
    "set_configuration!(x0, elbow, 0.0)\n",
    "zero_velocity!(x0)\n",
    "# rand_configuration!(x0)\n",
    "\n",
    "xf = MechanismState(mechanism)\n",
    "set_configuration!(xf, shoulder, π)\n",
    "set_configuration!(xf, elbow, 0.0)\n",
    "zero_velocity!(xf)\n",
    "\n",
    "solver = BaronSolver(threads=Sys.CPU_THREADS, MaxTime=60.0, PrTimeFreq=5.)\n",
    "problem = TrajOptProblem(mechanism, x0, solver;\n",
    "    xf=xf, Δtmin=Δtmin, Δtmax=Δtmax, T=T, N=N, Δθmax=Δθmax, objective=objective);"
   ]
  },
  {
   "cell_type": "code",
   "execution_count": 14,
   "metadata": {},
   "outputs": [
    {
     "name": "stdout",
     "output_type": "stream",
     "text": [
      "===========================================================================\n",
      " BARON version 18.8.23. Built: LNX-64 Thu Aug 23 14:46:44 EDT 2018\n",
      "\n",
      " BARON is a product of The Optimization Firm.\n",
      " For information on BARON, see https://minlp.com/about-baron\n",
      " Licensee: MIT at Twan Koolen, tkoolen@mit.edu.\n",
      "\n",
      " If you use this software, please cite publications from\n",
      " https://minlp.com/baron-publications, such as: \n",
      "\n",
      " Khajavirad, A. and N. V. Sahinidis,\n",
      " A hybrid LP/NLP paradigm for global optimization relaxations,\n",
      " Mathematical Programming Computation, 10, 383-421, 2018.\n",
      "===========================================================================\n",
      " This BARON run may utilize the following subsolver(s)\n",
      " For LP/MIP: ILOG CPLEX                                      \n",
      " For NLP: IPOPT, FILTERSD, FILTERSQP\n",
      "===========================================================================\n",
      " Doing local search\n",
      " Unable to find/load CPLEX library libcplex.so: cannot open shared object file: No such file or directory\n",
      " Using CPLEX library libcplex1280.so.\n",
      " Preprocessing found feasible solution with value  78.2583241047     \n",
      " Solving bounding LP\n",
      " Starting multi-start local search\n",
      " Done with local search\n",
      "===========================================================================\n",
      "  Iteration    Open nodes         Time (s)    Lower bound      Upper bound\n",
      "          1             1             8.00      0.00000         78.2583    \n",
      "          9             4            13.00     2.19231          78.2583    \n",
      "         35             0            15.00     78.2505          78.2583    \n",
      "\n",
      " Cleaning up\n",
      "\n",
      "                         *** Normal completion ***            \n",
      "\n",
      " Wall clock time:                    15.00\n",
      " Total CPU time used:                14.76\n",
      "\n",
      " Total no. of BaR iterations:      35\n",
      " Best solution found at node:      -1\n",
      " Max. no. of nodes in memory:       5\n",
      " \n",
      " All done\n",
      "===========================================================================\n"
     ]
    },
    {
     "data": {
      "text/plain": [
       ":Optimal"
      ]
     },
     "execution_count": 14,
     "metadata": {},
     "output_type": "execute_result"
    }
   ],
   "source": [
    "solve(problem.model)"
   ]
  },
  {
   "cell_type": "code",
   "execution_count": 15,
   "metadata": {},
   "outputs": [],
   "source": [
    "ts = [0; cumsum(getvalue.(problem.Δts))]\n",
    "qs = [Vector(configuration(x0)), getvalue.(problem.qs)...]\n",
    "τs = getvalue.(problem.τs);"
   ]
  },
  {
   "cell_type": "code",
   "execution_count": 16,
   "metadata": {},
   "outputs": [
    {
     "data": {
      "image/png": "[encoded data removed]",
      "image/svg+xml": [
       "<?xml version=\"1.0\" encoding=\"UTF-8\"?>\n",
       "<svg xmlns=\"http://www.w3.org/2000/svg\" xmlns:xlink=\"http://www.w3.org/1999/xlink\" width=\"241.432pt\" height=\"191.658pt\" viewBox=\"0 0 241.432 191.658\" version=\"1.1\">\n",
       "<defs>\n",
       "<g>\n",
       "<symbol overflow=\"visible\" id=\"glyph-1541790566537166-0-0\">\n",
       "<path style=\"stroke:none;\" d=\"\"/>\n",
       "</symbol>\n",
       "<symbol overflow=\"visible\" id=\"glyph-1541790566537166-0-1\">\n",
       "<path style=\"stroke:none;\" d=\"M 4.578125 -3.1875 C 4.578125 -3.984375 4.53125 -4.78125 4.1875 -5.515625 C 3.734375 -6.484375 2.90625 -6.640625 2.5 -6.640625 C 1.890625 -6.640625 1.171875 -6.375 0.75 -5.453125 C 0.4375 -4.765625 0.390625 -3.984375 0.390625 -3.1875 C 0.390625 -2.4375 0.421875 -1.546875 0.84375 -0.78125 C 1.265625 0.015625 2 0.21875 2.484375 0.21875 C 3.015625 0.21875 3.78125 0.015625 4.21875 -0.9375 C 4.53125 -1.625 4.578125 -2.40625 4.578125 -3.1875 Z M 2.484375 0 C 2.09375 0 1.5 -0.25 1.328125 -1.203125 C 1.21875 -1.796875 1.21875 -2.71875 1.21875 -3.3125 C 1.21875 -3.953125 1.21875 -4.609375 1.296875 -5.140625 C 1.484375 -6.328125 2.234375 -6.421875 2.484375 -6.421875 C 2.8125 -6.421875 3.46875 -6.234375 3.65625 -5.25 C 3.765625 -4.6875 3.765625 -3.9375 3.765625 -3.3125 C 3.765625 -2.5625 3.765625 -1.890625 3.65625 -1.25 C 3.5 -0.296875 2.9375 0 2.484375 0 Z M 2.484375 0 \"/>\n",
       "</symbol>\n",
       "<symbol overflow=\"visible\" id=\"glyph-1541790566537166-0-2\">\n",
       "<path style=\"stroke:none;\" d=\"M 2.9375 -6.375 C 2.9375 -6.625 2.9375 -6.640625 2.703125 -6.640625 C 2.078125 -6 1.203125 -6 0.890625 -6 L 0.890625 -5.6875 C 1.09375 -5.6875 1.671875 -5.6875 2.1875 -5.953125 L 2.1875 -0.78125 C 2.1875 -0.421875 2.15625 -0.3125 1.265625 -0.3125 L 0.953125 -0.3125 L 0.953125 0 C 1.296875 -0.03125 2.15625 -0.03125 2.5625 -0.03125 C 2.953125 -0.03125 3.828125 -0.03125 4.171875 0 L 4.171875 -0.3125 L 3.859375 -0.3125 C 2.953125 -0.3125 2.9375 -0.421875 2.9375 -0.78125 Z M 2.9375 -6.375 \"/>\n",
       "</symbol>\n",
       "<symbol overflow=\"visible\" id=\"glyph-1541790566537166-0-3\">\n",
       "<path style=\"stroke:none;\" d=\"M 1.265625 -0.765625 L 2.328125 -1.796875 C 3.875 -3.171875 4.46875 -3.703125 4.46875 -4.703125 C 4.46875 -5.84375 3.578125 -6.640625 2.359375 -6.640625 C 1.234375 -6.640625 0.5 -5.71875 0.5 -4.828125 C 0.5 -4.28125 1 -4.28125 1.03125 -4.28125 C 1.203125 -4.28125 1.546875 -4.390625 1.546875 -4.8125 C 1.546875 -5.0625 1.359375 -5.328125 1.015625 -5.328125 C 0.9375 -5.328125 0.921875 -5.328125 0.890625 -5.3125 C 1.109375 -5.96875 1.65625 -6.328125 2.234375 -6.328125 C 3.140625 -6.328125 3.5625 -5.515625 3.5625 -4.703125 C 3.5625 -3.90625 3.078125 -3.125 2.515625 -2.5 L 0.609375 -0.375 C 0.5 -0.265625 0.5 -0.234375 0.5 0 L 4.203125 0 L 4.46875 -1.734375 L 4.234375 -1.734375 C 4.171875 -1.4375 4.109375 -1 4 -0.84375 C 3.9375 -0.765625 3.28125 -0.765625 3.0625 -0.765625 Z M 1.265625 -0.765625 \"/>\n",
       "</symbol>\n",
       "<symbol overflow=\"visible\" id=\"glyph-1541790566537166-0-4\">\n",
       "<path style=\"stroke:none;\" d=\"M 2.890625 -3.515625 C 3.703125 -3.78125 4.28125 -4.46875 4.28125 -5.265625 C 4.28125 -6.078125 3.40625 -6.640625 2.453125 -6.640625 C 1.453125 -6.640625 0.6875 -6.046875 0.6875 -5.28125 C 0.6875 -4.953125 0.90625 -4.765625 1.203125 -4.765625 C 1.5 -4.765625 1.703125 -4.984375 1.703125 -5.28125 C 1.703125 -5.765625 1.234375 -5.765625 1.09375 -5.765625 C 1.390625 -6.265625 2.046875 -6.390625 2.40625 -6.390625 C 2.828125 -6.390625 3.375 -6.171875 3.375 -5.28125 C 3.375 -5.15625 3.34375 -4.578125 3.09375 -4.140625 C 2.796875 -3.65625 2.453125 -3.625 2.203125 -3.625 C 2.125 -3.609375 1.890625 -3.59375 1.8125 -3.59375 C 1.734375 -3.578125 1.671875 -3.5625 1.671875 -3.46875 C 1.671875 -3.359375 1.734375 -3.359375 1.90625 -3.359375 L 2.34375 -3.359375 C 3.15625 -3.359375 3.53125 -2.6875 3.53125 -1.703125 C 3.53125 -0.34375 2.84375 -0.0625 2.40625 -0.0625 C 1.96875 -0.0625 1.21875 -0.234375 0.875 -0.8125 C 1.21875 -0.765625 1.53125 -0.984375 1.53125 -1.359375 C 1.53125 -1.71875 1.265625 -1.921875 0.984375 -1.921875 C 0.734375 -1.921875 0.421875 -1.78125 0.421875 -1.34375 C 0.421875 -0.4375 1.34375 0.21875 2.4375 0.21875 C 3.65625 0.21875 4.5625 -0.6875 4.5625 -1.703125 C 4.5625 -2.515625 3.921875 -3.296875 2.890625 -3.515625 Z M 2.890625 -3.515625 \"/>\n",
       "</symbol>\n",
       "<symbol overflow=\"visible\" id=\"glyph-1541790566537166-0-5\">\n",
       "<path style=\"stroke:none;\" d=\"M 2.9375 -1.640625 L 2.9375 -0.78125 C 2.9375 -0.421875 2.90625 -0.3125 2.171875 -0.3125 L 1.96875 -0.3125 L 1.96875 0 C 2.375 -0.03125 2.890625 -0.03125 3.3125 -0.03125 C 3.734375 -0.03125 4.25 -0.03125 4.671875 0 L 4.671875 -0.3125 L 4.453125 -0.3125 C 3.71875 -0.3125 3.703125 -0.421875 3.703125 -0.78125 L 3.703125 -1.640625 L 4.6875 -1.640625 L 4.6875 -1.953125 L 3.703125 -1.953125 L 3.703125 -6.484375 C 3.703125 -6.6875 3.703125 -6.75 3.53125 -6.75 C 3.453125 -6.75 3.421875 -6.75 3.34375 -6.625 L 0.28125 -1.953125 L 0.28125 -1.640625 Z M 2.984375 -1.953125 L 0.5625 -1.953125 L 2.984375 -5.671875 Z M 2.984375 -1.953125 \"/>\n",
       "</symbol>\n",
       "<symbol overflow=\"visible\" id=\"glyph-1541790566537166-0-6\">\n",
       "<path style=\"stroke:none;\" d=\"M 3.296875 2.390625 C 3.296875 2.359375 3.296875 2.34375 3.125 2.171875 C 1.890625 0.921875 1.5625 -0.96875 1.5625 -2.5 C 1.5625 -4.234375 1.9375 -5.96875 3.171875 -7.203125 C 3.296875 -7.328125 3.296875 -7.34375 3.296875 -7.375 C 3.296875 -7.453125 3.265625 -7.484375 3.203125 -7.484375 C 3.09375 -7.484375 2.203125 -6.796875 1.609375 -5.53125 C 1.109375 -4.4375 0.984375 -3.328125 0.984375 -2.5 C 0.984375 -1.71875 1.09375 -0.515625 1.640625 0.625 C 2.25 1.84375 3.09375 2.5 3.203125 2.5 C 3.265625 2.5 3.296875 2.46875 3.296875 2.390625 Z M 3.296875 2.390625 \"/>\n",
       "</symbol>\n",
       "<symbol overflow=\"visible\" id=\"glyph-1541790566537166-0-7\">\n",
       "<path style=\"stroke:none;\" d=\"M 2.078125 -1.9375 C 2.296875 -1.890625 3.109375 -1.734375 3.109375 -1.015625 C 3.109375 -0.515625 2.765625 -0.109375 1.984375 -0.109375 C 1.140625 -0.109375 0.78125 -0.671875 0.59375 -1.53125 C 0.5625 -1.65625 0.5625 -1.6875 0.453125 -1.6875 C 0.328125 -1.6875 0.328125 -1.625 0.328125 -1.453125 L 0.328125 -0.125 C 0.328125 0.046875 0.328125 0.109375 0.4375 0.109375 C 0.484375 0.109375 0.5 0.09375 0.6875 -0.09375 C 0.703125 -0.109375 0.703125 -0.125 0.890625 -0.3125 C 1.328125 0.09375 1.78125 0.109375 1.984375 0.109375 C 3.125 0.109375 3.59375 -0.5625 3.59375 -1.28125 C 3.59375 -1.796875 3.296875 -2.109375 3.171875 -2.21875 C 2.84375 -2.546875 2.453125 -2.625 2.03125 -2.703125 C 1.46875 -2.8125 0.8125 -2.9375 0.8125 -3.515625 C 0.8125 -3.875 1.0625 -4.28125 1.921875 -4.28125 C 3.015625 -4.28125 3.078125 -3.375 3.09375 -3.078125 C 3.09375 -2.984375 3.1875 -2.984375 3.203125 -2.984375 C 3.34375 -2.984375 3.34375 -3.03125 3.34375 -3.21875 L 3.34375 -4.234375 C 3.34375 -4.390625 3.34375 -4.46875 3.234375 -4.46875 C 3.1875 -4.46875 3.15625 -4.46875 3.03125 -4.34375 C 3 -4.3125 2.90625 -4.21875 2.859375 -4.1875 C 2.484375 -4.46875 2.078125 -4.46875 1.921875 -4.46875 C 0.703125 -4.46875 0.328125 -3.796875 0.328125 -3.234375 C 0.328125 -2.890625 0.484375 -2.609375 0.75 -2.390625 C 1.078125 -2.140625 1.359375 -2.078125 2.078125 -1.9375 Z M 2.078125 -1.9375 \"/>\n",
       "</symbol>\n",
       "<symbol overflow=\"visible\" id=\"glyph-1541790566537166-0-8\">\n",
       "<path style=\"stroke:none;\" d=\"M 2.875 -2.5 C 2.875 -3.265625 2.765625 -4.46875 2.21875 -5.609375 C 1.625 -6.828125 0.765625 -7.484375 0.671875 -7.484375 C 0.609375 -7.484375 0.5625 -7.4375 0.5625 -7.375 C 0.5625 -7.34375 0.5625 -7.328125 0.75 -7.140625 C 1.734375 -6.15625 2.296875 -4.578125 2.296875 -2.5 C 2.296875 -0.78125 1.9375 0.96875 0.703125 2.21875 C 0.5625 2.34375 0.5625 2.359375 0.5625 2.390625 C 0.5625 2.453125 0.609375 2.5 0.671875 2.5 C 0.765625 2.5 1.671875 1.8125 2.25 0.546875 C 2.765625 -0.546875 2.875 -1.65625 2.875 -2.5 Z M 2.875 -2.5 \"/>\n",
       "</symbol>\n",
       "<symbol overflow=\"visible\" id=\"glyph-1541790566537166-1-0\">\n",
       "<path style=\"stroke:none;\" d=\"\"/>\n",
       "</symbol>\n",
       "<symbol overflow=\"visible\" id=\"glyph-1541790566537166-1-1\">\n",
       "<path style=\"stroke:none;\" d=\"M 6.5625 -2.296875 C 6.734375 -2.296875 6.921875 -2.296875 6.921875 -2.5 C 6.921875 -2.6875 6.734375 -2.6875 6.5625 -2.6875 L 1.171875 -2.6875 C 1 -2.6875 0.828125 -2.6875 0.828125 -2.5 C 0.828125 -2.296875 1 -2.296875 1.171875 -2.296875 Z M 6.5625 -2.296875 \"/>\n",
       "</symbol>\n",
       "<symbol overflow=\"visible\" id=\"glyph-1541790566537166-2-0\">\n",
       "<path style=\"stroke:none;\" d=\"\"/>\n",
       "</symbol>\n",
       "<symbol overflow=\"visible\" id=\"glyph-1541790566537166-2-1\">\n",
       "<path style=\"stroke:none;\" d=\"M 2.046875 -3.984375 L 2.984375 -3.984375 C 3.1875 -3.984375 3.296875 -3.984375 3.296875 -4.1875 C 3.296875 -4.296875 3.1875 -4.296875 3.015625 -4.296875 L 2.140625 -4.296875 C 2.5 -5.71875 2.546875 -5.90625 2.546875 -5.96875 C 2.546875 -6.140625 2.421875 -6.234375 2.25 -6.234375 C 2.21875 -6.234375 1.9375 -6.234375 1.859375 -5.875 L 1.46875 -4.296875 L 0.53125 -4.296875 C 0.328125 -4.296875 0.234375 -4.296875 0.234375 -4.109375 C 0.234375 -3.984375 0.3125 -3.984375 0.515625 -3.984375 L 1.390625 -3.984375 C 0.671875 -1.15625 0.625 -0.984375 0.625 -0.8125 C 0.625 -0.265625 1 0.109375 1.546875 0.109375 C 2.5625 0.109375 3.125 -1.34375 3.125 -1.421875 C 3.125 -1.53125 3.046875 -1.53125 3.015625 -1.53125 C 2.921875 -1.53125 2.90625 -1.5 2.859375 -1.390625 C 2.4375 -0.34375 1.90625 -0.109375 1.5625 -0.109375 C 1.359375 -0.109375 1.25 -0.234375 1.25 -0.5625 C 1.25 -0.8125 1.28125 -0.875 1.3125 -1.046875 Z M 2.046875 -3.984375 \"/>\n",
       "</symbol>\n",
       "<symbol overflow=\"visible\" id=\"glyph-1541790566537166-3-0\">\n",
       "<path style=\"stroke:none;\" d=\"\"/>\n",
       "</symbol>\n",
       "<symbol overflow=\"visible\" id=\"glyph-1541790566537166-3-1\">\n",
       "<path style=\"stroke:none;\" d=\"M -3.71875 -2.9375 L -3.71875 -4.609375 C -3.71875 -4.734375 -3.71875 -5.09375 -4.0625 -5.09375 C -4.296875 -5.09375 -4.296875 -4.890625 -4.296875 -4.6875 L -4.296875 -1.90625 C -4.296875 -1.703125 -4.296875 -1.3125 -3.828125 -0.875 C -3.46875 -0.546875 -2.984375 -0.265625 -2.9375 -0.265625 C -2.921875 -0.265625 -2.828125 -0.265625 -2.828125 -0.390625 C -2.828125 -0.46875 -2.875 -0.484375 -2.953125 -0.546875 C -3.71875 -1.03125 -3.71875 -1.609375 -3.71875 -1.8125 L -3.71875 -2.640625 L -0.515625 -1.671875 C -0.40625 -1.625 -0.1875 -1.5625 -0.15625 -1.5625 C -0.046875 -1.5625 0.125 -1.640625 0.125 -1.859375 C 0.125 -2.1875 -0.15625 -2.234375 -0.3125 -2.265625 Z M -3.71875 -2.9375 \"/>\n",
       "</symbol>\n",
       "<symbol overflow=\"visible\" id=\"glyph-1541790566537166-4-0\">\n",
       "<path style=\"stroke:none;\" d=\"\"/>\n",
       "</symbol>\n",
       "<symbol overflow=\"visible\" id=\"glyph-1541790566537166-4-1\">\n",
       "<path style=\"stroke:none;\" d=\"M 2.390625 -3.296875 C 2.359375 -3.296875 2.34375 -3.296875 2.171875 -3.125 C 0.921875 -1.890625 -0.96875 -1.5625 -2.5 -1.5625 C -4.234375 -1.5625 -5.96875 -1.9375 -7.203125 -3.171875 C -7.328125 -3.296875 -7.34375 -3.296875 -7.375 -3.296875 C -7.453125 -3.296875 -7.484375 -3.265625 -7.484375 -3.203125 C -7.484375 -3.09375 -6.796875 -2.203125 -5.53125 -1.609375 C -4.4375 -1.109375 -3.328125 -0.984375 -2.5 -0.984375 C -1.71875 -0.984375 -0.515625 -1.09375 0.625 -1.640625 C 1.84375 -2.25 2.5 -3.09375 2.5 -3.203125 C 2.5 -3.265625 2.46875 -3.296875 2.390625 -3.296875 Z M 2.390625 -3.296875 \"/>\n",
       "</symbol>\n",
       "<symbol overflow=\"visible\" id=\"glyph-1541790566537166-4-2\">\n",
       "<path style=\"stroke:none;\" d=\"M -6.671875 -2.3125 C -6.796875 -2.21875 -6.8125 -2.21875 -6.8125 -2.03125 L -6.8125 -0.328125 L -6.5 -0.328125 L -6.5 -0.625 C -6.5 -0.765625 -6.484375 -0.96875 -6.484375 -1.109375 C -6.453125 -1.34375 -6.4375 -1.359375 -6.25 -1.359375 L -1.046875 -1.359375 C -0.78125 -1.359375 -0.3125 -1.359375 -0.3125 -0.328125 L 0 -0.328125 C -0.015625 -0.671875 -0.03125 -1.171875 -0.03125 -1.5 C -0.03125 -1.828125 -0.015625 -2.3125 0 -2.65625 L -0.3125 -2.65625 C -0.3125 -1.640625 -0.78125 -1.640625 -1.046875 -1.640625 L -6.234375 -1.640625 C -6.1875 -1.6875 -6.171875 -1.6875 -6.109375 -1.734375 L -0.125 -5.796875 C -0.015625 -5.890625 0 -5.90625 0 -5.96875 C 0 -6.109375 -0.0625 -6.109375 -0.265625 -6.109375 L -5.765625 -6.109375 C -6.03125 -6.109375 -6.5 -6.109375 -6.5 -7.140625 L -6.8125 -7.140625 C -6.796875 -6.78125 -6.78125 -6.296875 -6.78125 -5.96875 C -6.78125 -5.640625 -6.796875 -5.15625 -6.8125 -4.8125 L -6.5 -4.8125 C -6.5 -5.828125 -6.03125 -5.828125 -5.765625 -5.828125 L -1.5 -5.828125 Z M -6.671875 -2.3125 \"/>\n",
       "</symbol>\n",
       "<symbol overflow=\"visible\" id=\"glyph-1541790566537166-4-3\">\n",
       "<path style=\"stroke:none;\" d=\"M -3.421875 -1.09375 L -0.75 -1.09375 C -0.3125 -1.09375 -0.3125 -0.984375 -0.3125 -0.3125 L 0 -0.3125 C -0.015625 -0.671875 -0.03125 -1.171875 -0.03125 -1.453125 C -0.03125 -1.703125 -0.015625 -2.21875 0 -2.5625 L -0.3125 -2.5625 C -0.3125 -1.890625 -0.3125 -1.78125 -0.75 -1.78125 L -2.59375 -1.78125 C -3.625 -1.78125 -4.1875 -2.5 -4.1875 -3.125 C -4.1875 -3.765625 -3.65625 -3.875 -3.078125 -3.875 L -0.75 -3.875 C -0.3125 -3.875 -0.3125 -3.765625 -0.3125 -3.09375 L 0 -3.09375 C -0.015625 -3.4375 -0.03125 -3.953125 -0.03125 -4.21875 C -0.03125 -4.46875 -0.015625 -5 0 -5.328125 L -0.3125 -5.328125 C -0.3125 -4.671875 -0.3125 -4.5625 -0.75 -4.5625 L -2.59375 -4.5625 C -3.625 -4.5625 -4.1875 -5.265625 -4.1875 -5.90625 C -4.1875 -6.53125 -3.65625 -6.640625 -3.078125 -6.640625 L -0.75 -6.640625 C -0.3125 -6.640625 -0.3125 -6.53125 -0.3125 -5.859375 L 0 -5.859375 C -0.015625 -6.203125 -0.03125 -6.71875 -0.03125 -6.984375 C -0.03125 -7.25 -0.015625 -7.765625 0 -8.109375 L -0.3125 -8.109375 C -0.3125 -7.59375 -0.3125 -7.34375 -0.609375 -7.328125 L -2.515625 -7.328125 C -3.375 -7.328125 -3.671875 -7.328125 -4.03125 -7.015625 C -4.203125 -6.875 -4.40625 -6.546875 -4.40625 -5.96875 C -4.40625 -5.140625 -3.8125 -4.6875 -3.421875 -4.53125 C -4.296875 -4.390625 -4.40625 -3.65625 -4.40625 -3.203125 C -4.40625 -2.46875 -3.984375 -2 -3.359375 -1.71875 L -4.40625 -1.71875 L -4.296875 -0.3125 L -3.984375 -0.3125 C -3.984375 -1.015625 -3.921875 -1.09375 -3.421875 -1.09375 Z M -3.421875 -1.09375 \"/>\n",
       "</symbol>\n",
       "<symbol overflow=\"visible\" id=\"glyph-1541790566537166-4-4\">\n",
       "<path style=\"stroke:none;\" d=\"M -2.5 -2.875 C -3.265625 -2.875 -4.46875 -2.765625 -5.609375 -2.21875 C -6.828125 -1.625 -7.484375 -0.765625 -7.484375 -0.671875 C -7.484375 -0.609375 -7.4375 -0.5625 -7.375 -0.5625 C -7.34375 -0.5625 -7.328125 -0.5625 -7.140625 -0.75 C -6.15625 -1.734375 -4.578125 -2.296875 -2.5 -2.296875 C -0.78125 -2.296875 0.96875 -1.9375 2.21875 -0.703125 C 2.34375 -0.5625 2.359375 -0.5625 2.390625 -0.5625 C 2.453125 -0.5625 2.5 -0.609375 2.5 -0.671875 C 2.5 -0.765625 1.8125 -1.671875 0.546875 -2.25 C -0.546875 -2.765625 -1.65625 -2.875 -2.5 -2.875 Z M -2.5 -2.875 \"/>\n",
       "</symbol>\n",
       "</g>\n",
       "<clipPath id=\"clip-1541790566537166-1\">\n",
       "  <path d=\"M 0 0 L 241.433594 0 L 241.433594 191.65625 L 0 191.65625 Z M 0 0 \"/>\n",
       "</clipPath>\n",
       "<clipPath id=\"clip-1541790566537166-2\">\n",
       "  <path d=\"M 41.355469 8 L 235 8 L 235 154 L 41.355469 154 Z M 41.355469 8 \"/>\n",
       "</clipPath>\n",
       "<clipPath id=\"clip-1541790566537166-3\">\n",
       "  <path d=\"M 41.355469 13 L 235.625 13 L 235.625 15 L 41.355469 15 Z M 41.355469 13 \"/>\n",
       "</clipPath>\n",
       "</defs>\n",
       "<g id=\"surface1\">\n",
       "<g clip-path=\"url(#clip-1541790566537166-1)\" clip-rule=\"nonzero\">\n",
       "<path style=\" stroke:none;fill-rule:nonzero;fill:rgb(100%,100%,100%);fill-opacity:1;\" d=\"M 0 191.65625 L 242.335938 191.65625 L 242.335938 -0.71875 L 0 -0.71875 Z M 0 191.65625 \"/>\n",
       "</g>\n",
       "<path style=\"fill:none;stroke-width:0.3985;stroke-linecap:butt;stroke-linejoin:miter;stroke:rgb(75%,75%,75%);stroke-opacity:1;stroke-miterlimit:10;\" d=\"M 0.00046875 -13.44975 L 0.00046875 147.944781 M 48.566875 -13.44975 L 48.566875 147.944781 M 97.133281 -13.44975 L 97.133281 147.944781 M 145.703594 -13.44975 L 145.703594 147.944781 M 194.27 -13.44975 L 194.27 147.944781 \" transform=\"matrix(1,0,0,-1,41.355,148.144)\"/>\n",
       "<path style=\"fill:none;stroke-width:0.3985;stroke-linecap:butt;stroke-linejoin:miter;stroke:rgb(75%,75%,75%);stroke-opacity:1;stroke-miterlimit:10;\" d=\"M 0.00046875 17.124469 L 194.27 17.124469 M 0.00046875 56.249469 L 194.27 56.249469 M 0.00046875 95.370563 L 194.27 95.370563 M 0.00046875 134.495563 L 194.27 134.495563 \" transform=\"matrix(1,0,0,-1,41.355,148.144)\"/>\n",
       "<path style=\"fill:none;stroke-width:0.19925;stroke-linecap:butt;stroke-linejoin:miter;stroke:rgb(50%,50%,50%);stroke-opacity:1;stroke-miterlimit:10;\" d=\"M 0.00046875 -13.44975 L 0.00046875 -9.19975 M 48.566875 -13.44975 L 48.566875 -9.19975 M 97.133281 -13.44975 L 97.133281 -9.19975 M 145.703594 -13.44975 L 145.703594 -9.19975 M 194.27 -13.44975 L 194.27 -9.19975 M 0.00046875 147.944781 L 0.00046875 143.694781 M 48.566875 147.944781 L 48.566875 143.694781 M 97.133281 147.944781 L 97.133281 143.694781 M 145.703594 147.944781 L 145.703594 143.694781 M 194.27 147.944781 L 194.27 143.694781 \" transform=\"matrix(1,0,0,-1,41.355,148.144)\"/>\n",
       "<path style=\"fill:none;stroke-width:0.19925;stroke-linecap:butt;stroke-linejoin:miter;stroke:rgb(50%,50%,50%);stroke-opacity:1;stroke-miterlimit:10;\" d=\"M 0.00046875 17.124469 L 4.250469 17.124469 M 0.00046875 56.249469 L 4.250469 56.249469 M 0.00046875 95.370563 L 4.250469 95.370563 M 0.00046875 134.495563 L 4.250469 134.495563 M 194.27 17.124469 L 190.016094 17.124469 M 194.27 56.249469 L 190.016094 56.249469 M 194.27 95.370563 L 190.016094 95.370563 M 194.27 134.495563 L 190.016094 134.495563 \" transform=\"matrix(1,0,0,-1,41.355,148.144)\"/>\n",
       "<path style=\"fill:none;stroke-width:0.3985;stroke-linecap:butt;stroke-linejoin:miter;stroke:rgb(0%,0%,0%);stroke-opacity:1;stroke-miterlimit:10;\" d=\"M 0.00046875 -13.44975 L 0.00046875 147.944781 L 194.27 147.944781 L 194.27 -13.44975 Z M 0.00046875 -13.44975 \" transform=\"matrix(1,0,0,-1,41.355,148.144)\"/>\n",
       "<g style=\"fill:rgb(0%,0%,0%);fill-opacity:1;\">\n",
       "  <use xlink:href=\"#glyph-1541790566537166-0-1\" x=\"38.864\" y=\"171.535\"/>\n",
       "</g>\n",
       "<g style=\"fill:rgb(0%,0%,0%);fill-opacity:1;\">\n",
       "  <use xlink:href=\"#glyph-1541790566537166-0-2\" x=\"87.431\" y=\"171.535\"/>\n",
       "</g>\n",
       "<g style=\"fill:rgb(0%,0%,0%);fill-opacity:1;\">\n",
       "  <use xlink:href=\"#glyph-1541790566537166-0-3\" x=\"135.997\" y=\"171.535\"/>\n",
       "</g>\n",
       "<g style=\"fill:rgb(0%,0%,0%);fill-opacity:1;\">\n",
       "  <use xlink:href=\"#glyph-1541790566537166-0-4\" x=\"184.564\" y=\"171.535\"/>\n",
       "</g>\n",
       "<g style=\"fill:rgb(0%,0%,0%);fill-opacity:1;\">\n",
       "  <use xlink:href=\"#glyph-1541790566537166-0-5\" x=\"233.131\" y=\"171.535\"/>\n",
       "</g>\n",
       "<g style=\"fill:rgb(0%,0%,0%);fill-opacity:1;\">\n",
       "  <use xlink:href=\"#glyph-1541790566537166-1-1\" x=\"20.124\" y=\"133.815\"/>\n",
       "</g>\n",
       "<g style=\"fill:rgb(0%,0%,0%);fill-opacity:1;\">\n",
       "  <use xlink:href=\"#glyph-1541790566537166-0-2\" x=\"27.872\" y=\"133.815\"/>\n",
       "  <use xlink:href=\"#glyph-1541790566537166-0-1\" x=\"32.8533\" y=\"133.815\"/>\n",
       "</g>\n",
       "<g style=\"fill:rgb(0%,0%,0%);fill-opacity:1;\">\n",
       "  <use xlink:href=\"#glyph-1541790566537166-0-1\" x=\"32.854\" y=\"95.107\"/>\n",
       "</g>\n",
       "<g style=\"fill:rgb(0%,0%,0%);fill-opacity:1;\">\n",
       "  <use xlink:href=\"#glyph-1541790566537166-0-2\" x=\"27.872\" y=\"55.983\"/>\n",
       "  <use xlink:href=\"#glyph-1541790566537166-0-1\" x=\"32.8533\" y=\"55.983\"/>\n",
       "</g>\n",
       "<g style=\"fill:rgb(0%,0%,0%);fill-opacity:1;\">\n",
       "  <use xlink:href=\"#glyph-1541790566537166-0-3\" x=\"27.872\" y=\"16.86\"/>\n",
       "  <use xlink:href=\"#glyph-1541790566537166-0-1\" x=\"32.8533\" y=\"16.86\"/>\n",
       "</g>\n",
       "<g clip-path=\"url(#clip-1541790566537166-2)\" clip-rule=\"nonzero\">\n",
       "<path style=\"fill:none;stroke-width:0.3985;stroke-linecap:butt;stroke-linejoin:miter;stroke:rgb(0%,0%,100%);stroke-opacity:1;stroke-miterlimit:10;\" d=\"M 0.00046875 24.519 L 6.477031 18.128375 L 12.949688 12.022906 L 19.42625 14.577594 L 25.902813 31.038531 L 32.379375 48.311969 L 38.852031 60.11275 L 45.328594 63.4565 L 51.805156 58.202594 L 58.281719 43.866656 L 64.758281 37.67525 L 71.230938 50.929156 L 77.7075 68.604938 L 84.184063 89.749469 L 90.660625 112.593219 L 97.133281 134.495563 L 103.609844 122.288531 L 110.086406 60.319781 L 116.562969 12.546344 L 123.035625 -0.00053125 L 129.512188 4.163531 L 135.98875 12.308063 L 142.465313 19.792438 L 148.937969 25.983844 L 155.414531 31.186969 L 161.891094 35.780719 L 168.367656 40.276813 L 174.840313 46.507281 L 181.316875 55.519 L 187.793438 69.620563 \" transform=\"matrix(1,0,0,-1,41.355,148.144)\"/>\n",
       "</g>\n",
       "<g clip-path=\"url(#clip-1541790566537166-3)\" clip-rule=\"nonzero\">\n",
       "<path style=\"fill:none;stroke-width:0.79701;stroke-linecap:butt;stroke-linejoin:miter;stroke:rgb(100%,0%,0%);stroke-opacity:1;stroke-dasharray:2.98883,2.98883;stroke-miterlimit:10;\" d=\"M 0.00046875 134.495563 L 194.27 134.495563 \" transform=\"matrix(1,0,0,-1,41.355,148.144)\"/>\n",
       "</g>\n",
       "<path style=\"fill-rule:nonzero;fill:rgb(0%,0%,79.998779%);fill-opacity:1;stroke-width:0.3985;stroke-linecap:butt;stroke-linejoin:miter;stroke:rgb(0%,0%,100%);stroke-opacity:1;stroke-miterlimit:10;\" d=\"M 1.992656 24.519 C 1.992656 25.620563 1.102031 26.511188 0.00046875 26.511188 C -1.101094 26.511188 -1.991719 25.620563 -1.991719 24.519 C -1.991719 23.417438 -1.101094 22.526813 0.00046875 22.526813 C 1.102031 22.526813 1.992656 23.417438 1.992656 24.519 Z M 1.992656 24.519 \" transform=\"matrix(1,0,0,-1,41.355,148.144)\"/>\n",
       "<path style=\"fill-rule:nonzero;fill:rgb(0%,0%,79.998779%);fill-opacity:1;stroke-width:0.3985;stroke-linecap:butt;stroke-linejoin:miter;stroke:rgb(0%,0%,100%);stroke-opacity:1;stroke-miterlimit:10;\" d=\"M 8.469219 18.128375 C 8.469219 19.229938 7.574688 20.120563 6.477031 20.120563 C 5.375469 20.120563 4.484844 19.229938 4.484844 18.128375 C 4.484844 17.026813 5.375469 16.136188 6.477031 16.136188 C 7.574688 16.136188 8.469219 17.026813 8.469219 18.128375 Z M 8.469219 18.128375 \" transform=\"matrix(1,0,0,-1,41.355,148.144)\"/>\n",
       "<path style=\"fill-rule:nonzero;fill:rgb(0%,0%,79.998779%);fill-opacity:1;stroke-width:0.3985;stroke-linecap:butt;stroke-linejoin:miter;stroke:rgb(0%,0%,100%);stroke-opacity:1;stroke-miterlimit:10;\" d=\"M 14.941875 12.022906 C 14.941875 13.124469 14.05125 14.015094 12.949688 14.015094 C 11.852031 14.015094 10.9575 13.124469 10.9575 12.022906 C 10.9575 10.921344 11.852031 10.030719 12.949688 10.030719 C 14.05125 10.030719 14.941875 10.921344 14.941875 12.022906 Z M 14.941875 12.022906 \" transform=\"matrix(1,0,0,-1,41.355,148.144)\"/>\n",
       "<path style=\"fill-rule:nonzero;fill:rgb(0%,0%,79.998779%);fill-opacity:1;stroke-width:0.3985;stroke-linecap:butt;stroke-linejoin:miter;stroke:rgb(0%,0%,100%);stroke-opacity:1;stroke-miterlimit:10;\" d=\"M 21.418438 14.577594 C 21.418438 15.679156 20.527813 16.569781 19.42625 16.569781 C 18.324688 16.569781 17.434063 15.679156 17.434063 14.577594 C 17.434063 13.476031 18.324688 12.585406 19.42625 12.585406 C 20.527813 12.585406 21.418438 13.476031 21.418438 14.577594 Z M 21.418438 14.577594 \" transform=\"matrix(1,0,0,-1,41.355,148.144)\"/>\n",
       "<path style=\"fill-rule:nonzero;fill:rgb(0%,0%,79.998779%);fill-opacity:1;stroke-width:0.3985;stroke-linecap:butt;stroke-linejoin:miter;stroke:rgb(0%,0%,100%);stroke-opacity:1;stroke-miterlimit:10;\" d=\"M 27.895 31.038531 C 27.895 32.140094 27.004375 33.030719 25.902813 33.030719 C 24.80125 33.030719 23.910625 32.140094 23.910625 31.038531 C 23.910625 29.936969 24.80125 29.046344 25.902813 29.046344 C 27.004375 29.046344 27.895 29.936969 27.895 31.038531 Z M 27.895 31.038531 \" transform=\"matrix(1,0,0,-1,41.355,148.144)\"/>\n",
       "<path style=\"fill-rule:nonzero;fill:rgb(0%,0%,79.998779%);fill-opacity:1;stroke-width:0.3985;stroke-linecap:butt;stroke-linejoin:miter;stroke:rgb(0%,0%,100%);stroke-opacity:1;stroke-miterlimit:10;\" d=\"M 34.371563 48.311969 C 34.371563 49.413531 33.477031 50.304156 32.379375 50.304156 C 31.277813 50.304156 30.387188 49.413531 30.387188 48.311969 C 30.387188 47.210406 31.277813 46.319781 32.379375 46.319781 C 33.477031 46.319781 34.371563 47.210406 34.371563 48.311969 Z M 34.371563 48.311969 \" transform=\"matrix(1,0,0,-1,41.355,148.144)\"/>\n",
       "<path style=\"fill-rule:nonzero;fill:rgb(0%,0%,79.998779%);fill-opacity:1;stroke-width:0.3985;stroke-linecap:butt;stroke-linejoin:miter;stroke:rgb(0%,0%,100%);stroke-opacity:1;stroke-miterlimit:10;\" d=\"M 40.848125 60.11275 C 40.848125 61.210406 39.953594 62.104938 38.852031 62.104938 C 37.754375 62.104938 36.859844 61.210406 36.859844 60.11275 C 36.859844 59.011188 37.754375 58.120563 38.852031 58.120563 C 39.953594 58.120563 40.848125 59.011188 40.848125 60.11275 Z M 40.848125 60.11275 \" transform=\"matrix(1,0,0,-1,41.355,148.144)\"/>\n",
       "<path style=\"fill-rule:nonzero;fill:rgb(0%,0%,79.998779%);fill-opacity:1;stroke-width:0.3985;stroke-linecap:butt;stroke-linejoin:miter;stroke:rgb(0%,0%,100%);stroke-opacity:1;stroke-miterlimit:10;\" d=\"M 47.320781 63.4565 C 47.320781 64.558063 46.430156 65.448688 45.328594 65.448688 C 44.227031 65.448688 43.336406 64.558063 43.336406 63.4565 C 43.336406 62.354938 44.227031 61.464313 45.328594 61.464313 C 46.430156 61.464313 47.320781 62.354938 47.320781 63.4565 Z M 47.320781 63.4565 \" transform=\"matrix(1,0,0,-1,41.355,148.144)\"/>\n",
       "<path style=\"fill-rule:nonzero;fill:rgb(0%,0%,79.998779%);fill-opacity:1;stroke-width:0.3985;stroke-linecap:butt;stroke-linejoin:miter;stroke:rgb(0%,0%,100%);stroke-opacity:1;stroke-miterlimit:10;\" d=\"M 53.797344 58.202594 C 53.797344 59.30025 52.906719 60.194781 51.805156 60.194781 C 50.703594 60.194781 49.812969 59.30025 49.812969 58.202594 C 49.812969 57.101031 50.703594 56.210406 51.805156 56.210406 C 52.906719 56.210406 53.797344 57.101031 53.797344 58.202594 Z M 53.797344 58.202594 \" transform=\"matrix(1,0,0,-1,41.355,148.144)\"/>\n",
       "<path style=\"fill-rule:nonzero;fill:rgb(0%,0%,79.998779%);fill-opacity:1;stroke-width:0.3985;stroke-linecap:butt;stroke-linejoin:miter;stroke:rgb(0%,0%,100%);stroke-opacity:1;stroke-miterlimit:10;\" d=\"M 60.273906 43.866656 C 60.273906 44.968219 59.379375 45.858844 58.281719 45.858844 C 57.180156 45.858844 56.289531 44.968219 56.289531 43.866656 C 56.289531 42.765094 57.180156 41.874469 58.281719 41.874469 C 59.379375 41.874469 60.273906 42.765094 60.273906 43.866656 Z M 60.273906 43.866656 \" transform=\"matrix(1,0,0,-1,41.355,148.144)\"/>\n",
       "<path style=\"fill-rule:nonzero;fill:rgb(0%,0%,79.998779%);fill-opacity:1;stroke-width:0.3985;stroke-linecap:butt;stroke-linejoin:miter;stroke:rgb(0%,0%,100%);stroke-opacity:1;stroke-miterlimit:10;\" d=\"M 66.750469 37.67525 C 66.750469 38.776813 65.855938 39.667438 64.758281 39.667438 C 63.656719 39.667438 62.762188 38.776813 62.762188 37.67525 C 62.762188 36.573688 63.656719 35.683063 64.758281 35.683063 C 65.855938 35.683063 66.750469 36.573688 66.750469 37.67525 Z M 66.750469 37.67525 \" transform=\"matrix(1,0,0,-1,41.355,148.144)\"/>\n",
       "<path style=\"fill-rule:nonzero;fill:rgb(0%,0%,79.998779%);fill-opacity:1;stroke-width:0.3985;stroke-linecap:butt;stroke-linejoin:miter;stroke:rgb(0%,0%,100%);stroke-opacity:1;stroke-miterlimit:10;\" d=\"M 73.223125 50.929156 C 73.223125 52.030719 72.3325 52.921344 71.230938 52.921344 C 70.133281 52.921344 69.23875 52.030719 69.23875 50.929156 C 69.23875 49.827594 70.133281 48.936969 71.230938 48.936969 C 72.3325 48.936969 73.223125 49.827594 73.223125 50.929156 Z M 73.223125 50.929156 \" transform=\"matrix(1,0,0,-1,41.355,148.144)\"/>\n",
       "<path style=\"fill-rule:nonzero;fill:rgb(0%,0%,79.998779%);fill-opacity:1;stroke-width:0.3985;stroke-linecap:butt;stroke-linejoin:miter;stroke:rgb(0%,0%,100%);stroke-opacity:1;stroke-miterlimit:10;\" d=\"M 79.699688 68.604938 C 79.699688 69.7065 78.809063 70.597125 77.7075 70.597125 C 76.605938 70.597125 75.715313 69.7065 75.715313 68.604938 C 75.715313 67.507281 76.605938 66.61275 77.7075 66.61275 C 78.809063 66.61275 79.699688 67.507281 79.699688 68.604938 Z M 79.699688 68.604938 \" transform=\"matrix(1,0,0,-1,41.355,148.144)\"/>\n",
       "<path style=\"fill-rule:nonzero;fill:rgb(0%,0%,79.998779%);fill-opacity:1;stroke-width:0.3985;stroke-linecap:butt;stroke-linejoin:miter;stroke:rgb(0%,0%,100%);stroke-opacity:1;stroke-miterlimit:10;\" d=\"M 86.17625 89.749469 C 86.17625 90.851031 85.285625 91.741656 84.184063 91.741656 C 83.0825 91.741656 82.191875 90.851031 82.191875 89.749469 C 82.191875 88.647906 83.0825 87.757281 84.184063 87.757281 C 85.285625 87.757281 86.17625 88.647906 86.17625 89.749469 Z M 86.17625 89.749469 \" transform=\"matrix(1,0,0,-1,41.355,148.144)\"/>\n",
       "<path style=\"fill-rule:nonzero;fill:rgb(0%,0%,79.998779%);fill-opacity:1;stroke-width:0.3985;stroke-linecap:butt;stroke-linejoin:miter;stroke:rgb(0%,0%,100%);stroke-opacity:1;stroke-miterlimit:10;\" d=\"M 92.652813 112.593219 C 92.652813 113.690875 91.758281 114.585406 90.660625 114.585406 C 89.559063 114.585406 88.664531 113.690875 88.664531 112.593219 C 88.664531 111.491656 89.559063 110.597125 90.660625 110.597125 C 91.758281 110.597125 92.652813 111.491656 92.652813 112.593219 Z M 92.652813 112.593219 \" transform=\"matrix(1,0,0,-1,41.355,148.144)\"/>\n",
       "<path style=\"fill-rule:nonzero;fill:rgb(0%,0%,79.998779%);fill-opacity:1;stroke-width:0.3985;stroke-linecap:butt;stroke-linejoin:miter;stroke:rgb(0%,0%,100%);stroke-opacity:1;stroke-miterlimit:10;\" d=\"M 99.125469 134.495563 C 99.125469 135.597125 98.234844 136.48775 97.133281 136.48775 C 96.035625 136.48775 95.141094 135.597125 95.141094 134.495563 C 95.141094 133.394 96.035625 132.503375 97.133281 132.503375 C 98.234844 132.503375 99.125469 133.394 99.125469 134.495563 Z M 99.125469 134.495563 \" transform=\"matrix(1,0,0,-1,41.355,148.144)\"/>\n",
       "<path style=\"fill-rule:nonzero;fill:rgb(0%,0%,79.998779%);fill-opacity:1;stroke-width:0.3985;stroke-linecap:butt;stroke-linejoin:miter;stroke:rgb(0%,0%,100%);stroke-opacity:1;stroke-miterlimit:10;\" d=\"M 105.602031 122.288531 C 105.602031 123.386188 104.711406 124.280719 103.609844 124.280719 C 102.508281 124.280719 101.617656 123.386188 101.617656 122.288531 C 101.617656 121.186969 102.508281 120.296344 103.609844 120.296344 C 104.711406 120.296344 105.602031 121.186969 105.602031 122.288531 Z M 105.602031 122.288531 \" transform=\"matrix(1,0,0,-1,41.355,148.144)\"/>\n",
       "<path style=\"fill-rule:nonzero;fill:rgb(0%,0%,79.998779%);fill-opacity:1;stroke-width:0.3985;stroke-linecap:butt;stroke-linejoin:miter;stroke:rgb(0%,0%,100%);stroke-opacity:1;stroke-miterlimit:10;\" d=\"M 112.078594 60.319781 C 112.078594 61.421344 111.187969 62.311969 110.086406 62.311969 C 108.984844 62.311969 108.094219 61.421344 108.094219 60.319781 C 108.094219 59.218219 108.984844 58.327594 110.086406 58.327594 C 111.187969 58.327594 112.078594 59.218219 112.078594 60.319781 Z M 112.078594 60.319781 \" transform=\"matrix(1,0,0,-1,41.355,148.144)\"/>\n",
       "<path style=\"fill-rule:nonzero;fill:rgb(0%,0%,79.998779%);fill-opacity:1;stroke-width:0.3985;stroke-linecap:butt;stroke-linejoin:miter;stroke:rgb(0%,0%,100%);stroke-opacity:1;stroke-miterlimit:10;\" d=\"M 118.555156 12.546344 C 118.555156 13.647906 117.660625 14.538531 116.562969 14.538531 C 115.461406 14.538531 114.570781 13.647906 114.570781 12.546344 C 114.570781 11.444781 115.461406 10.554156 116.562969 10.554156 C 117.660625 10.554156 118.555156 11.444781 118.555156 12.546344 Z M 118.555156 12.546344 \" transform=\"matrix(1,0,0,-1,41.355,148.144)\"/>\n",
       "<path style=\"fill-rule:nonzero;fill:rgb(0%,0%,79.998779%);fill-opacity:1;stroke-width:0.3985;stroke-linecap:butt;stroke-linejoin:miter;stroke:rgb(0%,0%,100%);stroke-opacity:1;stroke-miterlimit:10;\" d=\"M 125.027813 -0.00053125 C 125.027813 1.101031 124.137188 1.991656 123.035625 1.991656 C 121.937969 1.991656 121.043438 1.101031 121.043438 -0.00053125 C 121.043438 -1.102094 121.937969 -1.992719 123.035625 -1.992719 C 124.137188 -1.992719 125.027813 -1.102094 125.027813 -0.00053125 Z M 125.027813 -0.00053125 \" transform=\"matrix(1,0,0,-1,41.355,148.144)\"/>\n",
       "<path style=\"fill-rule:nonzero;fill:rgb(0%,0%,79.998779%);fill-opacity:1;stroke-width:0.3985;stroke-linecap:butt;stroke-linejoin:miter;stroke:rgb(0%,0%,100%);stroke-opacity:1;stroke-miterlimit:10;\" d=\"M 131.504375 4.163531 C 131.504375 5.265094 130.61375 6.155719 129.512188 6.155719 C 128.410625 6.155719 127.52 5.265094 127.52 4.163531 C 127.52 3.065875 128.410625 2.171344 129.512188 2.171344 C 130.61375 2.171344 131.504375 3.065875 131.504375 4.163531 Z M 131.504375 4.163531 \" transform=\"matrix(1,0,0,-1,41.355,148.144)\"/>\n",
       "<path style=\"fill-rule:nonzero;fill:rgb(0%,0%,79.998779%);fill-opacity:1;stroke-width:0.3985;stroke-linecap:butt;stroke-linejoin:miter;stroke:rgb(0%,0%,100%);stroke-opacity:1;stroke-miterlimit:10;\" d=\"M 137.980938 12.308063 C 137.980938 13.409625 137.090313 14.30025 135.98875 14.30025 C 134.887188 14.30025 133.996563 13.409625 133.996563 12.308063 C 133.996563 11.2065 134.887188 10.315875 135.98875 10.315875 C 137.090313 10.315875 137.980938 11.2065 137.980938 12.308063 Z M 137.980938 12.308063 \" transform=\"matrix(1,0,0,-1,41.355,148.144)\"/>\n",
       "<path style=\"fill-rule:nonzero;fill:rgb(0%,0%,79.998779%);fill-opacity:1;stroke-width:0.3985;stroke-linecap:butt;stroke-linejoin:miter;stroke:rgb(0%,0%,100%);stroke-opacity:1;stroke-miterlimit:10;\" d=\"M 144.4575 19.792438 C 144.4575 20.894 143.562969 21.784625 142.465313 21.784625 C 141.36375 21.784625 140.473125 20.894 140.473125 19.792438 C 140.473125 18.690875 141.36375 17.80025 142.465313 17.80025 C 143.562969 17.80025 144.4575 18.690875 144.4575 19.792438 Z M 144.4575 19.792438 \" transform=\"matrix(1,0,0,-1,41.355,148.144)\"/>\n",
       "<path style=\"fill-rule:nonzero;fill:rgb(0%,0%,79.998779%);fill-opacity:1;stroke-width:0.3985;stroke-linecap:butt;stroke-linejoin:miter;stroke:rgb(0%,0%,100%);stroke-opacity:1;stroke-miterlimit:10;\" d=\"M 150.934063 25.983844 C 150.934063 27.085406 150.039531 27.976031 148.937969 27.976031 C 147.840313 27.976031 146.945781 27.085406 146.945781 25.983844 C 146.945781 24.882281 147.840313 23.991656 148.937969 23.991656 C 150.039531 23.991656 150.934063 24.882281 150.934063 25.983844 Z M 150.934063 25.983844 \" transform=\"matrix(1,0,0,-1,41.355,148.144)\"/>\n",
       "<path style=\"fill-rule:nonzero;fill:rgb(0%,0%,79.998779%);fill-opacity:1;stroke-width:0.3985;stroke-linecap:butt;stroke-linejoin:miter;stroke:rgb(0%,0%,100%);stroke-opacity:1;stroke-miterlimit:10;\" d=\"M 157.406719 31.186969 C 157.406719 32.284625 156.516094 33.179156 155.414531 33.179156 C 154.312969 33.179156 153.422344 32.284625 153.422344 31.186969 C 153.422344 30.085406 154.312969 29.194781 155.414531 29.194781 C 156.516094 29.194781 157.406719 30.085406 157.406719 31.186969 Z M 157.406719 31.186969 \" transform=\"matrix(1,0,0,-1,41.355,148.144)\"/>\n",
       "<path style=\"fill-rule:nonzero;fill:rgb(0%,0%,79.998779%);fill-opacity:1;stroke-width:0.3985;stroke-linecap:butt;stroke-linejoin:miter;stroke:rgb(0%,0%,100%);stroke-opacity:1;stroke-miterlimit:10;\" d=\"M 163.883281 35.780719 C 163.883281 36.882281 162.992656 37.772906 161.891094 37.772906 C 160.789531 37.772906 159.898906 36.882281 159.898906 35.780719 C 159.898906 34.683063 160.789531 33.788531 161.891094 33.788531 C 162.992656 33.788531 163.883281 34.683063 163.883281 35.780719 Z M 163.883281 35.780719 \" transform=\"matrix(1,0,0,-1,41.355,148.144)\"/>\n",
       "<path style=\"fill-rule:nonzero;fill:rgb(0%,0%,79.998779%);fill-opacity:1;stroke-width:0.3985;stroke-linecap:butt;stroke-linejoin:miter;stroke:rgb(0%,0%,100%);stroke-opacity:1;stroke-miterlimit:10;\" d=\"M 170.359844 40.276813 C 170.359844 41.378375 169.465313 42.272906 168.367656 42.272906 C 167.266094 42.272906 166.375469 41.378375 166.375469 40.276813 C 166.375469 39.179156 167.266094 38.284625 168.367656 38.284625 C 169.465313 38.284625 170.359844 39.179156 170.359844 40.276813 Z M 170.359844 40.276813 \" transform=\"matrix(1,0,0,-1,41.355,148.144)\"/>\n",
       "<path style=\"fill-rule:nonzero;fill:rgb(0%,0%,79.998779%);fill-opacity:1;stroke-width:0.3985;stroke-linecap:butt;stroke-linejoin:miter;stroke:rgb(0%,0%,100%);stroke-opacity:1;stroke-miterlimit:10;\" d=\"M 176.836406 46.507281 C 176.836406 47.608844 175.941875 48.503375 174.840313 48.503375 C 173.742656 48.503375 172.848125 47.608844 172.848125 46.507281 C 172.848125 45.409625 173.742656 44.515094 174.840313 44.515094 C 175.941875 44.515094 176.836406 45.409625 176.836406 46.507281 Z M 176.836406 46.507281 \" transform=\"matrix(1,0,0,-1,41.355,148.144)\"/>\n",
       "<path style=\"fill-rule:nonzero;fill:rgb(0%,0%,79.998779%);fill-opacity:1;stroke-width:0.3985;stroke-linecap:butt;stroke-linejoin:miter;stroke:rgb(0%,0%,100%);stroke-opacity:1;stroke-miterlimit:10;\" d=\"M 183.309063 55.519 C 183.309063 56.620563 182.418438 57.511188 181.316875 57.511188 C 180.219219 57.511188 179.324688 56.620563 179.324688 55.519 C 179.324688 54.417438 180.219219 53.526813 181.316875 53.526813 C 182.418438 53.526813 183.309063 54.417438 183.309063 55.519 Z M 183.309063 55.519 \" transform=\"matrix(1,0,0,-1,41.355,148.144)\"/>\n",
       "<path style=\"fill-rule:nonzero;fill:rgb(0%,0%,79.998779%);fill-opacity:1;stroke-width:0.3985;stroke-linecap:butt;stroke-linejoin:miter;stroke:rgb(0%,0%,100%);stroke-opacity:1;stroke-miterlimit:10;\" d=\"M 189.785625 69.620563 C 189.785625 70.722125 188.895 71.61275 187.793438 71.61275 C 186.691875 71.61275 185.80125 70.722125 185.80125 69.620563 C 185.80125 68.519 186.691875 67.628375 187.793438 67.628375 C 188.895 67.628375 189.785625 68.519 189.785625 69.620563 Z M 189.785625 69.620563 \" transform=\"matrix(1,0,0,-1,41.355,148.144)\"/>\n",
       "<g style=\"fill:rgb(0%,0%,0%);fill-opacity:1;\">\n",
       "  <use xlink:href=\"#glyph-1541790566537166-2-1\" x=\"129.19\" y=\"185.847\"/>\n",
       "</g>\n",
       "<g style=\"fill:rgb(0%,0%,0%);fill-opacity:1;\">\n",
       "  <use xlink:href=\"#glyph-1541790566537166-0-6\" x=\"136.108\" y=\"185.847\"/>\n",
       "  <use xlink:href=\"#glyph-1541790566537166-0-7\" x=\"139.982455\" y=\"185.847\"/>\n",
       "  <use xlink:href=\"#glyph-1541790566537166-0-8\" x=\"143.911705\" y=\"185.847\"/>\n",
       "</g>\n",
       "<g style=\"fill:rgb(0%,0%,0%);fill-opacity:1;\">\n",
       "  <use xlink:href=\"#glyph-1541790566537166-3-1\" x=\"10.793\" y=\"97.06\"/>\n",
       "</g>\n",
       "<g style=\"fill:rgb(0%,0%,0%);fill-opacity:1;\">\n",
       "  <use xlink:href=\"#glyph-1541790566537166-4-1\" x=\"10.793\" y=\"88.257\"/>\n",
       "  <use xlink:href=\"#glyph-1541790566537166-4-2\" x=\"10.793\" y=\"84.382545\"/>\n",
       "  <use xlink:href=\"#glyph-1541790566537166-4-3\" x=\"10.793\" y=\"76.910595\"/>\n",
       "  <use xlink:href=\"#glyph-1541790566537166-4-4\" x=\"10.793\" y=\"68.60876\"/>\n",
       "</g>\n",
       "</g>\n",
       "</svg>\n",
       "\n"
      ],
      "text/plain": [
       "Axis(PGFPlotsX.Options(OrderedCollections.OrderedDict{Any,Any}(\"xmajorgrids\"=>nothing,\"ymajorgrids\"=>nothing,\"xmin\"=>0.0,\"xmax\"=>4.0,\"enlarge_y_limits\"=>nothing,\"xlabel\"=>L\"$t$ (s)\",\"ylabel\"=>L\"$\\tau$ (Nm)\"), true), Any[Plot(false, false, Options(OrderedCollections.OrderedDict{Any,Any}(), false), Table(Options(OrderedCollections.OrderedDict{Any,Any}(), false), TableData([0.0 -8.10982; 0.133333 -9.74348; … ; 3.73333 -0.186252; 3.86667 3.41792], nothing, Int64[], true)), Any[]), HLine(Options(OrderedCollections.OrderedDict{Any,Any}(\"dashed\"=>nothing,\"red\"=>nothing,\"thick\"=>nothing), true), 20.0), HLine(Options(OrderedCollections.OrderedDict{Any,Any}(\"dashed\"=>nothing,\"red\"=>nothing,\"thick\"=>nothing), true), -20.0)])"
      ]
     },
     "execution_count": 16,
     "metadata": {},
     "output_type": "execute_result"
    }
   ],
   "source": [
    "using LaTeXStrings\n",
    "using PGFPlotsX\n",
    "using PlottingTools\n",
    "PGFPlotsX.latexengine!(PGFPlotsX.PDFLATEX);\n",
    "p = timeplot(ts[1 : end - 1], [τ[2] for τ in τs]; ylabel=L\"$\\tau$ (Nm)\", tmax=ts[end])\n",
    "push!(p, @pgf HLine({dashed, red, thick}, upper(effort_bounds(elbow)[1])))\n",
    "push!(p, @pgf HLine({dashed, red, thick}, lower(effort_bounds(elbow)[1])))\n",
    "# save_data && pgfsave(joinpath(datadir, \"tau.pdf\"), p)\n",
    "p"
   ]
  },
  {
   "cell_type": "code",
   "execution_count": 17,
   "metadata": {},
   "outputs": [],
   "source": [
    "copyto!(mvis, x0)"
   ]
  },
  {
   "cell_type": "code",
   "execution_count": 21,
   "metadata": {},
   "outputs": [
    {
     "name": "stderr",
     "output_type": "stream",
     "text": [
      "┌ Warning: `getindex(itp::AbstractInterpolation{T, N}, i::Vararg{Number, N}) where {T, N}` is deprecated, use `itp(i...)` instead.\n",
      "│   caller = #setanimation!#4(::Int64, ::Bool, ::Int64, ::Function, ::MechanismVisualizer{MechanismState{Float64,Float64,Float64,TypeSortedCollections.TypeSortedCollection{Tuple{Array{Joint{Float64,SinCosRevolute{Float64}},1}},1}},Visualizer}, ::Array{Float64,1}, ::Array{Array{Float64,1},1}) at animate.jl:46\n",
      "└ @ MeshCatMechanisms /home/twan/.julia/packages/MeshCatMechanisms/AHOtT/src/animate.jl:46\n"
     ]
    }
   ],
   "source": [
    "setanimation!(mvis, ts, qs)"
   ]
  },
  {
   "cell_type": "code",
   "execution_count": null,
   "metadata": {},
   "outputs": [],
   "source": []
  }
 ],
 "metadata": {
  "kernelspec": {
   "display_name": "Julia 1.0.1",
   "language": "julia",
   "name": "julia-1.0"
  },
  "language_info": {
   "file_extension": ".jl",
   "mimetype": "application/julia",
   "name": "julia",
   "version": "1.0.1"
  }
 },
 "nbformat": 4,
 "nbformat_minor": 2
}
