{
 "cells": [
  {
   "cell_type": "code",
   "execution_count": 6,
   "metadata": {},
   "outputs": [
    {
     "name": "stdout",
     "output_type": "stream",
     "text": [
      "\u001b[32m\u001b[1m  Updating\u001b[22m\u001b[39m registry at `~/.julia/registries/General`\n",
      "\u001b[32m\u001b[1m  Updating\u001b[22m\u001b[39m git-repo `https://github.com/JuliaRegistries/General.git`\n",
      "\u001b[?25l\u001b[2K\u001b[?25h\u001b[32m\u001b[1mPrecompiling\u001b[22m\u001b[39m project...\n"
     ]
    }
   ],
   "source": [
    "using Pkg, Logging\n",
    "Pkg.activate(@__DIR__)\n",
    "push!(LOAD_PATH, joinpath(@__DIR__, \"..\", \"..\"))\n",
    "push!(LOAD_PATH, joinpath(@__DIR__, \"..\", \"..\", \"extras\"))\n",
    "Pkg.instantiate()\n",
    "with_logger(NullLogger()) do\n",
    "    pkg\"precompile\"\n",
    "end"
   ]
  },
  {
   "cell_type": "code",
   "execution_count": 7,
   "metadata": {},
   "outputs": [],
   "source": [
    "using JuMP\n",
    "using LinearAlgebra\n",
    "using MINLPTrajOpt\n",
    "using Rotations\n",
    "using RigidBodyDynamics"
   ]
  },
  {
   "cell_type": "code",
   "execution_count": 8,
   "metadata": {},
   "outputs": [
    {
     "data": {
      "text/plain": [
       "Spanning tree:\n",
       "Vertex: world (root)\n",
       "  Vertex: upper_link, Edge: shoulder\n",
       "    Vertex: lower_link, Edge: elbow\n",
       "No non-tree joints."
      ]
     },
     "execution_count": 8,
     "metadata": {},
     "output_type": "execute_result"
    }
   ],
   "source": [
    "urdf = joinpath(dirname(pathof(RigidBodyDynamics)), \"..\", \"test\", \"urdf\", \"Acrobot.urdf\")\n",
    "mechanism = parse_urdf(urdf)"
   ]
  },
  {
   "cell_type": "code",
   "execution_count": null,
   "metadata": {},
   "outputs": [],
   "source": [
    "using TrigonometricPolynomials\n",
    "using TrigonometricPolynomials: Var"
   ]
  },
  {
   "cell_type": "code",
   "execution_count": null,
   "metadata": {},
   "outputs": [],
   "source": [
    "sincosmap = SinCosDict()\n",
    "q = [TrigPoly{Float64}(Var(\"q$i\"), sincosmap) for i = 1 : num_positions(mechanism)]\n",
    "v = [TrigPoly{Float64}(Var(\"v$i\"), sincosmap) for i = 1 : num_velocities(mechanism)]\n",
    "state = MechanismState(mechanism, q, v)\n",
    "setdirty!(state)"
   ]
  },
  {
   "cell_type": "code",
   "execution_count": null,
   "metadata": {},
   "outputs": [],
   "source": [
    "M = mass_matrix(state)\n",
    "map!(simplify, M.data, M.data)\n",
    "M"
   ]
  },
  {
   "cell_type": "code",
   "execution_count": null,
   "metadata": {},
   "outputs": [],
   "source": [
    "c = dynamics_bias(state)\n",
    "map!(simplify ∘ simplify, c, c)\n",
    "c"
   ]
  },
  {
   "cell_type": "code",
   "execution_count": null,
   "metadata": {},
   "outputs": [],
   "source": [
    "c[1]"
   ]
  },
  {
   "cell_type": "markdown",
   "metadata": {},
   "source": [
    "Design decisions:\n",
    "\n",
    "* `Problem` type:\n",
    "  * stores a `JuMP.Model`\n",
    "  * does all the setup in the constructor\n",
    "  * stores variables/useful subexpressions\n",
    "  * solve method\n",
    "  * methods for accessing results\n",
    "  * use `AxisArrays` to store variables\n",
    "* No separate `Result` type\n",
    "* Implement `TrigPoly` type, run through `mass_matrix` and `dynamics_bias`."
   ]
  },
  {
   "cell_type": "markdown",
   "metadata": {},
   "source": [
    "Is this really needed?"
   ]
  },
  {
   "cell_type": "code",
   "execution_count": null,
   "metadata": {},
   "outputs": [],
   "source": []
  }
 ],
 "metadata": {
  "kernelspec": {
   "display_name": "Julia 1.0.0",
   "language": "julia",
   "name": "julia-1.0"
  },
  "language_info": {
   "file_extension": ".jl",
   "mimetype": "application/julia",
   "name": "julia",
   "version": "1.0.0"
  }
 },
 "nbformat": 4,
 "nbformat_minor": 2
}
