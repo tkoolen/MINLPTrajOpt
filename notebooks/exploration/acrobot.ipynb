{
 "cells": [
  {
   "cell_type": "code",
   "execution_count": 13,
   "metadata": {},
   "outputs": [
    {
     "name": "stdout",
     "output_type": "stream",
     "text": [
      "\u001b[32m\u001b[1m  Updating\u001b[22m\u001b[39m registry at `~/.julia/registries/General`\n",
      "\u001b[32m\u001b[1m  Updating\u001b[22m\u001b[39m git-repo `https://github.com/JuliaRegistries/General.git`\n",
      "\u001b[?25l\u001b[2K\u001b[?25h\u001b[32m\u001b[1mPrecompiling\u001b[22m\u001b[39m project...\n"
     ]
    }
   ],
   "source": [
    "using Pkg, Logging\n",
    "Pkg.activate(@__DIR__)\n",
    "push!(LOAD_PATH, joinpath(@__DIR__, \"..\", \"..\"))\n",
    "push!(LOAD_PATH, joinpath(@__DIR__, \"..\", \"..\", \"extras\"))\n",
    "Pkg.instantiate()\n",
    "with_logger(NullLogger()) do\n",
    "    pkg\"precompile\"\n",
    "end"
   ]
  },
  {
   "cell_type": "code",
   "execution_count": 14,
   "metadata": {},
   "outputs": [],
   "source": [
    "using JuMP\n",
    "using BARON\n",
    "using LinearAlgebra\n",
    "using Parameters\n",
    "using MINLPTrajOpt\n",
    "using MINLPTrajOpt.Acrobot"
   ]
  },
  {
   "cell_type": "code",
   "execution_count": 3,
   "metadata": {},
   "outputs": [],
   "source": [
    "rootdir = joinpath(dirname(pathof(MINLPTrajOpt)), \"..\")\n",
    "save_data = false;"
   ]
  },
  {
   "cell_type": "markdown",
   "metadata": {},
   "source": [
    "The optimizer is clearly exploiting numerical issues due to the primitive integration scheme, injecting energy by searching for instability.\n",
    "\n",
    "TODO:\n",
    "\n",
    "* Running state cost\n",
    "* AxisArrays for sanity\n",
    "* Better discretization of the continuous time dynamics\n",
    "* Think about better integration schemes\n",
    "  * Central differencing for accelerations\n",
    "  * Semi-implicit Euler\n",
    "  * Energy flow constraints\n",
    "  * Variable time steps\n",
    "* Keep track of total energy\n",
    "* Compare to COUENNE"
   ]
  },
  {
   "cell_type": "code",
   "execution_count": 17,
   "metadata": {},
   "outputs": [],
   "source": [
    "solver = BaronSolver(threads=Sys.CPU_THREADS)\n",
    "# solver = CouenneNLSolver()\n",
    "parameters = AcrobotParameters()\n",
    "τmax = 20.0\n",
    "θ10 = 0.1\n",
    "θ1d0 = 0.0\n",
    "θ20 = 0.0\n",
    "θ2d0 = 0.0\n",
    "\n",
    "# N = 40\n",
    "# objectivetype = MinTime()\n",
    "# fixedstep = false\n",
    "# T = nothing\n",
    "\n",
    "N = 40\n",
    "objectivetype = Acrobot.MinEffort()\n",
    "fixedstep = true\n",
    "T = 4.0\n",
    "\n",
    "if fixedstep\n",
    "    Δt = T / N\n",
    "    Δtmin = Δt\n",
    "    Δtmax = Δt\n",
    "else\n",
    "    Δtmin = 0.0\n",
    "    Δtmax = 0.5\n",
    "end\n",
    "\n",
    "problem = AcrobotSwingUpProblem(parameters, (θ10, θ1d0, θ20, θ2d0), solver;\n",
    "    τmax=τmax, Δtmin=Δtmin, Δtmax=Δtmax, T=T, N=N, objectivetype=objectivetype);"
   ]
  },
  {
   "cell_type": "code",
   "execution_count": 19,
   "metadata": {},
   "outputs": [
    {
     "data": {
      "text/latex": [
       "$$ \\begin{alignat*}{1}\\min\\quad & τ_{1}^2 + τ_{2}^2\\\\\n",
       "\\text{Subject to} \\quad & -0.479425538604203 \\leq sΔθ1_{1} \\leq 0.479425538604203\\\\\n",
       " & -cΔθ1_{1} \\leq -0.8775825618903728\\\\\n",
       " & -0.479425538604203 \\leq sΔθ2_{1} \\leq 0.479425538604203\\\\\n",
       " & -cΔθ2_{1} \\leq -0.8775825618903728\\\\\n",
       " & 2 θ1d_{1} - sΔθ1_{1} = 0\\\\\n",
       " & 2 θ1dd_{1} - θ1d_{1} = 0\\\\\n",
       " & 2 θ2d_{1} - sΔθ2_{1} = 0\\\\\n",
       " & 2 θ2dd_{1} - θ2d_{1} = 0\\\\\n",
       " & -0.479425538604203 \\leq sΔθ1_{2} \\leq 0.479425538604203\\\\\n",
       " & -cΔθ1_{2} \\leq -0.8775825618903728\\\\\n",
       " & -0.479425538604203 \\leq sΔθ2_{2} \\leq 0.479425538604203\\\\\n",
       " & -cΔθ2_{2} \\leq -0.8775825618903728\\\\\n",
       " & 2 θ1d_{2} - sΔθ1_{2} = 0\\\\\n",
       " & 2 θ1dd_{2} - θ1d_{2} + θ1d_{1} = 0\\\\\n",
       " & 2 θ2d_{2} - sΔθ2_{2} = 0\\\\\n",
       " & 2 θ2dd_{2} - θ2d_{2} + θ2d_{1} = 0\\\\\n",
       " & sθ1_{2} = 1.2246467991473532e-16\\\\\n",
       " & cθ1_{2} = -1\\\\\n",
       " & θ1d_{2} = 0\\\\\n",
       " & sθ2_{2} = 0\\\\\n",
       " & cθ2_{2} = 1\\\\\n",
       " & θ2d_{2} = 0\\\\\n",
       " & (sθ1_{1} ^ 2.0 + cθ1_{1} ^ 2.0) - 1.0 = 0\\\\\n",
       " & sθ1_{1} - (0.09983341664682815 * cΔθ1_{1} + 0.9950041652780258 * sΔθ1_{1}) = 0\\\\\n",
       " & cθ1_{1} - (0.9950041652780258 * cΔθ1_{1} - 0.09983341664682815 * sΔθ1_{1}) = 0\\\\\n",
       " & (sθ2_{1} ^ 2.0 + cθ2_{1} ^ 2.0) - 1.0 = 0\\\\\n",
       " & sθ2_{1} - (0.0 * cΔθ2_{1} + 1.0 * sΔθ2_{1}) = 0\\\\\n",
       " & cθ2_{1} - (1.0 * cΔθ2_{1} - 0.0 * sΔθ2_{1}) = 0\\\\\n",
       " & ((((subexpression_{1} + subexpression_{2}) - subexpression_{3}) - subexpression_{4}) + subexpression_{5} + subexpression_{6}) - 0.0 = 0\\\\\n",
       " & (subexpression_{7} + subexpression_{8} + subexpression_{9} + subexpression_{6}) - τ_{1} = 0\\\\\n",
       " & (sθ1_{2} ^ 2.0 + cθ1_{2} ^ 2.0) - 1.0 = 0\\\\\n",
       " & sθ1_{2} - (sθ1_{1} * cΔθ1_{2} + cθ1_{1} * sΔθ1_{2}) = 0\\\\\n",
       " & cθ1_{2} - (cθ1_{1} * cΔθ1_{2} - sθ1_{1} * sΔθ1_{2}) = 0\\\\\n",
       " & (sθ2_{2} ^ 2.0 + cθ2_{2} ^ 2.0) - 1.0 = 0\\\\\n",
       " & sθ2_{2} - (sθ2_{1} * cΔθ2_{2} + cθ2_{1} * sΔθ2_{2}) = 0\\\\\n",
       " & cθ2_{2} - (cθ2_{1} * cΔθ2_{2} - sθ2_{1} * sΔθ2_{2}) = 0\\\\\n",
       " & ((((subexpression_{10} + subexpression_{11}) - subexpression_{12}) - subexpression_{13}) + subexpression_{14} + subexpression_{15}) - 0.0 = 0\\\\\n",
       " & (subexpression_{16} + subexpression_{17} + subexpression_{18} + subexpression_{15}) - τ_{2} = 0\\\\\n",
       " & Δt_{1} = 2\\\\\n",
       " & -1 \\leq sΔθ1_{1} \\leq 1\\\\\n",
       " & -1 \\leq cΔθ1_{1} \\leq 1\\\\\n",
       " & -1 \\leq sΔθ2_{1} \\leq 1\\\\\n",
       " & -1 \\leq cΔθ2_{1} \\leq 1\\\\\n",
       " & -1 \\leq sθ1_{1} \\leq 1\\\\\n",
       " & -1 \\leq cθ1_{1} \\leq 1\\\\\n",
       " & -1 \\leq sθ2_{1} \\leq 1\\\\\n",
       " & -1 \\leq cθ2_{1} \\leq 1\\\\\n",
       " & θ1d_{1}\\\\\n",
       " & θ1dd_{1}\\\\\n",
       " & θ2d_{1}\\\\\n",
       " & θ2dd_{1}\\\\\n",
       " & -20 \\leq τ_{1} \\leq 20\\\\\n",
       " & Δt_{2} = 2\\\\\n",
       " & -1 \\leq sΔθ1_{2} \\leq 1\\\\\n",
       " & -1 \\leq cΔθ1_{2} \\leq 1\\\\\n",
       " & -1 \\leq sΔθ2_{2} \\leq 1\\\\\n",
       " & -1 \\leq cΔθ2_{2} \\leq 1\\\\\n",
       " & -1 \\leq sθ1_{2} \\leq 1\\\\\n",
       " & -1 \\leq cθ1_{2} \\leq 1\\\\\n",
       " & -1 \\leq sθ2_{2} \\leq 1\\\\\n",
       " & -1 \\leq cθ2_{2} \\leq 1\\\\\n",
       " & θ1d_{2}\\\\\n",
       " & θ1dd_{2}\\\\\n",
       " & θ2d_{2}\\\\\n",
       " & θ2dd_{2}\\\\\n",
       " & -20 \\leq τ_{2} \\leq 20\\\\\n",
       "subexpression_{1} = \\quad &(3.0 + 2.0 * 1.0 * cθ2_{1}) * θ1dd_{1}\\\\\n",
       "subexpression_{2} = \\quad &(1.0 + 1.0 * cθ2_{1}) * θ2dd_{1}\\\\\n",
       "subexpression_{3} = \\quad &2.0 * 1.0 * sθ2_{1} * θ2d_{1} * θ1d_{1}\\\\\n",
       "subexpression_{4} = \\quad &1.0 * sθ2_{1} * θ2d_{1} ^ 2.0\\\\\n",
       "subexpression_{5} = \\quad &19.62 * sθ1_{1}\\\\\n",
       "subexpression_{6} = \\quad &9.81 * (sθ1_{1} * cθ2_{1} + cθ1_{1} * sθ2_{1})\\\\\n",
       "subexpression_{7} = \\quad &(1.0 + 1.0 * cθ2_{1}) * θ1dd_{1}\\\\\n",
       "subexpression_{8} = \\quad &1.0 * θ2dd_{1}\\\\\n",
       "subexpression_{9} = \\quad &1.0 * sθ2_{1} * θ1d_{1} ^ 2.0\\\\\n",
       "subexpression_{10} = \\quad &(3.0 + 2.0 * 1.0 * cθ2_{2}) * θ1dd_{2}\\\\\n",
       "subexpression_{11} = \\quad &(1.0 + 1.0 * cθ2_{2}) * θ2dd_{2}\\\\\n",
       "subexpression_{12} = \\quad &2.0 * 1.0 * sθ2_{2} * θ2d_{2} * θ1d_{2}\\\\\n",
       "subexpression_{13} = \\quad &1.0 * sθ2_{2} * θ2d_{2} ^ 2.0\\\\\n",
       "subexpression_{14} = \\quad &19.62 * sθ1_{2}\\\\\n",
       "subexpression_{15} = \\quad &9.81 * (sθ1_{2} * cθ2_{2} + cθ1_{2} * sθ2_{2})\\\\\n",
       "subexpression_{16} = \\quad &(1.0 + 1.0 * cθ2_{2}) * θ1dd_{2}\\\\\n",
       "subexpression_{17} = \\quad &1.0 * θ2dd_{2}\\\\\n",
       "subexpression_{18} = \\quad &1.0 * sθ2_{2} * θ1d_{2} ^ 2.0\\\\\n",
       "\\end{alignat*}\n",
       " $$"
      ],
      "text/plain": [
       "Minimization problem with:\n",
       " * 22 linear constraints\n",
       " * 16 nonlinear constraints\n",
       " * 28 variables\n",
       "Solver is Baron"
      ]
     },
     "execution_count": 19,
     "metadata": {},
     "output_type": "execute_result"
    }
   ],
   "source": [
    "problem.model"
   ]
  },
  {
   "cell_type": "code",
   "execution_count": 16,
   "metadata": {
    "scrolled": false
   },
   "outputs": [
    {
     "name": "stdout",
     "output_type": "stream",
     "text": [
      "===========================================================================\n",
      " BARON version 18.8.23. Built: LNX-64 Thu Aug 23 14:46:44 EDT 2018\n",
      "\n",
      " BARON is a product of The Optimization Firm.\n",
      " For information on BARON, see https://minlp.com/about-baron\n",
      " Licensee: MIT at Twan Koolen, tkoolen@mit.edu.\n",
      "\n",
      " If you use this software, please cite publications from\n",
      " https://minlp.com/baron-publications, such as: \n",
      "\n",
      " Khajavirad, A. and N. V. Sahinidis,\n",
      " A hybrid LP/NLP paradigm for global optimization relaxations,\n",
      " Mathematical Programming Computation, 10, 383-421, 2018.\n",
      "===========================================================================\n",
      " This BARON run may utilize the following subsolver(s)\n",
      " For LP/MIP: ILOG CPLEX                                      \n",
      " For NLP: IPOPT, FILTERSD, FILTERSQP\n",
      "===========================================================================\n",
      " Doing local search\n",
      " Unable to find/load CPLEX library libcplex.so: cannot open shared object file: No such file or directory\n",
      " Using CPLEX library libcplex1280.so.\n",
      " Preprocessing found feasible solution with value  3592.94511424     \n",
      " Solving bounding LP\n",
      " Starting multi-start local search\n",
      " Done with local search\n",
      "===========================================================================\n",
      "  Iteration    Open nodes         Time (s)    Lower bound      Upper bound\n",
      "          1             1             8.00      0.00000         3592.95    \n",
      "         14             4            44.00     22.7891          3592.95    \n",
      "         39             0            47.00     3592.59          3592.95    \n",
      "\n",
      " Cleaning up\n",
      "\n",
      "                         *** Normal completion ***            \n",
      "\n",
      " Wall clock time:                    47.00\n",
      " Total CPU time used:                46.70\n",
      "\n",
      " Total no. of BaR iterations:      39\n",
      " Best solution found at node:      -1\n",
      " Max. no. of nodes in memory:       5\n",
      " \n",
      " All done\n",
      "===========================================================================\n"
     ]
    }
   ],
   "source": [
    "status = solve(problem.model)\n",
    "@assert status == :Optimal"
   ]
  },
  {
   "cell_type": "code",
   "execution_count": 6,
   "metadata": {},
   "outputs": [],
   "source": [
    "if save_data\n",
    "    i = 0\n",
    "    while (datadir = joinpath(rootdir, \"data\", \"acrobot\", \"run$i\"); isdir(datadir))\n",
    "        i += 1\n",
    "    end\n",
    "    mkpath(datadir)\n",
    "end\n",
    "if save_data && solver isa BaronSolver\n",
    "    cp(problem.model.internalModel.options[:SumName], joinpath(datadir, \"sum.lst\"))\n",
    "end"
   ]
  },
  {
   "cell_type": "code",
   "execution_count": 7,
   "metadata": {},
   "outputs": [
    {
     "data": {
      "text/plain": [
       "PDFLATEX::LaTeXEngine = 1"
      ]
     },
     "execution_count": 7,
     "metadata": {},
     "output_type": "execute_result"
    }
   ],
   "source": [
    "using PlottingTools\n",
    "using PlottingTools.LaTeXStrings\n",
    "using PlottingTools.PGFPlotsX\n",
    "PGFPlotsX.latexengine!(PGFPlotsX.PDFLATEX)"
   ]
  },
  {
   "cell_type": "code",
   "execution_count": 8,
   "metadata": {},
   "outputs": [
    {
     "ename": "UndefVarError",
     "evalue": "UndefVarError: problem not defined",
     "output_type": "error",
     "traceback": [
      "UndefVarError: problem not defined",
      "",
      "Stacktrace:",
      " [1] top-level scope at In[8]:1"
     ]
    }
   ],
   "source": [
    "t = [0.0; cumsum(getvalue.(problem.Δt))]\n",
    "Δθ1 = atan.(getvalue.(problem.sΔθ1) ./ getvalue.(problem.cΔθ1))\n",
    "θ1 = θ10 .+ [0.0; cumsum(Δθ1)]\n",
    "τ = getvalue.(problem.τ)\n",
    "θ1dd = getvalue.(problem.θ1dd);\n",
    "Δθ2 = atan.(getvalue.(problem.sΔθ2) ./ getvalue.(problem.cΔθ2))\n",
    "θ2 = θ20 .+ [0.0; cumsum(Δθ2)]\n",
    "τ = getvalue.(problem.τ)\n",
    "θ2dd = getvalue.(problem.θ2dd);"
   ]
  },
  {
   "cell_type": "code",
   "execution_count": 9,
   "metadata": {},
   "outputs": [],
   "source": [
    "if save_data\n",
    "    open(joinpath(datadir, \"settings.txt\"), write=true) do io\n",
    "        println(io, \"N = $N\")\n",
    "        println(io, \"θ10 = $θ10\")\n",
    "        println(io, \"θ1d0 = $θ1d0\")\n",
    "        println(io, \"θ20 = $θ20\")\n",
    "        println(io, \"θ2d0 = $θ2d0\")\n",
    "        println(io, \"solver = $solver\")\n",
    "        println(io, \"status = $status\")\n",
    "        println(io, \"solvetime = $(getsolvetime(problem.model))\")\n",
    "        println(io)\n",
    "    end\n",
    "end"
   ]
  },
  {
   "cell_type": "code",
   "execution_count": 10,
   "metadata": {},
   "outputs": [
    {
     "ename": "UndefVarError",
     "evalue": "UndefVarError: t not defined",
     "output_type": "error",
     "traceback": [
      "UndefVarError: t not defined",
      "",
      "Stacktrace:",
      " [1] top-level scope at In[10]:1"
     ]
    }
   ],
   "source": [
    "p = timeplot(t[1 : end - 1], τ; ylabel=L\"$\\tau$ (Nm)\", tmax=t[end])\n",
    "push!(p, @pgf HLine({dashed, red, thick}, τmax))\n",
    "push!(p, @pgf HLine({dashed, red, thick}, -τmax))\n",
    "save_data && pgfsave(joinpath(datadir, \"tau.pdf\"), p)\n",
    "p"
   ]
  },
  {
   "cell_type": "code",
   "execution_count": 11,
   "metadata": {},
   "outputs": [
    {
     "ename": "UndefVarError",
     "evalue": "UndefVarError: t not defined",
     "output_type": "error",
     "traceback": [
      "UndefVarError: t not defined",
      "",
      "Stacktrace:",
      " [1] top-level scope at In[11]:1"
     ]
    }
   ],
   "source": [
    "p = timeplot(t, θ1; ylabel=L\"$\\theta_1$ (rad)\")\n",
    "push!(p, @pgf HLine({dashed, red, thick}, Float64(π)))\n",
    "piticks!(p, 1//4, θ1; axis=:y)\n",
    "save_data && pgfsave(joinpath(datadir, \"theta1.pdf\"), p)\n",
    "p"
   ]
  },
  {
   "cell_type": "code",
   "execution_count": 12,
   "metadata": {},
   "outputs": [
    {
     "ename": "UndefVarError",
     "evalue": "UndefVarError: t not defined",
     "output_type": "error",
     "traceback": [
      "UndefVarError: t not defined",
      "",
      "Stacktrace:",
      " [1] top-level scope at In[12]:1"
     ]
    }
   ],
   "source": [
    "p = timeplot(t, θ2; ylabel=L\"$\\theta_2$ (rad)\")\n",
    "push!(p, @pgf HLine({dashed, red, thick}, Float64(π)))\n",
    "piticks!(p, 1//4, θ2; axis=:y)\n",
    "save_data && pgfsave(joinpath(datadir, \"theta2.pdf\"), p)\n",
    "p"
   ]
  },
  {
   "cell_type": "code",
   "execution_count": null,
   "metadata": {},
   "outputs": [],
   "source": []
  }
 ],
 "metadata": {
  "kernelspec": {
   "display_name": "Julia 1.0.1",
   "language": "julia",
   "name": "julia-1.0"
  },
  "language_info": {
   "file_extension": ".jl",
   "mimetype": "application/julia",
   "name": "julia",
   "version": "1.0.1"
  }
 },
 "nbformat": 4,
 "nbformat_minor": 2
}
