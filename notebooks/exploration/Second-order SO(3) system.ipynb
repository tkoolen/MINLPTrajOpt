{
 "cells": [
  {
   "cell_type": "code",
   "execution_count": 1,
   "metadata": {},
   "outputs": [
    {
     "name": "stdout",
     "output_type": "stream",
     "text": [
      "\u001b[32m\u001b[1m  Updating\u001b[22m\u001b[39m registry at `~/.julia/registries/General`\n",
      "\u001b[32m\u001b[1m  Updating\u001b[22m\u001b[39m git-repo `https://github.com/JuliaRegistries/General.git`\n",
      "\u001b[2K\u001b[?25h[1mFetching:\u001b[22m\u001b[39m [========================================>]  100.0 %.0 %"
     ]
    }
   ],
   "source": [
    "using Pkg\n",
    "Pkg.activate(@__DIR__)\n",
    "push!(LOAD_PATH, joinpath(@__DIR__, \"..\", \"..\"))\n",
    "Pkg.instantiate()"
   ]
  },
  {
   "cell_type": "code",
   "execution_count": 43,
   "metadata": {},
   "outputs": [],
   "source": [
    "using JuMP\n",
    "using BARON\n",
    "using LinearAlgebra\n",
    "using StaticArrays\n",
    "using MINLPTrajOpt\n",
    "using MINLPTrajOpt.SO3\n",
    "using Rotations\n",
    "using Random"
   ]
  },
  {
   "cell_type": "code",
   "execution_count": 44,
   "metadata": {},
   "outputs": [],
   "source": [
    "rootdir = joinpath(dirname(pathof(MINLPTrajOpt)), \"..\")\n",
    "save_data = true;"
   ]
  },
  {
   "cell_type": "code",
   "execution_count": 45,
   "metadata": {},
   "outputs": [],
   "source": [
    "solver = BaronSolver(threads=Sys.CPU_THREADS, EpsA=1e-2, MaxTime=90.0, PrTimeFreq=5.)\n",
    "# solver = CouenneNLSolver()\n",
    "# parameters = SO3Parameters(Ixx = 1., Iyy = 0.7, Izz = 1.4)\n",
    "parameters = SO3Parameters()\n",
    "τmax = 10.0\n",
    "Random.seed!(1)\n",
    "quat0 = rand(Quat)\n",
    "ω0 = zero(SVector{3})\n",
    "\n",
    "N = 15\n",
    "T = 4.0\n",
    "Δt = T / N\n",
    "Δθmax = 0.5\n",
    "\n",
    "problem = SO3Problem(parameters, quat0, ω0, solver; τmax=τmax, Δt=Δt, N=N, Δθmax=Δθmax);"
   ]
  },
  {
   "cell_type": "code",
   "execution_count": 46,
   "metadata": {},
   "outputs": [
    {
     "name": "stdout",
     "output_type": "stream",
     "text": [
      "===========================================================================\n",
      " BARON version 18.8.23. Built: LNX-64 Thu Aug 23 14:46:44 EDT 2018\n",
      "\n",
      " BARON is a product of The Optimization Firm.\n",
      " For information on BARON, see https://minlp.com/about-baron\n",
      " Licensee: MIT at Twan Koolen, tkoolen@mit.edu.\n",
      "\n",
      " If you use this software, please cite publications from\n",
      " https://minlp.com/baron-publications, such as: \n",
      "\n",
      " Khajavirad, A. and N. V. Sahinidis,\n",
      " A hybrid LP/NLP paradigm for global optimization relaxations,\n",
      " Mathematical Programming Computation, 10, 383-421, 2018.\n",
      "===========================================================================\n",
      " This BARON run may utilize the following subsolver(s)\n",
      " For LP/MIP: ILOG CPLEX                                      \n",
      " For NLP: IPOPT, FILTERSD, FILTERSQP\n",
      "===========================================================================\n",
      " Doing local search\n",
      " Unable to find/load CPLEX library libcplex.so: cannot open shared object file: No such file or directory\n",
      " Using CPLEX library libcplex1280.so.\n",
      " Preprocessing found feasible solution with value  4.95778270176     \n",
      " Solving bounding LP\n",
      " Starting multi-start local search\n",
      " Done with local search\n",
      "===========================================================================\n",
      "  Iteration    Open nodes         Time (s)    Lower bound      Upper bound\n",
      "          1+            1            10.00     2.05767          4.95778    \n",
      "*         1             1            15.00     2.13396          3.99902    \n",
      "*         1             1            17.00     2.13396          3.82643    \n",
      "          1+            1            40.00     2.13396          3.82643    \n",
      "          1             1            42.00     2.18875          3.82643    \n",
      "          2+            2            49.00     2.18875          3.82643    \n",
      "          4+            3            55.00     2.18875          3.82643    \n",
      "          5+            4            61.00     2.18875          3.82643    \n",
      "          5+            4            67.00     2.18875          3.82643    \n",
      "          6+            5            73.00     2.18875          3.82643    \n",
      "          7             5            79.00     2.18875          3.82643    \n",
      "         10             7            84.00     2.18875          3.82643    \n",
      "         12             9            90.00     2.18875          3.82643    \n",
      "         13             9            90.00     2.18875          3.82643    \n",
      "\n",
      "                    *** Max. allowable time exceeded ***      \n",
      "\n",
      " Wall clock time:                    90.00\n",
      " Total CPU time used:                90.01\n",
      "\n",
      " Total no. of BaR iterations:      13\n",
      " Best solution found at node:       2\n",
      " Max. no. of nodes in memory:       9\n",
      " \n",
      " All done\n",
      "===========================================================================\n"
     ]
    },
    {
     "name": "stderr",
     "output_type": "stream",
     "text": [
      "┌ Warning: Not solved to optimality, status: UserLimit\n",
      "└ @ JuMP /home/twan/.julia/packages/JuMP/Xvn0n/src/nlp.jl:1283\n"
     ]
    },
    {
     "ename": "AssertionError",
     "evalue": "AssertionError: status == :Optimal",
     "output_type": "error",
     "traceback": [
      "AssertionError: status == :Optimal",
      "",
      "Stacktrace:",
      " [1] top-level scope at In[46]:2"
     ]
    }
   ],
   "source": [
    "status = solve(problem.model)\n",
    "@assert status == :Optimal"
   ]
  },
  {
   "cell_type": "code",
   "execution_count": 47,
   "metadata": {},
   "outputs": [
    {
     "data": {
      "text/plain": [
       "\"/home/twan/code/julia-projects/MINLPTrajOpt/src/../data/so3/run0/baronfiles\""
      ]
     },
     "execution_count": 47,
     "metadata": {},
     "output_type": "execute_result"
    }
   ],
   "source": [
    "if save_data\n",
    "    i = 0\n",
    "    while (datadir = joinpath(rootdir, \"data\", \"so3\", \"run$i\"); isdir(datadir))\n",
    "        i += 1\n",
    "    end\n",
    "    mkpath(datadir)\n",
    "end\n",
    "if save_data && solver isa BaronSolver\n",
    "    cp(dirname(problem.model.internalModel.options[:SumName]), joinpath(datadir, \"baronfiles\"))\n",
    "end"
   ]
  },
  {
   "cell_type": "code",
   "execution_count": 48,
   "metadata": {},
   "outputs": [
    {
     "data": {
      "text/plain": [
       "\"/tmp/tmpoIGZzX/sum.lst\""
      ]
     },
     "execution_count": 48,
     "metadata": {},
     "output_type": "execute_result"
    }
   ],
   "source": [
    "problem.model.internalModel.options[:SumName]"
   ]
  },
  {
   "cell_type": "code",
   "execution_count": 49,
   "metadata": {},
   "outputs": [],
   "source": [
    "t = range(0, T, length=N+1)\n",
    "quats = getvalue.(problem.q)\n",
    "pushfirst!(quats, problem.q0)\n",
    "θs = map(rotation_angle, quats)\n",
    "qs = [[quat.w, quat.x, quat.y, quat.z] for quat in quats]\n",
    "Δquats = getvalue.(problem.Δq)\n",
    "ωs = getvalue.(problem.ω)\n",
    "ωds = getvalue.(problem.ωd)\n",
    "τs = getvalue.(problem.τ);"
   ]
  },
  {
   "cell_type": "code",
   "execution_count": 50,
   "metadata": {},
   "outputs": [
    {
     "name": "stdout",
     "output_type": "stream",
     "text": [
      "Δθ = 0.20665339948287417\n",
      "Δθ = 0.31814552288230596\n",
      "Δθ = 0.3577469264385819\n",
      "Δθ = 0.3475031704332009\n",
      "Δθ = 0.30753463334325554\n",
      "Δθ = 0.2540051797223058\n",
      "Δθ = 0.19821883062477058\n",
      "Δθ = 0.14703159789848513\n",
      "Δθ = 0.10389109571339708\n",
      "Δθ = 0.06993321024943554\n",
      "Δθ = 0.0448818595083009\n",
      "Δθ = 0.02769779886569196\n",
      "Δθ = 0.01700249591236427\n",
      "Δθ = 0.01132276372859275\n",
      "Δθ = 0.009199906487312262\n"
     ]
    }
   ],
   "source": [
    "using Test\n",
    "for Δquat in Δquats\n",
    "    Δθ = 2 * acos(Δquat.w)\n",
    "    @show Δθ\n",
    "    @test Δθ <= Δθmax + 1e-6\n",
    "    @test norm([Δquat.w, Δquat.x, Δquat.y, Δquat.z]) ≈ 1 atol=1e-6\n",
    "end"
   ]
  },
  {
   "cell_type": "code",
   "execution_count": 51,
   "metadata": {},
   "outputs": [],
   "source": [
    "if save_data\n",
    "    open(joinpath(datadir, \"settings.txt\"), write=true) do io\n",
    "        println(io, \"N = $N\")\n",
    "        println(io, \"T = $T\")\n",
    "        println(io, \"τmax = $τmax\")\n",
    "        println(io, \"quat0 = $quat0\")\n",
    "        println(io, \"ω0 = $ω0\")\n",
    "        println(io, \"solver = $solver\")\n",
    "        println(io, \"status = $status\")\n",
    "        println(io, \"objective value = $(getobjectivevalue(problem.model))\")\n",
    "        println(io, \"objective lower bound = $(getobjbound(problem.model))\")\n",
    "        println(io, \"solvetime = $(getsolvetime(problem.model))\")\n",
    "        println(io)\n",
    "    end\n",
    "end"
   ]
  },
  {
   "cell_type": "code",
   "execution_count": 52,
   "metadata": {},
   "outputs": [],
   "source": [
    "include(joinpath(rootdir, \"extras\", \"plotting.jl\"));"
   ]
  },
  {
   "cell_type": "code",
   "execution_count": 53,
   "metadata": {},
   "outputs": [
    {
     "data": {
      "image/png": "[encoded data removed]",
      "image/svg+xml": [
       "<?xml version=\"1.0\" encoding=\"UTF-8\"?>\n",
       "<svg xmlns=\"http://www.w3.org/2000/svg\" xmlns:xlink=\"http://www.w3.org/1999/xlink\" width=\"236.12pt\" height=\"191.656pt\" viewBox=\"0 0 236.12 191.656\" version=\"1.1\">\n",
       "<defs>\n",
       "<g>\n",
       "<symbol overflow=\"visible\" id=\"glyph-1540328653717166-0-0\">\n",
       "<path style=\"stroke:none;\" d=\"\"/>\n",
       "</symbol>\n",
       "<symbol overflow=\"visible\" id=\"glyph-1540328653717166-0-1\">\n",
       "<path style=\"stroke:none;\" d=\"M 4.578125 -3.1875 C 4.578125 -3.984375 4.53125 -4.78125 4.1875 -5.515625 C 3.734375 -6.484375 2.90625 -6.640625 2.5 -6.640625 C 1.890625 -6.640625 1.171875 -6.375 0.75 -5.453125 C 0.4375 -4.765625 0.390625 -3.984375 0.390625 -3.1875 C 0.390625 -2.4375 0.421875 -1.546875 0.84375 -0.78125 C 1.265625 0.015625 2 0.21875 2.484375 0.21875 C 3.015625 0.21875 3.78125 0.015625 4.21875 -0.9375 C 4.53125 -1.625 4.578125 -2.40625 4.578125 -3.1875 Z M 2.484375 0 C 2.09375 0 1.5 -0.25 1.328125 -1.203125 C 1.21875 -1.796875 1.21875 -2.71875 1.21875 -3.3125 C 1.21875 -3.953125 1.21875 -4.609375 1.296875 -5.140625 C 1.484375 -6.328125 2.234375 -6.421875 2.484375 -6.421875 C 2.8125 -6.421875 3.46875 -6.234375 3.65625 -5.25 C 3.765625 -4.6875 3.765625 -3.9375 3.765625 -3.3125 C 3.765625 -2.5625 3.765625 -1.890625 3.65625 -1.25 C 3.5 -0.296875 2.9375 0 2.484375 0 Z M 2.484375 0 \"/>\n",
       "</symbol>\n",
       "<symbol overflow=\"visible\" id=\"glyph-1540328653717166-0-2\">\n",
       "<path style=\"stroke:none;\" d=\"M 2.9375 -6.375 C 2.9375 -6.625 2.9375 -6.640625 2.703125 -6.640625 C 2.078125 -6 1.203125 -6 0.890625 -6 L 0.890625 -5.6875 C 1.09375 -5.6875 1.671875 -5.6875 2.1875 -5.953125 L 2.1875 -0.78125 C 2.1875 -0.421875 2.15625 -0.3125 1.265625 -0.3125 L 0.953125 -0.3125 L 0.953125 0 C 1.296875 -0.03125 2.15625 -0.03125 2.5625 -0.03125 C 2.953125 -0.03125 3.828125 -0.03125 4.171875 0 L 4.171875 -0.3125 L 3.859375 -0.3125 C 2.953125 -0.3125 2.9375 -0.421875 2.9375 -0.78125 Z M 2.9375 -6.375 \"/>\n",
       "</symbol>\n",
       "<symbol overflow=\"visible\" id=\"glyph-1540328653717166-0-3\">\n",
       "<path style=\"stroke:none;\" d=\"M 1.265625 -0.765625 L 2.328125 -1.796875 C 3.875 -3.171875 4.46875 -3.703125 4.46875 -4.703125 C 4.46875 -5.84375 3.578125 -6.640625 2.359375 -6.640625 C 1.234375 -6.640625 0.5 -5.71875 0.5 -4.828125 C 0.5 -4.28125 1 -4.28125 1.03125 -4.28125 C 1.203125 -4.28125 1.546875 -4.390625 1.546875 -4.8125 C 1.546875 -5.0625 1.359375 -5.328125 1.015625 -5.328125 C 0.9375 -5.328125 0.921875 -5.328125 0.890625 -5.3125 C 1.109375 -5.96875 1.65625 -6.328125 2.234375 -6.328125 C 3.140625 -6.328125 3.5625 -5.515625 3.5625 -4.703125 C 3.5625 -3.90625 3.078125 -3.125 2.515625 -2.5 L 0.609375 -0.375 C 0.5 -0.265625 0.5 -0.234375 0.5 0 L 4.203125 0 L 4.46875 -1.734375 L 4.234375 -1.734375 C 4.171875 -1.4375 4.109375 -1 4 -0.84375 C 3.9375 -0.765625 3.28125 -0.765625 3.0625 -0.765625 Z M 1.265625 -0.765625 \"/>\n",
       "</symbol>\n",
       "<symbol overflow=\"visible\" id=\"glyph-1540328653717166-0-4\">\n",
       "<path style=\"stroke:none;\" d=\"M 2.890625 -3.515625 C 3.703125 -3.78125 4.28125 -4.46875 4.28125 -5.265625 C 4.28125 -6.078125 3.40625 -6.640625 2.453125 -6.640625 C 1.453125 -6.640625 0.6875 -6.046875 0.6875 -5.28125 C 0.6875 -4.953125 0.90625 -4.765625 1.203125 -4.765625 C 1.5 -4.765625 1.703125 -4.984375 1.703125 -5.28125 C 1.703125 -5.765625 1.234375 -5.765625 1.09375 -5.765625 C 1.390625 -6.265625 2.046875 -6.390625 2.40625 -6.390625 C 2.828125 -6.390625 3.375 -6.171875 3.375 -5.28125 C 3.375 -5.15625 3.34375 -4.578125 3.09375 -4.140625 C 2.796875 -3.65625 2.453125 -3.625 2.203125 -3.625 C 2.125 -3.609375 1.890625 -3.59375 1.8125 -3.59375 C 1.734375 -3.578125 1.671875 -3.5625 1.671875 -3.46875 C 1.671875 -3.359375 1.734375 -3.359375 1.90625 -3.359375 L 2.34375 -3.359375 C 3.15625 -3.359375 3.53125 -2.6875 3.53125 -1.703125 C 3.53125 -0.34375 2.84375 -0.0625 2.40625 -0.0625 C 1.96875 -0.0625 1.21875 -0.234375 0.875 -0.8125 C 1.21875 -0.765625 1.53125 -0.984375 1.53125 -1.359375 C 1.53125 -1.71875 1.265625 -1.921875 0.984375 -1.921875 C 0.734375 -1.921875 0.421875 -1.78125 0.421875 -1.34375 C 0.421875 -0.4375 1.34375 0.21875 2.4375 0.21875 C 3.65625 0.21875 4.5625 -0.6875 4.5625 -1.703125 C 4.5625 -2.515625 3.921875 -3.296875 2.890625 -3.515625 Z M 2.890625 -3.515625 \"/>\n",
       "</symbol>\n",
       "<symbol overflow=\"visible\" id=\"glyph-1540328653717166-0-5\">\n",
       "<path style=\"stroke:none;\" d=\"M 2.9375 -1.640625 L 2.9375 -0.78125 C 2.9375 -0.421875 2.90625 -0.3125 2.171875 -0.3125 L 1.96875 -0.3125 L 1.96875 0 C 2.375 -0.03125 2.890625 -0.03125 3.3125 -0.03125 C 3.734375 -0.03125 4.25 -0.03125 4.671875 0 L 4.671875 -0.3125 L 4.453125 -0.3125 C 3.71875 -0.3125 3.703125 -0.421875 3.703125 -0.78125 L 3.703125 -1.640625 L 4.6875 -1.640625 L 4.6875 -1.953125 L 3.703125 -1.953125 L 3.703125 -6.484375 C 3.703125 -6.6875 3.703125 -6.75 3.53125 -6.75 C 3.453125 -6.75 3.421875 -6.75 3.34375 -6.625 L 0.28125 -1.953125 L 0.28125 -1.640625 Z M 2.984375 -1.953125 L 0.5625 -1.953125 L 2.984375 -5.671875 Z M 2.984375 -1.953125 \"/>\n",
       "</symbol>\n",
       "<symbol overflow=\"visible\" id=\"glyph-1540328653717166-0-6\">\n",
       "<path style=\"stroke:none;\" d=\"M 3.296875 2.390625 C 3.296875 2.359375 3.296875 2.34375 3.125 2.171875 C 1.890625 0.921875 1.5625 -0.96875 1.5625 -2.5 C 1.5625 -4.234375 1.9375 -5.96875 3.171875 -7.203125 C 3.296875 -7.328125 3.296875 -7.34375 3.296875 -7.375 C 3.296875 -7.453125 3.265625 -7.484375 3.203125 -7.484375 C 3.09375 -7.484375 2.203125 -6.796875 1.609375 -5.53125 C 1.109375 -4.4375 0.984375 -3.328125 0.984375 -2.5 C 0.984375 -1.71875 1.09375 -0.515625 1.640625 0.625 C 2.25 1.84375 3.09375 2.5 3.203125 2.5 C 3.265625 2.5 3.296875 2.46875 3.296875 2.390625 Z M 3.296875 2.390625 \"/>\n",
       "</symbol>\n",
       "<symbol overflow=\"visible\" id=\"glyph-1540328653717166-0-7\">\n",
       "<path style=\"stroke:none;\" d=\"M 2.078125 -1.9375 C 2.296875 -1.890625 3.109375 -1.734375 3.109375 -1.015625 C 3.109375 -0.515625 2.765625 -0.109375 1.984375 -0.109375 C 1.140625 -0.109375 0.78125 -0.671875 0.59375 -1.53125 C 0.5625 -1.65625 0.5625 -1.6875 0.453125 -1.6875 C 0.328125 -1.6875 0.328125 -1.625 0.328125 -1.453125 L 0.328125 -0.125 C 0.328125 0.046875 0.328125 0.109375 0.4375 0.109375 C 0.484375 0.109375 0.5 0.09375 0.6875 -0.09375 C 0.703125 -0.109375 0.703125 -0.125 0.890625 -0.3125 C 1.328125 0.09375 1.78125 0.109375 1.984375 0.109375 C 3.125 0.109375 3.59375 -0.5625 3.59375 -1.28125 C 3.59375 -1.796875 3.296875 -2.109375 3.171875 -2.21875 C 2.84375 -2.546875 2.453125 -2.625 2.03125 -2.703125 C 1.46875 -2.8125 0.8125 -2.9375 0.8125 -3.515625 C 0.8125 -3.875 1.0625 -4.28125 1.921875 -4.28125 C 3.015625 -4.28125 3.078125 -3.375 3.09375 -3.078125 C 3.09375 -2.984375 3.1875 -2.984375 3.203125 -2.984375 C 3.34375 -2.984375 3.34375 -3.03125 3.34375 -3.21875 L 3.34375 -4.234375 C 3.34375 -4.390625 3.34375 -4.46875 3.234375 -4.46875 C 3.1875 -4.46875 3.15625 -4.46875 3.03125 -4.34375 C 3 -4.3125 2.90625 -4.21875 2.859375 -4.1875 C 2.484375 -4.46875 2.078125 -4.46875 1.921875 -4.46875 C 0.703125 -4.46875 0.328125 -3.796875 0.328125 -3.234375 C 0.328125 -2.890625 0.484375 -2.609375 0.75 -2.390625 C 1.078125 -2.140625 1.359375 -2.078125 2.078125 -1.9375 Z M 2.078125 -1.9375 \"/>\n",
       "</symbol>\n",
       "<symbol overflow=\"visible\" id=\"glyph-1540328653717166-0-8\">\n",
       "<path style=\"stroke:none;\" d=\"M 2.875 -2.5 C 2.875 -3.265625 2.765625 -4.46875 2.21875 -5.609375 C 1.625 -6.828125 0.765625 -7.484375 0.671875 -7.484375 C 0.609375 -7.484375 0.5625 -7.4375 0.5625 -7.375 C 0.5625 -7.34375 0.5625 -7.328125 0.75 -7.140625 C 1.734375 -6.15625 2.296875 -4.578125 2.296875 -2.5 C 2.296875 -0.78125 1.9375 0.96875 0.703125 2.21875 C 0.5625 2.34375 0.5625 2.359375 0.5625 2.390625 C 0.5625 2.453125 0.609375 2.5 0.671875 2.5 C 0.765625 2.5 1.671875 1.8125 2.25 0.546875 C 2.765625 -0.546875 2.875 -1.65625 2.875 -2.5 Z M 2.875 -2.5 \"/>\n",
       "</symbol>\n",
       "<symbol overflow=\"visible\" id=\"glyph-1540328653717166-1-0\">\n",
       "<path style=\"stroke:none;\" d=\"\"/>\n",
       "</symbol>\n",
       "<symbol overflow=\"visible\" id=\"glyph-1540328653717166-1-1\">\n",
       "<path style=\"stroke:none;\" d=\"M 2.328125 -4.4375 C 2.328125 -4.625 2.328125 -4.625 2.125 -4.625 C 1.671875 -4.1875 1.046875 -4.1875 0.765625 -4.1875 L 0.765625 -3.9375 C 0.921875 -3.9375 1.390625 -3.9375 1.765625 -4.125 L 1.765625 -0.578125 C 1.765625 -0.34375 1.765625 -0.25 1.078125 -0.25 L 0.8125 -0.25 L 0.8125 0 C 0.9375 0 1.796875 -0.03125 2.046875 -0.03125 C 2.265625 -0.03125 3.140625 0 3.296875 0 L 3.296875 -0.25 L 3.03125 -0.25 C 2.328125 -0.25 2.328125 -0.34375 2.328125 -0.578125 Z M 2.328125 -4.4375 \"/>\n",
       "</symbol>\n",
       "<symbol overflow=\"visible\" id=\"glyph-1540328653717166-1-2\">\n",
       "<path style=\"stroke:none;\" d=\"M 3.6875 -1.140625 L 3.6875 -1.390625 L 2.90625 -1.390625 L 2.90625 -4.5 C 2.90625 -4.640625 2.90625 -4.703125 2.765625 -4.703125 C 2.671875 -4.703125 2.640625 -4.703125 2.578125 -4.59375 L 0.265625 -1.390625 L 0.265625 -1.140625 L 2.328125 -1.140625 L 2.328125 -0.578125 C 2.328125 -0.328125 2.328125 -0.25 1.75 -0.25 L 1.5625 -0.25 L 1.5625 0 C 1.921875 -0.015625 2.359375 -0.03125 2.609375 -0.03125 C 2.875 -0.03125 3.3125 -0.015625 3.671875 0 L 3.671875 -0.25 L 3.484375 -0.25 C 2.90625 -0.25 2.90625 -0.328125 2.90625 -0.578125 L 2.90625 -1.140625 Z M 2.375 -3.9375 L 2.375 -1.390625 L 0.53125 -1.390625 Z M 2.375 -3.9375 \"/>\n",
       "</symbol>\n",
       "<symbol overflow=\"visible\" id=\"glyph-1540328653717166-1-3\">\n",
       "<path style=\"stroke:none;\" d=\"M 3.515625 -1.265625 L 3.28125 -1.265625 C 3.265625 -1.109375 3.1875 -0.703125 3.09375 -0.640625 C 3.046875 -0.59375 2.515625 -0.59375 2.40625 -0.59375 L 1.125 -0.59375 C 1.859375 -1.234375 2.109375 -1.4375 2.515625 -1.765625 C 3.03125 -2.171875 3.515625 -2.609375 3.515625 -3.265625 C 3.515625 -4.109375 2.78125 -4.625 1.890625 -4.625 C 1.03125 -4.625 0.4375 -4.015625 0.4375 -3.375 C 0.4375 -3.03125 0.734375 -2.984375 0.8125 -2.984375 C 0.96875 -2.984375 1.171875 -3.109375 1.171875 -3.359375 C 1.171875 -3.484375 1.125 -3.734375 0.765625 -3.734375 C 0.984375 -4.21875 1.453125 -4.375 1.78125 -4.375 C 2.484375 -4.375 2.84375 -3.828125 2.84375 -3.265625 C 2.84375 -2.65625 2.40625 -2.1875 2.1875 -1.9375 L 0.515625 -0.265625 C 0.4375 -0.203125 0.4375 -0.1875 0.4375 0 L 3.3125 0 Z M 3.515625 -1.265625 \"/>\n",
       "</symbol>\n",
       "<symbol overflow=\"visible\" id=\"glyph-1540328653717166-1-4\">\n",
       "<path style=\"stroke:none;\" d=\"M 1.90625 -2.328125 C 2.453125 -2.328125 2.84375 -1.953125 2.84375 -1.203125 C 2.84375 -0.34375 2.328125 -0.078125 1.9375 -0.078125 C 1.65625 -0.078125 1.03125 -0.15625 0.75 -0.578125 C 1.078125 -0.578125 1.15625 -0.8125 1.15625 -0.96875 C 1.15625 -1.1875 0.984375 -1.34375 0.765625 -1.34375 C 0.578125 -1.34375 0.375 -1.21875 0.375 -0.9375 C 0.375 -0.28125 1.09375 0.140625 1.9375 0.140625 C 2.90625 0.140625 3.578125 -0.515625 3.578125 -1.203125 C 3.578125 -1.75 3.140625 -2.296875 2.375 -2.453125 C 3.09375 -2.71875 3.359375 -3.234375 3.359375 -3.671875 C 3.359375 -4.21875 2.734375 -4.625 1.953125 -4.625 C 1.1875 -4.625 0.59375 -4.25 0.59375 -3.6875 C 0.59375 -3.453125 0.75 -3.328125 0.953125 -3.328125 C 1.171875 -3.328125 1.3125 -3.484375 1.3125 -3.671875 C 1.3125 -3.875 1.171875 -4.03125 0.953125 -4.046875 C 1.203125 -4.34375 1.671875 -4.421875 1.9375 -4.421875 C 2.25 -4.421875 2.6875 -4.265625 2.6875 -3.671875 C 2.6875 -3.375 2.59375 -3.046875 2.40625 -2.84375 C 2.1875 -2.578125 1.984375 -2.5625 1.640625 -2.53125 C 1.46875 -2.515625 1.453125 -2.515625 1.421875 -2.515625 C 1.40625 -2.515625 1.34375 -2.5 1.34375 -2.421875 C 1.34375 -2.328125 1.40625 -2.328125 1.53125 -2.328125 Z M 1.90625 -2.328125 \"/>\n",
       "</symbol>\n",
       "<symbol overflow=\"visible\" id=\"glyph-1540328653717166-2-0\">\n",
       "<path style=\"stroke:none;\" d=\"\"/>\n",
       "</symbol>\n",
       "<symbol overflow=\"visible\" id=\"glyph-1540328653717166-2-1\">\n",
       "<path style=\"stroke:none;\" d=\"M 2.640625 -3.71875 L 3.765625 -3.71875 C 3.4375 -2.25 3.34375 -1.8125 3.34375 -1.140625 C 3.34375 -1 3.34375 -0.734375 3.421875 -0.390625 C 3.53125 0.046875 3.640625 0.109375 3.78125 0.109375 C 3.984375 0.109375 4.203125 -0.0625 4.203125 -0.265625 C 4.203125 -0.328125 4.203125 -0.34375 4.140625 -0.484375 C 3.84375 -1.203125 3.84375 -1.859375 3.84375 -2.140625 C 3.84375 -2.65625 3.921875 -3.203125 4.03125 -3.71875 L 5.15625 -3.71875 C 5.296875 -3.71875 5.65625 -3.71875 5.65625 -4.0625 C 5.65625 -4.296875 5.4375 -4.296875 5.25 -4.296875 L 1.90625 -4.296875 C 1.6875 -4.296875 1.3125 -4.296875 0.875 -3.828125 C 0.53125 -3.4375 0.265625 -2.984375 0.265625 -2.9375 C 0.265625 -2.921875 0.265625 -2.828125 0.390625 -2.828125 C 0.46875 -2.828125 0.484375 -2.875 0.546875 -2.953125 C 1.03125 -3.71875 1.609375 -3.71875 1.8125 -3.71875 L 2.375 -3.71875 C 2.0625 -2.515625 1.53125 -1.3125 1.109375 -0.40625 C 1.03125 -0.25 1.03125 -0.234375 1.03125 -0.15625 C 1.03125 0.03125 1.1875 0.109375 1.3125 0.109375 C 1.609375 0.109375 1.6875 -0.171875 1.8125 -0.53125 C 1.953125 -1 1.953125 -1.015625 2.078125 -1.515625 Z M 2.640625 -3.71875 \"/>\n",
       "</symbol>\n",
       "<symbol overflow=\"visible\" id=\"glyph-1540328653717166-2-2\">\n",
       "<path style=\"stroke:none;\" d=\"M 2.046875 -3.984375 L 2.984375 -3.984375 C 3.1875 -3.984375 3.296875 -3.984375 3.296875 -4.1875 C 3.296875 -4.296875 3.1875 -4.296875 3.015625 -4.296875 L 2.140625 -4.296875 C 2.5 -5.71875 2.546875 -5.90625 2.546875 -5.96875 C 2.546875 -6.140625 2.421875 -6.234375 2.25 -6.234375 C 2.21875 -6.234375 1.9375 -6.234375 1.859375 -5.875 L 1.46875 -4.296875 L 0.53125 -4.296875 C 0.328125 -4.296875 0.234375 -4.296875 0.234375 -4.109375 C 0.234375 -3.984375 0.3125 -3.984375 0.515625 -3.984375 L 1.390625 -3.984375 C 0.671875 -1.15625 0.625 -0.984375 0.625 -0.8125 C 0.625 -0.265625 1 0.109375 1.546875 0.109375 C 2.5625 0.109375 3.125 -1.34375 3.125 -1.421875 C 3.125 -1.53125 3.046875 -1.53125 3.015625 -1.53125 C 2.921875 -1.53125 2.90625 -1.5 2.859375 -1.390625 C 2.4375 -0.34375 1.90625 -0.109375 1.5625 -0.109375 C 1.359375 -0.109375 1.25 -0.234375 1.25 -0.5625 C 1.25 -0.8125 1.28125 -0.875 1.3125 -1.046875 Z M 2.046875 -3.984375 \"/>\n",
       "</symbol>\n",
       "<symbol overflow=\"visible\" id=\"glyph-1540328653717166-3-0\">\n",
       "<path style=\"stroke:none;\" d=\"\"/>\n",
       "</symbol>\n",
       "<symbol overflow=\"visible\" id=\"glyph-1540328653717166-3-1\">\n",
       "<path style=\"stroke:none;\" d=\"M -4.984375 -4.53125 C -5.640625 -4.53125 -7.03125 -4.359375 -7.03125 -3.34375 C -7.03125 -1.953125 -4.21875 -0.421875 -1.9375 -0.421875 C -1 -0.421875 0.109375 -0.703125 0.109375 -1.609375 C 0.109375 -3.015625 -2.75 -4.53125 -4.984375 -4.53125 Z M -3.625 -1.46875 C -4.25 -1.640625 -5.046875 -1.84375 -5.765625 -2.25 C -6.25 -2.515625 -6.8125 -2.875 -6.8125 -3.328125 C -6.8125 -3.8125 -6.171875 -3.875 -5.609375 -3.875 C -5.109375 -3.875 -4.609375 -3.796875 -3.625 -3.5625 Z M -3.296875 -3.46875 C -2.84375 -3.359375 -2 -3.15625 -1.28125 -2.765625 C -0.59375 -2.421875 -0.109375 -2.046875 -0.109375 -1.609375 C -0.109375 -1.28125 -0.40625 -1.078125 -1.328125 -1.078125 C -1.75 -1.078125 -2.328125 -1.140625 -3.296875 -1.390625 Z M -3.296875 -3.46875 \"/>\n",
       "</symbol>\n",
       "<symbol overflow=\"visible\" id=\"glyph-1540328653717166-4-0\">\n",
       "<path style=\"stroke:none;\" d=\"\"/>\n",
       "</symbol>\n",
       "<symbol overflow=\"visible\" id=\"glyph-1540328653717166-4-1\">\n",
       "<path style=\"stroke:none;\" d=\"M -2.515625 -1.109375 C -4 -1.171875 -4.25 -2.015625 -4.25 -2.359375 C -4.25 -3.375 -2.90625 -3.484375 -2.515625 -3.484375 Z M -2.296875 -1.109375 L -2.296875 -3.890625 C -2.296875 -4.109375 -2.296875 -4.140625 -2.515625 -4.140625 C -3.5 -4.140625 -4.46875 -3.59375 -4.46875 -2.359375 C -4.46875 -1.203125 -3.4375 -0.28125 -2.1875 -0.28125 C -0.859375 -0.28125 0.109375 -1.328125 0.109375 -2.46875 C 0.109375 -3.6875 -1 -4.140625 -1.1875 -4.140625 C -1.28125 -4.140625 -1.3125 -4.0625 -1.3125 -4 C -1.3125 -3.921875 -1.25 -3.890625 -1.171875 -3.875 C -0.140625 -3.53125 -0.140625 -2.625 -0.140625 -2.53125 C -0.140625 -2.03125 -0.4375 -1.640625 -0.8125 -1.40625 C -1.28125 -1.109375 -1.9375 -1.109375 -2.296875 -1.109375 Z M -2.296875 -1.109375 \"/>\n",
       "</symbol>\n",
       "<symbol overflow=\"visible\" id=\"glyph-1540328653717166-4-2\">\n",
       "<path style=\"stroke:none;\" d=\"M -3.3125 -1.671875 L -4.40625 -1.671875 L -4.296875 -0.28125 L -3.984375 -0.28125 C -3.984375 -0.984375 -3.921875 -1.0625 -3.421875 -1.0625 L -0.75 -1.0625 C -0.3125 -1.0625 -0.3125 -0.953125 -0.3125 -0.28125 L 0 -0.28125 C -0.015625 -0.671875 -0.03125 -1.140625 -0.03125 -1.421875 C -0.03125 -1.8125 -0.03125 -2.28125 0 -2.6875 L -0.3125 -2.6875 L -0.3125 -2.46875 C -0.3125 -1.734375 -0.421875 -1.71875 -0.78125 -1.71875 L -2.3125 -1.71875 C -3.296875 -1.71875 -4.1875 -2.140625 -4.1875 -2.890625 C -4.1875 -2.953125 -4.1875 -2.984375 -4.171875 -3 C -4.171875 -2.96875 -4.046875 -2.765625 -3.78125 -2.765625 C -3.515625 -2.765625 -3.359375 -2.984375 -3.359375 -3.203125 C -3.359375 -3.375 -3.484375 -3.625 -3.796875 -3.625 C -4.109375 -3.625 -4.40625 -3.3125 -4.40625 -2.890625 C -4.40625 -2.15625 -3.734375 -1.796875 -3.3125 -1.671875 Z M -3.3125 -1.671875 \"/>\n",
       "</symbol>\n",
       "<symbol overflow=\"visible\" id=\"glyph-1540328653717166-4-3\">\n",
       "<path style=\"stroke:none;\" d=\"M -2.140625 -4.6875 C -3.40625 -4.6875 -4.46875 -3.703125 -4.46875 -2.5 C -4.46875 -1.25 -3.375 -0.28125 -2.140625 -0.28125 C -0.84375 -0.28125 0.109375 -1.3125 0.109375 -2.484375 C 0.109375 -3.6875 -0.875 -4.6875 -2.140625 -4.6875 Z M -0.140625 -2.5 C -0.140625 -2.0625 -0.34375 -1.625 -0.8125 -1.359375 C -1.25 -1.109375 -1.859375 -1.109375 -2.21875 -1.109375 C -2.609375 -1.109375 -3.140625 -1.109375 -3.578125 -1.34375 C -4.03125 -1.609375 -4.25 -2.078125 -4.25 -2.484375 C -4.25 -2.921875 -4.03125 -3.34375 -3.59375 -3.609375 C -3.171875 -3.875 -2.59375 -3.875 -2.21875 -3.875 C -1.859375 -3.875 -1.3125 -3.875 -0.875 -3.65625 C -0.421875 -3.421875 -0.140625 -2.984375 -0.140625 -2.5 Z M -0.140625 -2.5 \"/>\n",
       "</symbol>\n",
       "<symbol overflow=\"visible\" id=\"glyph-1540328653717166-4-4\">\n",
       "<path style=\"stroke:none;\" d=\"M 2.390625 -3.296875 C 2.359375 -3.296875 2.34375 -3.296875 2.171875 -3.125 C 0.921875 -1.890625 -0.96875 -1.5625 -2.5 -1.5625 C -4.234375 -1.5625 -5.96875 -1.9375 -7.203125 -3.171875 C -7.328125 -3.296875 -7.34375 -3.296875 -7.375 -3.296875 C -7.453125 -3.296875 -7.484375 -3.265625 -7.484375 -3.203125 C -7.484375 -3.09375 -6.796875 -2.203125 -5.53125 -1.609375 C -4.4375 -1.109375 -3.328125 -0.984375 -2.5 -0.984375 C -1.71875 -0.984375 -0.515625 -1.09375 0.625 -1.640625 C 1.84375 -2.25 2.5 -3.09375 2.5 -3.203125 C 2.5 -3.265625 2.46875 -3.296875 2.390625 -3.296875 Z M 2.390625 -3.296875 \"/>\n",
       "</symbol>\n",
       "<symbol overflow=\"visible\" id=\"glyph-1540328653717166-4-5\">\n",
       "<path style=\"stroke:none;\" d=\"M -0.75 -3.3125 C -0.359375 -3.359375 0.0625 -3.625 0.0625 -4.09375 C 0.0625 -4.3125 -0.078125 -4.921875 -0.890625 -4.921875 L -1.453125 -4.921875 L -1.453125 -4.671875 L -0.890625 -4.671875 C -0.3125 -4.671875 -0.25 -4.421875 -0.25 -4.3125 C -0.25 -3.984375 -0.703125 -3.9375 -0.75 -3.9375 L -2.734375 -3.9375 C -3.15625 -3.9375 -3.546875 -3.9375 -3.921875 -3.578125 C -4.3125 -3.1875 -4.46875 -2.6875 -4.46875 -2.21875 C -4.46875 -1.390625 -4 -0.703125 -3.34375 -0.703125 C -3.046875 -0.703125 -2.875 -0.90625 -2.875 -1.171875 C -2.875 -1.453125 -3.078125 -1.625 -3.328125 -1.625 C -3.453125 -1.625 -3.78125 -1.578125 -3.78125 -1.109375 C -4.140625 -1.390625 -4.25 -1.875 -4.25 -2.1875 C -4.25 -2.6875 -3.859375 -3.25 -2.96875 -3.25 L -2.609375 -3.25 C -2.578125 -2.734375 -2.546875 -2.046875 -2.25 -1.421875 C -1.90625 -0.671875 -1.390625 -0.421875 -0.953125 -0.421875 C -0.140625 -0.421875 0.109375 -1.390625 0.109375 -2.015625 C 0.109375 -2.671875 -0.296875 -3.125 -0.75 -3.3125 Z M -2.390625 -3.25 L -1.390625 -3.25 C -0.453125 -3.25 -0.109375 -2.53125 -0.109375 -2.078125 C -0.109375 -1.59375 -0.453125 -1.1875 -0.953125 -1.1875 C -1.5 -1.1875 -2.328125 -1.609375 -2.390625 -3.25 Z M -2.390625 -3.25 \"/>\n",
       "</symbol>\n",
       "<symbol overflow=\"visible\" id=\"glyph-1540328653717166-4-6\">\n",
       "<path style=\"stroke:none;\" d=\"M -0.546875 -3.78125 L 0.109375 -3.78125 L 0 -5.25 L -0.3125 -5.25 C -0.3125 -4.5625 -0.375 -4.46875 -0.875 -4.46875 L -6.921875 -4.46875 L -6.8125 -3.046875 L -6.5 -3.046875 C -6.5 -3.734375 -6.4375 -3.8125 -5.9375 -3.8125 L -3.78125 -3.8125 C -4.140625 -3.53125 -4.40625 -3.09375 -4.40625 -2.5625 C -4.40625 -1.390625 -3.421875 -0.34375 -2.140625 -0.34375 C -0.875 -0.34375 0.109375 -1.3125 0.109375 -2.453125 C 0.109375 -3.09375 -0.234375 -3.53125 -0.546875 -3.78125 Z M -3.21875 -3.78125 L -1.171875 -3.78125 C -1 -3.78125 -0.984375 -3.78125 -0.8125 -3.671875 C -0.328125 -3.375 -0.109375 -2.9375 -0.109375 -2.5 C -0.109375 -2.046875 -0.375 -1.6875 -0.75 -1.453125 C -1.15625 -1.203125 -1.71875 -1.171875 -2.140625 -1.171875 C -2.5 -1.171875 -3.09375 -1.1875 -3.546875 -1.46875 C -3.859375 -1.6875 -4.1875 -2.0625 -4.1875 -2.609375 C -4.1875 -2.953125 -4.03125 -3.375 -3.59375 -3.671875 C -3.421875 -3.78125 -3.40625 -3.78125 -3.21875 -3.78125 Z M -3.21875 -3.78125 \"/>\n",
       "</symbol>\n",
       "<symbol overflow=\"visible\" id=\"glyph-1540328653717166-4-7\">\n",
       "<path style=\"stroke:none;\" d=\"M -2.5 -2.875 C -3.265625 -2.875 -4.46875 -2.765625 -5.609375 -2.21875 C -6.828125 -1.625 -7.484375 -0.765625 -7.484375 -0.671875 C -7.484375 -0.609375 -7.4375 -0.5625 -7.375 -0.5625 C -7.34375 -0.5625 -7.328125 -0.5625 -7.140625 -0.75 C -6.15625 -1.734375 -4.578125 -2.296875 -2.5 -2.296875 C -0.78125 -2.296875 0.96875 -1.9375 2.21875 -0.703125 C 2.34375 -0.5625 2.359375 -0.5625 2.390625 -0.5625 C 2.453125 -0.5625 2.5 -0.609375 2.5 -0.671875 C 2.5 -0.765625 1.8125 -1.671875 0.546875 -2.25 C -0.546875 -2.765625 -1.65625 -2.875 -2.5 -2.875 Z M -2.5 -2.875 \"/>\n",
       "</symbol>\n",
       "</g>\n",
       "<clipPath id=\"clip-1540328653717166-1\">\n",
       "  <path d=\"M 36.042969 8 L 230.3125 8 L 230.3125 154 L 36.042969 154 Z M 36.042969 8 \"/>\n",
       "</clipPath>\n",
       "<clipPath id=\"clip-1540328653717166-2\">\n",
       "  <path d=\"M 222 136 L 236.121094 136 L 236.121094 153 L 222 153 Z M 222 136 \"/>\n",
       "</clipPath>\n",
       "</defs>\n",
       "<g id=\"surface1\">\n",
       "<path style=\" stroke:none;fill-rule:nonzero;fill:rgb(100%,100%,100%);fill-opacity:1;\" d=\"M 0 191.65625 L 237.003906 191.65625 L 237.003906 -0.71875 L 0 -0.71875 Z M 0 191.65625 \"/>\n",
       "<path style=\"fill:none;stroke-width:0.3985;stroke-linecap:butt;stroke-linejoin:miter;stroke:rgb(75%,75%,75%);stroke-opacity:1;stroke-miterlimit:10;\" d=\"M 0.00096875 -13.45175 L 0.00096875 147.946687 M 48.567375 -13.45175 L 48.567375 147.946687 M 97.133781 -13.45175 L 97.133781 147.946687 M 145.700187 -13.45175 L 145.700187 147.946687 M 194.2705 -13.45175 L 194.2705 147.946687 \" transform=\"matrix(1,0,0,-1,36.042,148.142)\"/>\n",
       "<path style=\"fill:none;stroke-width:0.3985;stroke-linecap:butt;stroke-linejoin:miter;stroke:rgb(75%,75%,75%);stroke-opacity:1;stroke-miterlimit:10;\" d=\"M 0.00096875 -0.428313 L 194.2705 -0.428313 M 0.00096875 44.700594 L 194.2705 44.700594 M 0.00096875 89.8295 L 194.2705 89.8295 M 0.00096875 134.958406 L 194.2705 134.958406 \" transform=\"matrix(1,0,0,-1,36.042,148.142)\"/>\n",
       "<path style=\"fill:none;stroke-width:0.19925;stroke-linecap:butt;stroke-linejoin:miter;stroke:rgb(50%,50%,50%);stroke-opacity:1;stroke-miterlimit:10;\" d=\"M 0.00096875 -13.45175 L 0.00096875 -9.197844 M 48.567375 -13.45175 L 48.567375 -9.197844 M 97.133781 -13.45175 L 97.133781 -9.197844 M 145.700187 -13.45175 L 145.700187 -9.197844 M 194.2705 -13.45175 L 194.2705 -9.197844 M 0.00096875 147.946687 L 0.00096875 143.692781 M 48.567375 147.946687 L 48.567375 143.692781 M 97.133781 147.946687 L 97.133781 143.692781 M 145.700187 147.946687 L 145.700187 143.692781 M 194.2705 147.946687 L 194.2705 143.692781 \" transform=\"matrix(1,0,0,-1,36.042,148.142)\"/>\n",
       "<path style=\"fill:none;stroke-width:0.19925;stroke-linecap:butt;stroke-linejoin:miter;stroke:rgb(50%,50%,50%);stroke-opacity:1;stroke-miterlimit:10;\" d=\"M 0.00096875 -0.428313 L 4.250969 -0.428313 M 0.00096875 44.700594 L 4.250969 44.700594 M 0.00096875 89.8295 L 4.250969 89.8295 M 0.00096875 134.958406 L 4.250969 134.958406 M 194.2705 -0.428313 L 190.016594 -0.428313 M 194.2705 44.700594 L 190.016594 44.700594 M 194.2705 89.8295 L 190.016594 89.8295 M 194.2705 134.958406 L 190.016594 134.958406 \" transform=\"matrix(1,0,0,-1,36.042,148.142)\"/>\n",
       "<path style=\"fill:none;stroke-width:0.3985;stroke-linecap:butt;stroke-linejoin:miter;stroke:rgb(0%,0%,0%);stroke-opacity:1;stroke-miterlimit:10;\" d=\"M 0.00096875 -13.45175 L 0.00096875 147.946687 L 194.2705 147.946687 L 194.2705 -13.45175 Z M 0.00096875 -13.45175 \" transform=\"matrix(1,0,0,-1,36.042,148.142)\"/>\n",
       "<g style=\"fill:rgb(0%,0%,0%);fill-opacity:1;\">\n",
       "  <use xlink:href=\"#glyph-1540328653717166-0-1\" x=\"33.551\" y=\"171.533\"/>\n",
       "</g>\n",
       "<g style=\"fill:rgb(0%,0%,0%);fill-opacity:1;\">\n",
       "  <use xlink:href=\"#glyph-1540328653717166-0-2\" x=\"82.118\" y=\"171.533\"/>\n",
       "</g>\n",
       "<g style=\"fill:rgb(0%,0%,0%);fill-opacity:1;\">\n",
       "  <use xlink:href=\"#glyph-1540328653717166-0-3\" x=\"130.685\" y=\"171.533\"/>\n",
       "</g>\n",
       "<g style=\"fill:rgb(0%,0%,0%);fill-opacity:1;\">\n",
       "  <use xlink:href=\"#glyph-1540328653717166-0-4\" x=\"179.251\" y=\"171.533\"/>\n",
       "</g>\n",
       "<g style=\"fill:rgb(0%,0%,0%);fill-opacity:1;\">\n",
       "  <use xlink:href=\"#glyph-1540328653717166-0-5\" x=\"227.818\" y=\"171.533\"/>\n",
       "</g>\n",
       "<g style=\"fill:rgb(0%,0%,0%);fill-opacity:1;\">\n",
       "  <use xlink:href=\"#glyph-1540328653717166-0-1\" x=\"27.541\" y=\"151.78\"/>\n",
       "</g>\n",
       "<g style=\"fill:rgb(0%,0%,0%);fill-opacity:1;\">\n",
       "  <use xlink:href=\"#glyph-1540328653717166-1-1\" x=\"21.319\" y=\"102.009\"/>\n",
       "</g>\n",
       "<path style=\"fill:none;stroke-width:0.398;stroke-linecap:butt;stroke-linejoin:miter;stroke:rgb(0%,0%,0%);stroke-opacity:1;stroke-miterlimit:10;\" d=\"M 0.0013125 -0.00040625 L 3.970062 -0.00040625 \" transform=\"matrix(1,0,0,-1,21.319,103.441)\"/>\n",
       "<g style=\"fill:rgb(0%,0%,0%);fill-opacity:1;\">\n",
       "  <use xlink:href=\"#glyph-1540328653717166-1-2\" x=\"21.319\" y=\"109.368\"/>\n",
       "</g>\n",
       "<g style=\"fill:rgb(0%,0%,0%);fill-opacity:1;\">\n",
       "  <use xlink:href=\"#glyph-1540328653717166-2-1\" x=\"26.486\" y=\"105.932\"/>\n",
       "</g>\n",
       "<g style=\"fill:rgb(0%,0%,0%);fill-opacity:1;\">\n",
       "  <use xlink:href=\"#glyph-1540328653717166-1-1\" x=\"21.319\" y=\"56.881\"/>\n",
       "</g>\n",
       "<path style=\"fill:none;stroke-width:0.398;stroke-linecap:butt;stroke-linejoin:miter;stroke:rgb(0%,0%,0%);stroke-opacity:1;stroke-miterlimit:10;\" d=\"M 0.0013125 0.0005 L 3.970062 0.0005 \" transform=\"matrix(1,0,0,-1,21.319,58.313)\"/>\n",
       "<g style=\"fill:rgb(0%,0%,0%);fill-opacity:1;\">\n",
       "  <use xlink:href=\"#glyph-1540328653717166-1-3\" x=\"21.319\" y=\"64.239\"/>\n",
       "</g>\n",
       "<g style=\"fill:rgb(0%,0%,0%);fill-opacity:1;\">\n",
       "  <use xlink:href=\"#glyph-1540328653717166-2-1\" x=\"26.486\" y=\"60.803\"/>\n",
       "</g>\n",
       "<g style=\"fill:rgb(0%,0%,0%);fill-opacity:1;\">\n",
       "  <use xlink:href=\"#glyph-1540328653717166-1-4\" x=\"21.319\" y=\"11.752\"/>\n",
       "</g>\n",
       "<path style=\"fill:none;stroke-width:0.398;stroke-linecap:butt;stroke-linejoin:miter;stroke:rgb(0%,0%,0%);stroke-opacity:1;stroke-miterlimit:10;\" d=\"M 0.0013125 0.00040625 L 3.970062 0.00040625 \" transform=\"matrix(1,0,0,-1,21.319,13.184)\"/>\n",
       "<g style=\"fill:rgb(0%,0%,0%);fill-opacity:1;\">\n",
       "  <use xlink:href=\"#glyph-1540328653717166-1-2\" x=\"21.319\" y=\"19.11\"/>\n",
       "</g>\n",
       "<g style=\"fill:rgb(0%,0%,0%);fill-opacity:1;\">\n",
       "  <use xlink:href=\"#glyph-1540328653717166-2-1\" x=\"26.486\" y=\"15.675\"/>\n",
       "</g>\n",
       "<g clip-path=\"url(#clip-1540328653717166-1)\" clip-rule=\"nonzero\">\n",
       "<path style=\"fill:none;stroke-width:0.3985;stroke-linecap:butt;stroke-linejoin:miter;stroke:rgb(0%,0%,100%);stroke-opacity:1;stroke-miterlimit:10;\" d=\"M 0.00096875 134.493562 L 12.950187 122.618562 L 25.903312 104.341219 L 38.852531 83.782625 L 51.805656 63.813875 L 64.754875 46.145906 L 77.708 31.54825 L 90.657219 20.161531 L 103.610344 11.712312 L 116.559562 5.739656 L 129.512687 1.724031 L 142.465812 0.001375 L 155.415031 1.591219 L 168.368156 2.567781 L 181.317375 3.220125 L 194.2705 3.747469 \" transform=\"matrix(1,0,0,-1,36.042,148.142)\"/>\n",
       "</g>\n",
       "<path style=\"fill-rule:nonzero;fill:rgb(0%,0%,79.998779%);fill-opacity:1;stroke-width:0.3985;stroke-linecap:butt;stroke-linejoin:miter;stroke:rgb(0%,0%,100%);stroke-opacity:1;stroke-miterlimit:10;\" d=\"M 1.993156 134.493562 C 1.993156 135.595125 1.098625 136.48575 0.00096875 136.48575 C -1.100594 136.48575 -1.991219 135.595125 -1.991219 134.493562 C -1.991219 133.395906 -1.100594 132.501375 0.00096875 132.501375 C 1.098625 132.501375 1.993156 133.395906 1.993156 134.493562 Z M 1.993156 134.493562 \" transform=\"matrix(1,0,0,-1,36.042,148.142)\"/>\n",
       "<path style=\"fill-rule:nonzero;fill:rgb(0%,0%,79.998779%);fill-opacity:1;stroke-width:0.3985;stroke-linecap:butt;stroke-linejoin:miter;stroke:rgb(0%,0%,100%);stroke-opacity:1;stroke-miterlimit:10;\" d=\"M 14.942375 122.618562 C 14.942375 123.720125 14.05175 124.614656 12.950187 124.614656 C 11.852531 124.614656 10.958 123.720125 10.958 122.618562 C 10.958 121.520906 11.852531 120.626375 12.950187 120.626375 C 14.05175 120.626375 14.942375 121.520906 14.942375 122.618562 Z M 14.942375 122.618562 \" transform=\"matrix(1,0,0,-1,36.042,148.142)\"/>\n",
       "<path style=\"fill-rule:nonzero;fill:rgb(0%,0%,79.998779%);fill-opacity:1;stroke-width:0.3985;stroke-linecap:butt;stroke-linejoin:miter;stroke:rgb(0%,0%,100%);stroke-opacity:1;stroke-miterlimit:10;\" d=\"M 27.8955 104.341219 C 27.8955 105.438875 27.004875 106.333406 25.903312 106.333406 C 24.80175 106.333406 23.911125 105.438875 23.911125 104.341219 C 23.911125 103.239656 24.80175 102.349031 25.903312 102.349031 C 27.004875 102.349031 27.8955 103.239656 27.8955 104.341219 Z M 27.8955 104.341219 \" transform=\"matrix(1,0,0,-1,36.042,148.142)\"/>\n",
       "<path style=\"fill-rule:nonzero;fill:rgb(0%,0%,79.998779%);fill-opacity:1;stroke-width:0.3985;stroke-linecap:butt;stroke-linejoin:miter;stroke:rgb(0%,0%,100%);stroke-opacity:1;stroke-miterlimit:10;\" d=\"M 40.844719 83.782625 C 40.844719 84.884187 39.954094 85.774812 38.852531 85.774812 C 37.754875 85.774812 36.860344 84.884187 36.860344 83.782625 C 36.860344 82.681062 37.754875 81.790437 38.852531 81.790437 C 39.954094 81.790437 40.844719 82.681062 40.844719 83.782625 Z M 40.844719 83.782625 \" transform=\"matrix(1,0,0,-1,36.042,148.142)\"/>\n",
       "<path style=\"fill-rule:nonzero;fill:rgb(0%,0%,79.998779%);fill-opacity:1;stroke-width:0.3985;stroke-linecap:butt;stroke-linejoin:miter;stroke:rgb(0%,0%,100%);stroke-opacity:1;stroke-miterlimit:10;\" d=\"M 53.797844 63.813875 C 53.797844 64.915437 52.907219 65.809969 51.805656 65.809969 C 50.704094 65.809969 49.813469 64.915437 49.813469 63.813875 C 49.813469 62.716219 50.704094 61.821687 51.805656 61.821687 C 52.907219 61.821687 53.797844 62.716219 53.797844 63.813875 Z M 53.797844 63.813875 \" transform=\"matrix(1,0,0,-1,36.042,148.142)\"/>\n",
       "<path style=\"fill-rule:nonzero;fill:rgb(0%,0%,79.998779%);fill-opacity:1;stroke-width:0.3985;stroke-linecap:butt;stroke-linejoin:miter;stroke:rgb(0%,0%,100%);stroke-opacity:1;stroke-miterlimit:10;\" d=\"M 66.747062 46.145906 C 66.747062 47.243562 65.856437 48.138094 64.754875 48.138094 C 63.657219 48.138094 62.762687 47.243562 62.762687 46.145906 C 62.762687 45.044344 63.657219 44.153719 64.754875 44.153719 C 65.856437 44.153719 66.747062 45.044344 66.747062 46.145906 Z M 66.747062 46.145906 \" transform=\"matrix(1,0,0,-1,36.042,148.142)\"/>\n",
       "<path style=\"fill-rule:nonzero;fill:rgb(0%,0%,79.998779%);fill-opacity:1;stroke-width:0.3985;stroke-linecap:butt;stroke-linejoin:miter;stroke:rgb(0%,0%,100%);stroke-opacity:1;stroke-miterlimit:10;\" d=\"M 79.700187 31.54825 C 79.700187 32.649812 78.809562 33.540437 77.708 33.540437 C 76.606437 33.540437 75.715812 32.649812 75.715812 31.54825 C 75.715812 30.450594 76.606437 29.556062 77.708 29.556062 C 78.809562 29.556062 79.700187 30.450594 79.700187 31.54825 Z M 79.700187 31.54825 \" transform=\"matrix(1,0,0,-1,36.042,148.142)\"/>\n",
       "<path style=\"fill-rule:nonzero;fill:rgb(0%,0%,79.998779%);fill-opacity:1;stroke-width:0.3985;stroke-linecap:butt;stroke-linejoin:miter;stroke:rgb(0%,0%,100%);stroke-opacity:1;stroke-miterlimit:10;\" d=\"M 92.653312 20.161531 C 92.653312 21.259187 91.758781 22.153719 90.657219 22.153719 C 89.559562 22.153719 88.665031 21.259187 88.665031 20.161531 C 88.665031 19.059969 89.559562 18.165437 90.657219 18.165437 C 91.758781 18.165437 92.653312 19.059969 92.653312 20.161531 Z M 92.653312 20.161531 \" transform=\"matrix(1,0,0,-1,36.042,148.142)\"/>\n",
       "<path style=\"fill-rule:nonzero;fill:rgb(0%,0%,79.998779%);fill-opacity:1;stroke-width:0.3985;stroke-linecap:butt;stroke-linejoin:miter;stroke:rgb(0%,0%,100%);stroke-opacity:1;stroke-miterlimit:10;\" d=\"M 105.602531 11.712312 C 105.602531 12.809969 104.711906 13.7045 103.610344 13.7045 C 102.508781 13.7045 101.618156 12.809969 101.618156 11.712312 C 101.618156 10.61075 102.508781 9.720125 103.610344 9.720125 C 104.711906 9.720125 105.602531 10.61075 105.602531 11.712312 Z M 105.602531 11.712312 \" transform=\"matrix(1,0,0,-1,36.042,148.142)\"/>\n",
       "<path style=\"fill-rule:nonzero;fill:rgb(0%,0%,79.998779%);fill-opacity:1;stroke-width:0.3985;stroke-linecap:butt;stroke-linejoin:miter;stroke:rgb(0%,0%,100%);stroke-opacity:1;stroke-miterlimit:10;\" d=\"M 118.555656 5.739656 C 118.555656 6.841219 117.661125 7.73575 116.559562 7.73575 C 115.461906 7.73575 114.567375 6.841219 114.567375 5.739656 C 114.567375 4.642 115.461906 3.747469 116.559562 3.747469 C 117.661125 3.747469 118.555656 4.642 118.555656 5.739656 Z M 118.555656 5.739656 \" transform=\"matrix(1,0,0,-1,36.042,148.142)\"/>\n",
       "<path style=\"fill-rule:nonzero;fill:rgb(0%,0%,79.998779%);fill-opacity:1;stroke-width:0.3985;stroke-linecap:butt;stroke-linejoin:miter;stroke:rgb(0%,0%,100%);stroke-opacity:1;stroke-miterlimit:10;\" d=\"M 131.504875 1.724031 C 131.504875 2.825594 130.61425 3.716219 129.512687 3.716219 C 128.411125 3.716219 127.5205 2.825594 127.5205 1.724031 C 127.5205 0.622469 128.411125 -0.268156 129.512687 -0.268156 C 130.61425 -0.268156 131.504875 0.622469 131.504875 1.724031 Z M 131.504875 1.724031 \" transform=\"matrix(1,0,0,-1,36.042,148.142)\"/>\n",
       "<path style=\"fill-rule:nonzero;fill:rgb(0%,0%,79.998779%);fill-opacity:1;stroke-width:0.3985;stroke-linecap:butt;stroke-linejoin:miter;stroke:rgb(0%,0%,100%);stroke-opacity:1;stroke-miterlimit:10;\" d=\"M 144.458 0.001375 C 144.458 1.099031 143.563469 1.993562 142.465812 1.993562 C 141.36425 1.993562 140.469719 1.099031 140.469719 0.001375 C 140.469719 -1.100188 141.36425 -1.990813 142.465812 -1.990813 C 143.563469 -1.990813 144.458 -1.100188 144.458 0.001375 Z M 144.458 0.001375 \" transform=\"matrix(1,0,0,-1,36.042,148.142)\"/>\n",
       "<path style=\"fill-rule:nonzero;fill:rgb(0%,0%,79.998779%);fill-opacity:1;stroke-width:0.3985;stroke-linecap:butt;stroke-linejoin:miter;stroke:rgb(0%,0%,100%);stroke-opacity:1;stroke-miterlimit:10;\" d=\"M 157.407219 1.591219 C 157.407219 2.692781 156.516594 3.583406 155.415031 3.583406 C 154.313469 3.583406 153.422844 2.692781 153.422844 1.591219 C 153.422844 0.489656 154.313469 -0.400969 155.415031 -0.400969 C 156.516594 -0.400969 157.407219 0.489656 157.407219 1.591219 Z M 157.407219 1.591219 \" transform=\"matrix(1,0,0,-1,36.042,148.142)\"/>\n",
       "<path style=\"fill-rule:nonzero;fill:rgb(0%,0%,79.998779%);fill-opacity:1;stroke-width:0.3985;stroke-linecap:butt;stroke-linejoin:miter;stroke:rgb(0%,0%,100%);stroke-opacity:1;stroke-miterlimit:10;\" d=\"M 170.360344 2.567781 C 170.360344 3.669344 169.465812 4.559969 168.368156 4.559969 C 167.266594 4.559969 166.372062 3.669344 166.372062 2.567781 C 166.372062 1.466219 167.266594 0.575594 168.368156 0.575594 C 169.465812 0.575594 170.360344 1.466219 170.360344 2.567781 Z M 170.360344 2.567781 \" transform=\"matrix(1,0,0,-1,36.042,148.142)\"/>\n",
       "<path style=\"fill-rule:nonzero;fill:rgb(0%,0%,79.998779%);fill-opacity:1;stroke-width:0.3985;stroke-linecap:butt;stroke-linejoin:miter;stroke:rgb(0%,0%,100%);stroke-opacity:1;stroke-miterlimit:10;\" d=\"M 183.309562 3.220125 C 183.309562 4.317781 182.418937 5.212312 181.317375 5.212312 C 180.215812 5.212312 179.325187 4.317781 179.325187 3.220125 C 179.325187 2.118562 180.215812 1.227937 181.317375 1.227937 C 182.418937 1.227937 183.309562 2.118562 183.309562 3.220125 Z M 183.309562 3.220125 \" transform=\"matrix(1,0,0,-1,36.042,148.142)\"/>\n",
       "<path style=\" stroke:none;fill-rule:nonzero;fill:rgb(0%,0%,79.998779%);fill-opacity:1;\" d=\"M 232.304688 144.394531 C 232.304688 143.292969 231.410156 142.402344 230.3125 142.402344 C 229.210938 142.402344 228.320312 143.292969 228.320312 144.394531 C 228.320312 145.496094 229.210938 146.386719 230.3125 146.386719 C 231.410156 146.386719 232.304688 145.496094 232.304688 144.394531 Z M 232.304688 144.394531 \"/>\n",
       "<g clip-path=\"url(#clip-1540328653717166-2)\" clip-rule=\"nonzero\">\n",
       "<path style=\"fill:none;stroke-width:0.3985;stroke-linecap:butt;stroke-linejoin:miter;stroke:rgb(0%,0%,100%);stroke-opacity:1;stroke-miterlimit:10;\" d=\"M 196.262687 3.747469 C 196.262687 4.849031 195.368156 5.739656 194.2705 5.739656 C 193.168937 5.739656 192.278312 4.849031 192.278312 3.747469 C 192.278312 2.645906 193.168937 1.755281 194.2705 1.755281 C 195.368156 1.755281 196.262687 2.645906 196.262687 3.747469 Z M 196.262687 3.747469 \" transform=\"matrix(1,0,0,-1,36.042,148.142)\"/>\n",
       "</g>\n",
       "<g style=\"fill:rgb(0%,0%,0%);fill-opacity:1;\">\n",
       "  <use xlink:href=\"#glyph-1540328653717166-2-2\" x=\"123.877\" y=\"185.845\"/>\n",
       "</g>\n",
       "<g style=\"fill:rgb(0%,0%,0%);fill-opacity:1;\">\n",
       "  <use xlink:href=\"#glyph-1540328653717166-0-6\" x=\"130.795\" y=\"185.845\"/>\n",
       "  <use xlink:href=\"#glyph-1540328653717166-0-7\" x=\"134.669455\" y=\"185.845\"/>\n",
       "  <use xlink:href=\"#glyph-1540328653717166-0-8\" x=\"138.598705\" y=\"185.845\"/>\n",
       "</g>\n",
       "<g style=\"fill:rgb(0%,0%,0%);fill-opacity:1;\">\n",
       "  <use xlink:href=\"#glyph-1540328653717166-3-1\" x=\"10.793\" y=\"108.334\"/>\n",
       "</g>\n",
       "<g style=\"fill:rgb(0%,0%,0%);fill-opacity:1;\">\n",
       "  <use xlink:href=\"#glyph-1540328653717166-4-1\" x=\"10.793\" y=\"100.06\"/>\n",
       "  <use xlink:href=\"#glyph-1540328653717166-4-2\" x=\"10.793\" y=\"95.632621\"/>\n",
       "  <use xlink:href=\"#glyph-1540328653717166-4-2\" x=\"10.793\" y=\"91.73027\"/>\n",
       "  <use xlink:href=\"#glyph-1540328653717166-4-3\" x=\"10.793\" y=\"87.82792\"/>\n",
       "  <use xlink:href=\"#glyph-1540328653717166-4-2\" x=\"10.793\" y=\"82.84662\"/>\n",
       "</g>\n",
       "<g style=\"fill:rgb(0%,0%,0%);fill-opacity:1;\">\n",
       "  <use xlink:href=\"#glyph-1540328653717166-4-4\" x=\"10.793\" y=\"75.626724\"/>\n",
       "  <use xlink:href=\"#glyph-1540328653717166-4-2\" x=\"10.793\" y=\"71.752268\"/>\n",
       "  <use xlink:href=\"#glyph-1540328653717166-4-5\" x=\"10.793\" y=\"67.849918\"/>\n",
       "  <use xlink:href=\"#glyph-1540328653717166-4-6\" x=\"10.793\" y=\"62.868618\"/>\n",
       "  <use xlink:href=\"#glyph-1540328653717166-4-7\" x=\"10.793\" y=\"57.333397\"/>\n",
       "</g>\n",
       "</g>\n",
       "</svg>\n",
       "\n"
      ],
      "text/plain": [
       "Axis(PGFPlotsX.Options(OrderedCollections.OrderedDict{Any,Any}(\"xmajorgrids\"=>nothing,\"ymajorgrids\"=>nothing,\"xmin\"=>0.0,\"xmax\"=>4.0,\"enlarge_y_limits\"=>nothing,\"xlabel\"=>L\"$t$ (s)\",\"ylabel\"=>L\"$\\theta$ error (rad)\",\"ytick\"=>0.0:0.7853981633974483:2.356194490192345,\"yticklabels\"=>LaTeXString[L\"$0$\", L\"$\\frac{1}{4}\\pi$\", L\"$\\frac{1}{2}\\pi$\", L\"$\\frac{3}{4}\\pi$\"]), true), Any[Plot(false, false, Options(OrderedCollections.OrderedDict{Any,Any}(), false), Table(Options(OrderedCollections.OrderedDict{Any,Any}(), false), TableData([0.0 2.3481; 0.266667 2.14145; … ; 3.73333 0.0634694; 4.0 0.0726693], nothing, Int64[], true)), Any[])])"
      ]
     },
     "execution_count": 53,
     "metadata": {},
     "output_type": "execute_result"
    }
   ],
   "source": [
    "p = timeplot(t, θs; ylabel=L\"$\\theta$ error (rad)\")\n",
    "piticks!(p, 1//4, θs; axis=:y)\n",
    "save_data && pgfsave(joinpath(datadir, \"error.pdf\"), p)\n",
    "p"
   ]
  },
  {
   "cell_type": "code",
   "execution_count": 54,
   "metadata": {},
   "outputs": [],
   "source": [
    "using RigidBodyDynamics"
   ]
  },
  {
   "cell_type": "code",
   "execution_count": 55,
   "metadata": {},
   "outputs": [],
   "source": [
    "world = RigidBody{Float64}(\"world\")\n",
    "mechanism = Mechanism(world)\n",
    "joint = Joint(\"joint\", QuaternionSpherical{Float64}())\n",
    "inertia = SpatialInertia(joint.frame_after, Diagonal([parameters.Ixx, parameters.Iyy, parameters.Izz]), zeros(3), 30.0)\n",
    "body = RigidBody(inertia)\n",
    "attach!(mechanism, world, body, joint);"
   ]
  },
  {
   "cell_type": "code",
   "execution_count": 56,
   "metadata": {},
   "outputs": [],
   "source": [
    "using MeshCat, MeshCatMechanisms, MechanismGeometries"
   ]
  },
  {
   "cell_type": "code",
   "execution_count": 57,
   "metadata": {},
   "outputs": [
    {
     "name": "stderr",
     "output_type": "stream",
     "text": [
      "┌ Info: Serving MeshCat visualizer at http://127.0.0.1:8702\n",
      "└ @ MeshCat /home/twan/.julia/packages/MeshCat/rjDJh/src/servers.jl:12\n",
      "┌ Info: Listening on: Sockets.InetAddr{Sockets.IPv4}(ip\"127.0.0.1\", 0x21fe)\n",
      "└ @ HTTP.Servers /home/twan/.julia/packages/HTTP/nUK4f/src/Servers.jl:307\n"
     ]
    },
    {
     "data": {
      "text/plain": [
       "Process(`\u001b[4mxdg-open\u001b[24m \u001b[4mhttp://127.0.0.1:8702\u001b[24m`, ProcessExited(0))"
      ]
     },
     "execution_count": 57,
     "metadata": {},
     "output_type": "execute_result"
    },
    {
     "name": "stderr",
     "output_type": "stream",
     "text": [
      "┌ Info: Accept:  🔗    0↑     0↓    0s 127.0.0.1:8702:8702 ≣16\n",
      "└ @ HTTP.Servers /home/twan/.julia/packages/HTTP/nUK4f/src/Servers.jl:366\n",
      "┌ Info: Accept:  🔗    0↑     0↓    0s 127.0.0.1:8702:8702 ≣16\n",
      "└ @ HTTP.Servers /home/twan/.julia/packages/HTTP/nUK4f/src/Servers.jl:366\n",
      "┌ Info: Accept:  🔗    0↑     0↓    0s 127.0.0.1:8702:8702 ≣16\n",
      "└ @ HTTP.Servers /home/twan/.julia/packages/HTTP/nUK4f/src/Servers.jl:366\n"
     ]
    }
   ],
   "source": [
    "mvis = MechanismVisualizer(mechanism, Skeleton(inertias=true));\n",
    "open(mvis)"
   ]
  },
  {
   "cell_type": "code",
   "execution_count": 58,
   "metadata": {},
   "outputs": [
    {
     "data": {
      "text/plain": [
       "MeshCat Visualizer with path /meshcat/world/after_joint/after_joint/triad"
      ]
     },
     "execution_count": 58,
     "metadata": {},
     "output_type": "execute_result"
    }
   ],
   "source": [
    "frame = frame_after(joint)\n",
    "setobject!(mvis[frame][\"triad\"], Triad(0.5))"
   ]
  },
  {
   "cell_type": "code",
   "execution_count": 59,
   "metadata": {},
   "outputs": [],
   "source": [
    "setanimation!(mvis, t, qs)"
   ]
  },
  {
   "cell_type": "code",
   "execution_count": 60,
   "metadata": {},
   "outputs": [
    {
     "data": {
      "text/plain": [
       "15-element Array{Array{Float64,1},1}:\n",
       " [-0.538905, 0.842238, 0.0147203] \n",
       " [-0.538905, 0.842238, 0.0147203] \n",
       " [-0.538905, 0.842238, 0.0147203] \n",
       " [0.538905, -0.842238, -0.0147203]\n",
       " [0.538905, -0.842238, -0.0147203]\n",
       " [0.538905, -0.842238, -0.0147203]\n",
       " [0.538905, -0.842238, -0.0147203]\n",
       " [0.538905, -0.842238, -0.0147203]\n",
       " [0.538905, -0.842238, -0.0147203]\n",
       " [0.538905, -0.842238, -0.0147203]\n",
       " [0.538905, -0.842238, -0.0147203]\n",
       " [0.538905, -0.842238, -0.0147203]\n",
       " [0.538905, -0.842238, -0.0147203]\n",
       " [0.538905, -0.842238, -0.0147203]\n",
       " [0.538905, -0.842238, -0.0147203]"
      ]
     },
     "execution_count": 60,
     "metadata": {},
     "output_type": "execute_result"
    },
    {
     "name": "stderr",
     "output_type": "stream",
     "text": [
      "┌ Info: Closed:  💀    4↑     4↓🔒 115s 127.0.0.1:8702:8702 ≣16\n",
      "└ @ HTTP.Servers /home/twan/.julia/packages/HTTP/nUK4f/src/Servers.jl:373\n",
      "┌ Info: Closed:  💀    1↑     1↓🔒 116s 127.0.0.1:8702:8702 ≣16\n",
      "└ @ HTTP.Servers /home/twan/.julia/packages/HTTP/nUK4f/src/Servers.jl:373\n"
     ]
    }
   ],
   "source": [
    "normalize.(τs)"
   ]
  },
  {
   "cell_type": "code",
   "execution_count": null,
   "metadata": {},
   "outputs": [],
   "source": []
  }
 ],
 "metadata": {
  "kernelspec": {
   "display_name": "Julia 1.0.0",
   "language": "julia",
   "name": "julia-1.0"
  },
  "language_info": {
   "file_extension": ".jl",
   "mimetype": "application/julia",
   "name": "julia",
   "version": "1.0.0"
  }
 },
 "nbformat": 4,
 "nbformat_minor": 2
}
