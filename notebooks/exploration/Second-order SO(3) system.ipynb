{
 "cells": [
  {
   "cell_type": "code",
   "execution_count": 1,
   "metadata": {},
   "outputs": [
    {
     "name": "stdout",
     "output_type": "stream",
     "text": [
      "\u001b[32m\u001b[1m  Updating\u001b[22m\u001b[39m registry at `~/.julia/registries/General`\n",
      "\u001b[32m\u001b[1m  Updating\u001b[22m\u001b[39m git-repo `https://github.com/JuliaRegistries/General.git`\n",
      "\u001b[?25l\u001b[2K\u001b[?25h"
     ]
    }
   ],
   "source": [
    "using Pkg\n",
    "Pkg.activate(@__DIR__)\n",
    "push!(LOAD_PATH, joinpath(@__DIR__, \"..\", \"..\"))\n",
    "Pkg.instantiate()"
   ]
  },
  {
   "cell_type": "code",
   "execution_count": 2,
   "metadata": {},
   "outputs": [],
   "source": [
    "using JuMP\n",
    "using BARON\n",
    "using LinearAlgebra\n",
    "using StaticArrays\n",
    "using MINLPTrajOpt\n",
    "using MINLPTrajOpt.SO3\n",
    "using Rotations\n",
    "using Random"
   ]
  },
  {
   "cell_type": "code",
   "execution_count": 3,
   "metadata": {},
   "outputs": [],
   "source": [
    "rootdir = joinpath(dirname(pathof(MINLPTrajOpt)), \"..\")\n",
    "save_data = false;"
   ]
  },
  {
   "cell_type": "code",
   "execution_count": 4,
   "metadata": {},
   "outputs": [],
   "source": [
    "solver = BaronSolver(threads=Sys.CPU_THREADS, EpsA=1e-2, MaxTime=1 * 60.0, PrTimeFreq=5.)\n",
    "# solver = CouenneNLSolver()\n",
    "parameters = SO3Parameters(Ixx = 1., Iyy = 0.7, Izz = 1.4)\n",
    "# parameters = SO3Parameters()\n",
    "τmax = 1.0\n",
    "Random.seed!(1)\n",
    "quat0 = rand(Quat)\n",
    "ω0 = zero(SVector{3})\n",
    "\n",
    "N = 10\n",
    "T = 1.0\n",
    "Δt = T / N\n",
    "Δθmax = 0.3 * 30 / N\n",
    "# Δθmax = π\n",
    "\n",
    "problem = SO3Problem(parameters, quat0, ω0, solver; τmax=τmax, Δt=Δt, N=N, Δθmax=Δθmax);"
   ]
  },
  {
   "cell_type": "code",
   "execution_count": 5,
   "metadata": {
    "scrolled": false
   },
   "outputs": [
    {
     "name": "stdout",
     "output_type": "stream",
     "text": [
      "===========================================================================\n",
      " BARON version 18.8.23. Built: LNX-64 Thu Aug 23 14:46:44 EDT 2018\n",
      "\n",
      " BARON is a product of The Optimization Firm.\n",
      " For information on BARON, see https://minlp.com/about-baron\n",
      " Licensee: MIT at Twan Koolen, tkoolen@mit.edu.\n",
      "\n",
      " If you use this software, please cite publications from\n",
      " https://minlp.com/baron-publications, such as: \n",
      "\n",
      " Khajavirad, A. and N. V. Sahinidis,\n",
      " A hybrid LP/NLP paradigm for global optimization relaxations,\n",
      " Mathematical Programming Computation, 10, 383-421, 2018.\n",
      "===========================================================================\n",
      " This BARON run may utilize the following subsolver(s)\n",
      " For LP/MIP: ILOG CPLEX                                      \n",
      " For NLP: IPOPT, FILTERSD, FILTERSQP\n",
      "===========================================================================\n",
      " Doing local search\n",
      " Unable to find/load CPLEX library libcplex.so: cannot open shared object file: No such file or directory\n",
      " Using CPLEX library libcplex1280.so.\n",
      " Preprocessing found feasible solution with value 0.810117134283     \n",
      " Solving bounding LP\n",
      " Starting multi-start local search\n",
      " Preprocessing found feasible solution with value 0.417344010233     \n",
      " Done with local search\n",
      "===========================================================================\n",
      "  Iteration    Open nodes         Time (s)    Lower bound      Upper bound\n",
      "          1             1             1.00     0.306712         0.417344    \n",
      "         66            39             6.00     0.310216         0.417344    \n",
      "        172           104            11.00     0.311283         0.417344    \n",
      "        275           163            16.00     0.312151         0.417344    \n",
      "        379           230            21.00     0.312805         0.417344    \n",
      "        482           293            26.00     0.313522         0.417344    \n",
      "        583           349            32.00     0.313815         0.417344    \n",
      "        683           412            37.00     0.314224         0.417344    \n",
      "        784           473            42.00     0.314815         0.417344    \n",
      "        882           531            47.00     0.315142         0.417344    \n",
      "        982           586            52.00     0.315705         0.417344    \n",
      "       1078           645            57.00     0.316093         0.417344    \n",
      "       1141           685            60.00     0.316249         0.417344    \n",
      "\n",
      "                    *** Max. allowable time exceeded ***      \n",
      "\n",
      " Wall clock time:                    60.00\n",
      " Total CPU time used:                60.00\n",
      "\n",
      " Total no. of BaR iterations:    1141\n",
      " Best solution found at node:      -1\n",
      " Max. no. of nodes in memory:     685\n",
      " \n",
      " All done\n",
      "===========================================================================\n"
     ]
    },
    {
     "name": "stderr",
     "output_type": "stream",
     "text": [
      "┌ Warning: Not solved to optimality, status: UserLimit\n",
      "└ @ JuMP /home/twan/.julia/packages/JuMP/Xvn0n/src/nlp.jl:1283\n"
     ]
    },
    {
     "data": {
      "text/plain": [
       ":UserLimit"
      ]
     },
     "execution_count": 5,
     "metadata": {},
     "output_type": "execute_result"
    }
   ],
   "source": [
    "status = solve(problem.model)"
   ]
  },
  {
   "cell_type": "code",
   "execution_count": 6,
   "metadata": {},
   "outputs": [],
   "source": [
    "if save_data\n",
    "    i = 0\n",
    "    while (datadir = joinpath(rootdir, \"data\", \"so3\", \"run$i\"); isdir(datadir))\n",
    "        i += 1\n",
    "    end\n",
    "    mkpath(datadir)\n",
    "end\n",
    "if save_data && solver isa BaronSolver\n",
    "    cp(dirname(problem.model.internalModel.options[:SumName]), joinpath(datadir, \"baronfiles\"))\n",
    "end"
   ]
  },
  {
   "cell_type": "code",
   "execution_count": 7,
   "metadata": {},
   "outputs": [
    {
     "data": {
      "text/plain": [
       "\"/tmp/tmpGc77Cf/sum.lst\""
      ]
     },
     "execution_count": 7,
     "metadata": {},
     "output_type": "execute_result"
    }
   ],
   "source": [
    "problem.model.internalModel.options[:SumName]"
   ]
  },
  {
   "cell_type": "code",
   "execution_count": 8,
   "metadata": {},
   "outputs": [],
   "source": [
    "t = range(0, T, length=N+1)\n",
    "quats = getvalue.(problem.q)\n",
    "pushfirst!(quats, problem.q0)\n",
    "θs = map(rotation_angle, quats)\n",
    "qs = [[quat.w, quat.x, quat.y, quat.z] for quat in quats]\n",
    "Δquats = getvalue.(problem.Δq)\n",
    "ωs = getvalue.(problem.ω)\n",
    "ωds = getvalue.(problem.ωd)\n",
    "τs = getvalue.(problem.τ);"
   ]
  },
  {
   "cell_type": "code",
   "execution_count": 9,
   "metadata": {},
   "outputs": [],
   "source": [
    "using Test\n",
    "for Δquat in Δquats\n",
    "    Δθ = 2 * acos(Δquat.w)\n",
    "    @test Δθ <= Δθmax + 1e-6\n",
    "    @test norm([Δquat.w, Δquat.x, Δquat.y, Δquat.z]) ≈ 1 atol=1e-6\n",
    "end"
   ]
  },
  {
   "cell_type": "code",
   "execution_count": 10,
   "metadata": {},
   "outputs": [],
   "source": [
    "if save_data\n",
    "    open(joinpath(datadir, \"settings.txt\"), write=true) do io\n",
    "        println(io, \"N = $N\")\n",
    "        println(io, \"T = $T\")\n",
    "        println(io, \"τmax = $τmax\")\n",
    "        println(io, \"quat0 = $quat0\")\n",
    "        println(io, \"ω0 = $ω0\")\n",
    "        println(io, \"solver = $solver\")\n",
    "        println(io, \"status = $status\")\n",
    "        println(io, \"objective value = $(getobjectivevalue(problem.model))\")\n",
    "        println(io, \"objective lower bound = $(getobjbound(problem.model))\")\n",
    "        println(io, \"solvetime = $(getsolvetime(problem.model))\")\n",
    "        println(io)\n",
    "    end\n",
    "end"
   ]
  },
  {
   "cell_type": "code",
   "execution_count": 11,
   "metadata": {},
   "outputs": [
    {
     "data": {
      "text/plain": [
       "PDFLATEX::LaTeXEngine = 1"
      ]
     },
     "execution_count": 11,
     "metadata": {},
     "output_type": "execute_result"
    }
   ],
   "source": [
    "push!(LOAD_PATH, joinpath(@__DIR__, \"..\", \"..\", \"extras\", \"PlottingTools\"))\n",
    "using PlottingTools\n",
    "using PlottingTools.LaTeXStrings\n",
    "using PlottingTools.PGFPlotsX\n",
    "PGFPlotsX.latexengine!(PGFPlotsX.PDFLATEX)"
   ]
  },
  {
   "cell_type": "code",
   "execution_count": 12,
   "metadata": {
    "scrolled": true
   },
   "outputs": [
    {
     "data": {
      "image/png": "[encoded data removed]",
      "image/svg+xml": [
       "<?xml version=\"1.0\" encoding=\"UTF-8\"?>\n",
       "<svg xmlns=\"http://www.w3.org/2000/svg\" xmlns:xlink=\"http://www.w3.org/1999/xlink\" width=\"236.124pt\" height=\"191.658pt\" viewBox=\"0 0 236.124 191.658\" version=\"1.1\">\n",
       "<defs>\n",
       "<g>\n",
       "<symbol overflow=\"visible\" id=\"glyph-1540328653717164-0-0\">\n",
       "<path style=\"stroke:none;\" d=\"\"/>\n",
       "</symbol>\n",
       "<symbol overflow=\"visible\" id=\"glyph-1540328653717164-0-1\">\n",
       "<path style=\"stroke:none;\" d=\"M 4.578125 -3.1875 C 4.578125 -3.984375 4.53125 -4.78125 4.1875 -5.515625 C 3.734375 -6.484375 2.90625 -6.640625 2.5 -6.640625 C 1.890625 -6.640625 1.171875 -6.375 0.75 -5.453125 C 0.4375 -4.765625 0.390625 -3.984375 0.390625 -3.1875 C 0.390625 -2.4375 0.421875 -1.546875 0.84375 -0.78125 C 1.265625 0.015625 2 0.21875 2.484375 0.21875 C 3.015625 0.21875 3.78125 0.015625 4.21875 -0.9375 C 4.53125 -1.625 4.578125 -2.40625 4.578125 -3.1875 Z M 2.484375 0 C 2.09375 0 1.5 -0.25 1.328125 -1.203125 C 1.21875 -1.796875 1.21875 -2.71875 1.21875 -3.3125 C 1.21875 -3.953125 1.21875 -4.609375 1.296875 -5.140625 C 1.484375 -6.328125 2.234375 -6.421875 2.484375 -6.421875 C 2.8125 -6.421875 3.46875 -6.234375 3.65625 -5.25 C 3.765625 -4.6875 3.765625 -3.9375 3.765625 -3.3125 C 3.765625 -2.5625 3.765625 -1.890625 3.65625 -1.25 C 3.5 -0.296875 2.9375 0 2.484375 0 Z M 2.484375 0 \"/>\n",
       "</symbol>\n",
       "<symbol overflow=\"visible\" id=\"glyph-1540328653717164-0-2\">\n",
       "<path style=\"stroke:none;\" d=\"M 1.265625 -0.765625 L 2.328125 -1.796875 C 3.875 -3.171875 4.46875 -3.703125 4.46875 -4.703125 C 4.46875 -5.84375 3.578125 -6.640625 2.359375 -6.640625 C 1.234375 -6.640625 0.5 -5.71875 0.5 -4.828125 C 0.5 -4.28125 1 -4.28125 1.03125 -4.28125 C 1.203125 -4.28125 1.546875 -4.390625 1.546875 -4.8125 C 1.546875 -5.0625 1.359375 -5.328125 1.015625 -5.328125 C 0.9375 -5.328125 0.921875 -5.328125 0.890625 -5.3125 C 1.109375 -5.96875 1.65625 -6.328125 2.234375 -6.328125 C 3.140625 -6.328125 3.5625 -5.515625 3.5625 -4.703125 C 3.5625 -3.90625 3.078125 -3.125 2.515625 -2.5 L 0.609375 -0.375 C 0.5 -0.265625 0.5 -0.234375 0.5 0 L 4.203125 0 L 4.46875 -1.734375 L 4.234375 -1.734375 C 4.171875 -1.4375 4.109375 -1 4 -0.84375 C 3.9375 -0.765625 3.28125 -0.765625 3.0625 -0.765625 Z M 1.265625 -0.765625 \"/>\n",
       "</symbol>\n",
       "<symbol overflow=\"visible\" id=\"glyph-1540328653717164-0-3\">\n",
       "<path style=\"stroke:none;\" d=\"M 2.9375 -1.640625 L 2.9375 -0.78125 C 2.9375 -0.421875 2.90625 -0.3125 2.171875 -0.3125 L 1.96875 -0.3125 L 1.96875 0 C 2.375 -0.03125 2.890625 -0.03125 3.3125 -0.03125 C 3.734375 -0.03125 4.25 -0.03125 4.671875 0 L 4.671875 -0.3125 L 4.453125 -0.3125 C 3.71875 -0.3125 3.703125 -0.421875 3.703125 -0.78125 L 3.703125 -1.640625 L 4.6875 -1.640625 L 4.6875 -1.953125 L 3.703125 -1.953125 L 3.703125 -6.484375 C 3.703125 -6.6875 3.703125 -6.75 3.53125 -6.75 C 3.453125 -6.75 3.421875 -6.75 3.34375 -6.625 L 0.28125 -1.953125 L 0.28125 -1.640625 Z M 2.984375 -1.953125 L 0.5625 -1.953125 L 2.984375 -5.671875 Z M 2.984375 -1.953125 \"/>\n",
       "</symbol>\n",
       "<symbol overflow=\"visible\" id=\"glyph-1540328653717164-0-4\">\n",
       "<path style=\"stroke:none;\" d=\"M 1.3125 -3.265625 L 1.3125 -3.515625 C 1.3125 -6.03125 2.546875 -6.390625 3.0625 -6.390625 C 3.296875 -6.390625 3.71875 -6.328125 3.9375 -5.984375 C 3.78125 -5.984375 3.390625 -5.984375 3.390625 -5.546875 C 3.390625 -5.234375 3.625 -5.078125 3.84375 -5.078125 C 4 -5.078125 4.3125 -5.171875 4.3125 -5.5625 C 4.3125 -6.15625 3.875 -6.640625 3.046875 -6.640625 C 1.765625 -6.640625 0.421875 -5.359375 0.421875 -3.15625 C 0.421875 -0.484375 1.578125 0.21875 2.5 0.21875 C 3.609375 0.21875 4.5625 -0.71875 4.5625 -2.03125 C 4.5625 -3.296875 3.671875 -4.25 2.5625 -4.25 C 1.890625 -4.25 1.515625 -3.75 1.3125 -3.265625 Z M 2.5 -0.0625 C 1.875 -0.0625 1.578125 -0.65625 1.515625 -0.8125 C 1.328125 -1.28125 1.328125 -2.078125 1.328125 -2.25 C 1.328125 -3.03125 1.65625 -4.03125 2.546875 -4.03125 C 2.71875 -4.03125 3.171875 -4.03125 3.484375 -3.40625 C 3.65625 -3.046875 3.65625 -2.53125 3.65625 -2.046875 C 3.65625 -1.5625 3.65625 -1.0625 3.484375 -0.703125 C 3.1875 -0.109375 2.734375 -0.0625 2.5 -0.0625 Z M 2.5 -0.0625 \"/>\n",
       "</symbol>\n",
       "<symbol overflow=\"visible\" id=\"glyph-1540328653717164-0-5\">\n",
       "<path style=\"stroke:none;\" d=\"M 1.625 -4.5625 C 1.171875 -4.859375 1.125 -5.1875 1.125 -5.359375 C 1.125 -5.96875 1.78125 -6.390625 2.484375 -6.390625 C 3.203125 -6.390625 3.84375 -5.875 3.84375 -5.15625 C 3.84375 -4.578125 3.453125 -4.109375 2.859375 -3.765625 Z M 3.078125 -3.609375 C 3.796875 -3.984375 4.28125 -4.5 4.28125 -5.15625 C 4.28125 -6.078125 3.40625 -6.640625 2.5 -6.640625 C 1.5 -6.640625 0.6875 -5.90625 0.6875 -4.96875 C 0.6875 -4.796875 0.703125 -4.34375 1.125 -3.875 C 1.234375 -3.765625 1.609375 -3.515625 1.859375 -3.34375 C 1.28125 -3.046875 0.421875 -2.5 0.421875 -1.5 C 0.421875 -0.453125 1.4375 0.21875 2.484375 0.21875 C 3.609375 0.21875 4.5625 -0.609375 4.5625 -1.671875 C 4.5625 -2.03125 4.453125 -2.484375 4.0625 -2.90625 C 3.875 -3.109375 3.71875 -3.203125 3.078125 -3.609375 Z M 2.078125 -3.1875 L 3.3125 -2.40625 C 3.59375 -2.21875 4.0625 -1.921875 4.0625 -1.3125 C 4.0625 -0.578125 3.3125 -0.0625 2.5 -0.0625 C 1.640625 -0.0625 0.921875 -0.671875 0.921875 -1.5 C 0.921875 -2.078125 1.234375 -2.71875 2.078125 -3.1875 Z M 2.078125 -3.1875 \"/>\n",
       "</symbol>\n",
       "<symbol overflow=\"visible\" id=\"glyph-1540328653717164-0-6\">\n",
       "<path style=\"stroke:none;\" d=\"M 2.9375 -6.375 C 2.9375 -6.625 2.9375 -6.640625 2.703125 -6.640625 C 2.078125 -6 1.203125 -6 0.890625 -6 L 0.890625 -5.6875 C 1.09375 -5.6875 1.671875 -5.6875 2.1875 -5.953125 L 2.1875 -0.78125 C 2.1875 -0.421875 2.15625 -0.3125 1.265625 -0.3125 L 0.953125 -0.3125 L 0.953125 0 C 1.296875 -0.03125 2.15625 -0.03125 2.5625 -0.03125 C 2.953125 -0.03125 3.828125 -0.03125 4.171875 0 L 4.171875 -0.3125 L 3.859375 -0.3125 C 2.953125 -0.3125 2.9375 -0.421875 2.9375 -0.78125 Z M 2.9375 -6.375 \"/>\n",
       "</symbol>\n",
       "<symbol overflow=\"visible\" id=\"glyph-1540328653717164-0-7\">\n",
       "<path style=\"stroke:none;\" d=\"M 3.296875 2.390625 C 3.296875 2.359375 3.296875 2.34375 3.125 2.171875 C 1.890625 0.921875 1.5625 -0.96875 1.5625 -2.5 C 1.5625 -4.234375 1.9375 -5.96875 3.171875 -7.203125 C 3.296875 -7.328125 3.296875 -7.34375 3.296875 -7.375 C 3.296875 -7.453125 3.265625 -7.484375 3.203125 -7.484375 C 3.09375 -7.484375 2.203125 -6.796875 1.609375 -5.53125 C 1.109375 -4.4375 0.984375 -3.328125 0.984375 -2.5 C 0.984375 -1.71875 1.09375 -0.515625 1.640625 0.625 C 2.25 1.84375 3.09375 2.5 3.203125 2.5 C 3.265625 2.5 3.296875 2.46875 3.296875 2.390625 Z M 3.296875 2.390625 \"/>\n",
       "</symbol>\n",
       "<symbol overflow=\"visible\" id=\"glyph-1540328653717164-0-8\">\n",
       "<path style=\"stroke:none;\" d=\"M 2.078125 -1.9375 C 2.296875 -1.890625 3.109375 -1.734375 3.109375 -1.015625 C 3.109375 -0.515625 2.765625 -0.109375 1.984375 -0.109375 C 1.140625 -0.109375 0.78125 -0.671875 0.59375 -1.53125 C 0.5625 -1.65625 0.5625 -1.6875 0.453125 -1.6875 C 0.328125 -1.6875 0.328125 -1.625 0.328125 -1.453125 L 0.328125 -0.125 C 0.328125 0.046875 0.328125 0.109375 0.4375 0.109375 C 0.484375 0.109375 0.5 0.09375 0.6875 -0.09375 C 0.703125 -0.109375 0.703125 -0.125 0.890625 -0.3125 C 1.328125 0.09375 1.78125 0.109375 1.984375 0.109375 C 3.125 0.109375 3.59375 -0.5625 3.59375 -1.28125 C 3.59375 -1.796875 3.296875 -2.109375 3.171875 -2.21875 C 2.84375 -2.546875 2.453125 -2.625 2.03125 -2.703125 C 1.46875 -2.8125 0.8125 -2.9375 0.8125 -3.515625 C 0.8125 -3.875 1.0625 -4.28125 1.921875 -4.28125 C 3.015625 -4.28125 3.078125 -3.375 3.09375 -3.078125 C 3.09375 -2.984375 3.1875 -2.984375 3.203125 -2.984375 C 3.34375 -2.984375 3.34375 -3.03125 3.34375 -3.21875 L 3.34375 -4.234375 C 3.34375 -4.390625 3.34375 -4.46875 3.234375 -4.46875 C 3.1875 -4.46875 3.15625 -4.46875 3.03125 -4.34375 C 3 -4.3125 2.90625 -4.21875 2.859375 -4.1875 C 2.484375 -4.46875 2.078125 -4.46875 1.921875 -4.46875 C 0.703125 -4.46875 0.328125 -3.796875 0.328125 -3.234375 C 0.328125 -2.890625 0.484375 -2.609375 0.75 -2.390625 C 1.078125 -2.140625 1.359375 -2.078125 2.078125 -1.9375 Z M 2.078125 -1.9375 \"/>\n",
       "</symbol>\n",
       "<symbol overflow=\"visible\" id=\"glyph-1540328653717164-0-9\">\n",
       "<path style=\"stroke:none;\" d=\"M 2.875 -2.5 C 2.875 -3.265625 2.765625 -4.46875 2.21875 -5.609375 C 1.625 -6.828125 0.765625 -7.484375 0.671875 -7.484375 C 0.609375 -7.484375 0.5625 -7.4375 0.5625 -7.375 C 0.5625 -7.34375 0.5625 -7.328125 0.75 -7.140625 C 1.734375 -6.15625 2.296875 -4.578125 2.296875 -2.5 C 2.296875 -0.78125 1.9375 0.96875 0.703125 2.21875 C 0.5625 2.34375 0.5625 2.359375 0.5625 2.390625 C 0.5625 2.453125 0.609375 2.5 0.671875 2.5 C 0.765625 2.5 1.671875 1.8125 2.25 0.546875 C 2.765625 -0.546875 2.875 -1.65625 2.875 -2.5 Z M 2.875 -2.5 \"/>\n",
       "</symbol>\n",
       "<symbol overflow=\"visible\" id=\"glyph-1540328653717164-1-0\">\n",
       "<path style=\"stroke:none;\" d=\"\"/>\n",
       "</symbol>\n",
       "<symbol overflow=\"visible\" id=\"glyph-1540328653717164-1-1\">\n",
       "<path style=\"stroke:none;\" d=\"M 1.90625 -0.53125 C 1.90625 -0.8125 1.671875 -1.0625 1.390625 -1.0625 C 1.09375 -1.0625 0.859375 -0.8125 0.859375 -0.53125 C 0.859375 -0.234375 1.09375 0 1.390625 0 C 1.671875 0 1.90625 -0.234375 1.90625 -0.53125 Z M 1.90625 -0.53125 \"/>\n",
       "</symbol>\n",
       "<symbol overflow=\"visible\" id=\"glyph-1540328653717164-1-2\">\n",
       "<path style=\"stroke:none;\" d=\"M 2.640625 -3.71875 L 3.765625 -3.71875 C 3.4375 -2.25 3.34375 -1.8125 3.34375 -1.140625 C 3.34375 -1 3.34375 -0.734375 3.421875 -0.390625 C 3.53125 0.046875 3.640625 0.109375 3.78125 0.109375 C 3.984375 0.109375 4.203125 -0.0625 4.203125 -0.265625 C 4.203125 -0.328125 4.203125 -0.34375 4.140625 -0.484375 C 3.84375 -1.203125 3.84375 -1.859375 3.84375 -2.140625 C 3.84375 -2.65625 3.921875 -3.203125 4.03125 -3.71875 L 5.15625 -3.71875 C 5.296875 -3.71875 5.65625 -3.71875 5.65625 -4.0625 C 5.65625 -4.296875 5.4375 -4.296875 5.25 -4.296875 L 1.90625 -4.296875 C 1.6875 -4.296875 1.3125 -4.296875 0.875 -3.828125 C 0.53125 -3.4375 0.265625 -2.984375 0.265625 -2.9375 C 0.265625 -2.921875 0.265625 -2.828125 0.390625 -2.828125 C 0.46875 -2.828125 0.484375 -2.875 0.546875 -2.953125 C 1.03125 -3.71875 1.609375 -3.71875 1.8125 -3.71875 L 2.375 -3.71875 C 2.0625 -2.515625 1.53125 -1.3125 1.109375 -0.40625 C 1.03125 -0.25 1.03125 -0.234375 1.03125 -0.15625 C 1.03125 0.03125 1.1875 0.109375 1.3125 0.109375 C 1.609375 0.109375 1.6875 -0.171875 1.8125 -0.53125 C 1.953125 -1 1.953125 -1.015625 2.078125 -1.515625 Z M 2.640625 -3.71875 \"/>\n",
       "</symbol>\n",
       "<symbol overflow=\"visible\" id=\"glyph-1540328653717164-1-3\">\n",
       "<path style=\"stroke:none;\" d=\"M 2.046875 -3.984375 L 2.984375 -3.984375 C 3.1875 -3.984375 3.296875 -3.984375 3.296875 -4.1875 C 3.296875 -4.296875 3.1875 -4.296875 3.015625 -4.296875 L 2.140625 -4.296875 C 2.5 -5.71875 2.546875 -5.90625 2.546875 -5.96875 C 2.546875 -6.140625 2.421875 -6.234375 2.25 -6.234375 C 2.21875 -6.234375 1.9375 -6.234375 1.859375 -5.875 L 1.46875 -4.296875 L 0.53125 -4.296875 C 0.328125 -4.296875 0.234375 -4.296875 0.234375 -4.109375 C 0.234375 -3.984375 0.3125 -3.984375 0.515625 -3.984375 L 1.390625 -3.984375 C 0.671875 -1.15625 0.625 -0.984375 0.625 -0.8125 C 0.625 -0.265625 1 0.109375 1.546875 0.109375 C 2.5625 0.109375 3.125 -1.34375 3.125 -1.421875 C 3.125 -1.53125 3.046875 -1.53125 3.015625 -1.53125 C 2.921875 -1.53125 2.90625 -1.5 2.859375 -1.390625 C 2.4375 -0.34375 1.90625 -0.109375 1.5625 -0.109375 C 1.359375 -0.109375 1.25 -0.234375 1.25 -0.5625 C 1.25 -0.8125 1.28125 -0.875 1.3125 -1.046875 Z M 2.046875 -3.984375 \"/>\n",
       "</symbol>\n",
       "<symbol overflow=\"visible\" id=\"glyph-1540328653717164-2-0\">\n",
       "<path style=\"stroke:none;\" d=\"\"/>\n",
       "</symbol>\n",
       "<symbol overflow=\"visible\" id=\"glyph-1540328653717164-2-1\">\n",
       "<path style=\"stroke:none;\" d=\"M 2.328125 -4.4375 C 2.328125 -4.625 2.328125 -4.625 2.125 -4.625 C 1.671875 -4.1875 1.046875 -4.1875 0.765625 -4.1875 L 0.765625 -3.9375 C 0.921875 -3.9375 1.390625 -3.9375 1.765625 -4.125 L 1.765625 -0.578125 C 1.765625 -0.34375 1.765625 -0.25 1.078125 -0.25 L 0.8125 -0.25 L 0.8125 0 C 0.9375 0 1.796875 -0.03125 2.046875 -0.03125 C 2.265625 -0.03125 3.140625 0 3.296875 0 L 3.296875 -0.25 L 3.03125 -0.25 C 2.328125 -0.25 2.328125 -0.34375 2.328125 -0.578125 Z M 2.328125 -4.4375 \"/>\n",
       "</symbol>\n",
       "<symbol overflow=\"visible\" id=\"glyph-1540328653717164-2-2\">\n",
       "<path style=\"stroke:none;\" d=\"M 3.6875 -1.140625 L 3.6875 -1.390625 L 2.90625 -1.390625 L 2.90625 -4.5 C 2.90625 -4.640625 2.90625 -4.703125 2.765625 -4.703125 C 2.671875 -4.703125 2.640625 -4.703125 2.578125 -4.59375 L 0.265625 -1.390625 L 0.265625 -1.140625 L 2.328125 -1.140625 L 2.328125 -0.578125 C 2.328125 -0.328125 2.328125 -0.25 1.75 -0.25 L 1.5625 -0.25 L 1.5625 0 C 1.921875 -0.015625 2.359375 -0.03125 2.609375 -0.03125 C 2.875 -0.03125 3.3125 -0.015625 3.671875 0 L 3.671875 -0.25 L 3.484375 -0.25 C 2.90625 -0.25 2.90625 -0.328125 2.90625 -0.578125 L 2.90625 -1.140625 Z M 2.375 -3.9375 L 2.375 -1.390625 L 0.53125 -1.390625 Z M 2.375 -3.9375 \"/>\n",
       "</symbol>\n",
       "<symbol overflow=\"visible\" id=\"glyph-1540328653717164-2-3\">\n",
       "<path style=\"stroke:none;\" d=\"M 3.515625 -1.265625 L 3.28125 -1.265625 C 3.265625 -1.109375 3.1875 -0.703125 3.09375 -0.640625 C 3.046875 -0.59375 2.515625 -0.59375 2.40625 -0.59375 L 1.125 -0.59375 C 1.859375 -1.234375 2.109375 -1.4375 2.515625 -1.765625 C 3.03125 -2.171875 3.515625 -2.609375 3.515625 -3.265625 C 3.515625 -4.109375 2.78125 -4.625 1.890625 -4.625 C 1.03125 -4.625 0.4375 -4.015625 0.4375 -3.375 C 0.4375 -3.03125 0.734375 -2.984375 0.8125 -2.984375 C 0.96875 -2.984375 1.171875 -3.109375 1.171875 -3.359375 C 1.171875 -3.484375 1.125 -3.734375 0.765625 -3.734375 C 0.984375 -4.21875 1.453125 -4.375 1.78125 -4.375 C 2.484375 -4.375 2.84375 -3.828125 2.84375 -3.265625 C 2.84375 -2.65625 2.40625 -2.1875 2.1875 -1.9375 L 0.515625 -0.265625 C 0.4375 -0.203125 0.4375 -0.1875 0.4375 0 L 3.3125 0 Z M 3.515625 -1.265625 \"/>\n",
       "</symbol>\n",
       "<symbol overflow=\"visible\" id=\"glyph-1540328653717164-2-4\">\n",
       "<path style=\"stroke:none;\" d=\"M 1.90625 -2.328125 C 2.453125 -2.328125 2.84375 -1.953125 2.84375 -1.203125 C 2.84375 -0.34375 2.328125 -0.078125 1.9375 -0.078125 C 1.65625 -0.078125 1.03125 -0.15625 0.75 -0.578125 C 1.078125 -0.578125 1.15625 -0.8125 1.15625 -0.96875 C 1.15625 -1.1875 0.984375 -1.34375 0.765625 -1.34375 C 0.578125 -1.34375 0.375 -1.21875 0.375 -0.9375 C 0.375 -0.28125 1.09375 0.140625 1.9375 0.140625 C 2.90625 0.140625 3.578125 -0.515625 3.578125 -1.203125 C 3.578125 -1.75 3.140625 -2.296875 2.375 -2.453125 C 3.09375 -2.71875 3.359375 -3.234375 3.359375 -3.671875 C 3.359375 -4.21875 2.734375 -4.625 1.953125 -4.625 C 1.1875 -4.625 0.59375 -4.25 0.59375 -3.6875 C 0.59375 -3.453125 0.75 -3.328125 0.953125 -3.328125 C 1.171875 -3.328125 1.3125 -3.484375 1.3125 -3.671875 C 1.3125 -3.875 1.171875 -4.03125 0.953125 -4.046875 C 1.203125 -4.34375 1.671875 -4.421875 1.9375 -4.421875 C 2.25 -4.421875 2.6875 -4.265625 2.6875 -3.671875 C 2.6875 -3.375 2.59375 -3.046875 2.40625 -2.84375 C 2.1875 -2.578125 1.984375 -2.5625 1.640625 -2.53125 C 1.46875 -2.515625 1.453125 -2.515625 1.421875 -2.515625 C 1.40625 -2.515625 1.34375 -2.5 1.34375 -2.421875 C 1.34375 -2.328125 1.40625 -2.328125 1.53125 -2.328125 Z M 1.90625 -2.328125 \"/>\n",
       "</symbol>\n",
       "<symbol overflow=\"visible\" id=\"glyph-1540328653717164-3-0\">\n",
       "<path style=\"stroke:none;\" d=\"\"/>\n",
       "</symbol>\n",
       "<symbol overflow=\"visible\" id=\"glyph-1540328653717164-3-1\">\n",
       "<path style=\"stroke:none;\" d=\"M -4.984375 -4.53125 C -5.640625 -4.53125 -7.03125 -4.359375 -7.03125 -3.34375 C -7.03125 -1.953125 -4.21875 -0.421875 -1.9375 -0.421875 C -1 -0.421875 0.109375 -0.703125 0.109375 -1.609375 C 0.109375 -3.015625 -2.75 -4.53125 -4.984375 -4.53125 Z M -3.625 -1.46875 C -4.25 -1.640625 -5.046875 -1.84375 -5.765625 -2.25 C -6.25 -2.515625 -6.8125 -2.875 -6.8125 -3.328125 C -6.8125 -3.8125 -6.171875 -3.875 -5.609375 -3.875 C -5.109375 -3.875 -4.609375 -3.796875 -3.625 -3.5625 Z M -3.296875 -3.46875 C -2.84375 -3.359375 -2 -3.15625 -1.28125 -2.765625 C -0.59375 -2.421875 -0.109375 -2.046875 -0.109375 -1.609375 C -0.109375 -1.28125 -0.40625 -1.078125 -1.328125 -1.078125 C -1.75 -1.078125 -2.328125 -1.140625 -3.296875 -1.390625 Z M -3.296875 -3.46875 \"/>\n",
       "</symbol>\n",
       "<symbol overflow=\"visible\" id=\"glyph-1540328653717164-4-0\">\n",
       "<path style=\"stroke:none;\" d=\"\"/>\n",
       "</symbol>\n",
       "<symbol overflow=\"visible\" id=\"glyph-1540328653717164-4-1\">\n",
       "<path style=\"stroke:none;\" d=\"M -2.515625 -1.109375 C -4 -1.171875 -4.25 -2.015625 -4.25 -2.359375 C -4.25 -3.375 -2.90625 -3.484375 -2.515625 -3.484375 Z M -2.296875 -1.109375 L -2.296875 -3.890625 C -2.296875 -4.109375 -2.296875 -4.140625 -2.515625 -4.140625 C -3.5 -4.140625 -4.46875 -3.59375 -4.46875 -2.359375 C -4.46875 -1.203125 -3.4375 -0.28125 -2.1875 -0.28125 C -0.859375 -0.28125 0.109375 -1.328125 0.109375 -2.46875 C 0.109375 -3.6875 -1 -4.140625 -1.1875 -4.140625 C -1.28125 -4.140625 -1.3125 -4.0625 -1.3125 -4 C -1.3125 -3.921875 -1.25 -3.890625 -1.171875 -3.875 C -0.140625 -3.53125 -0.140625 -2.625 -0.140625 -2.53125 C -0.140625 -2.03125 -0.4375 -1.640625 -0.8125 -1.40625 C -1.28125 -1.109375 -1.9375 -1.109375 -2.296875 -1.109375 Z M -2.296875 -1.109375 \"/>\n",
       "</symbol>\n",
       "<symbol overflow=\"visible\" id=\"glyph-1540328653717164-4-2\">\n",
       "<path style=\"stroke:none;\" d=\"M -3.3125 -1.671875 L -4.40625 -1.671875 L -4.296875 -0.28125 L -3.984375 -0.28125 C -3.984375 -0.984375 -3.921875 -1.0625 -3.421875 -1.0625 L -0.75 -1.0625 C -0.3125 -1.0625 -0.3125 -0.953125 -0.3125 -0.28125 L 0 -0.28125 C -0.015625 -0.671875 -0.03125 -1.140625 -0.03125 -1.421875 C -0.03125 -1.8125 -0.03125 -2.28125 0 -2.6875 L -0.3125 -2.6875 L -0.3125 -2.46875 C -0.3125 -1.734375 -0.421875 -1.71875 -0.78125 -1.71875 L -2.3125 -1.71875 C -3.296875 -1.71875 -4.1875 -2.140625 -4.1875 -2.890625 C -4.1875 -2.953125 -4.1875 -2.984375 -4.171875 -3 C -4.171875 -2.96875 -4.046875 -2.765625 -3.78125 -2.765625 C -3.515625 -2.765625 -3.359375 -2.984375 -3.359375 -3.203125 C -3.359375 -3.375 -3.484375 -3.625 -3.796875 -3.625 C -4.109375 -3.625 -4.40625 -3.3125 -4.40625 -2.890625 C -4.40625 -2.15625 -3.734375 -1.796875 -3.3125 -1.671875 Z M -3.3125 -1.671875 \"/>\n",
       "</symbol>\n",
       "<symbol overflow=\"visible\" id=\"glyph-1540328653717164-4-3\">\n",
       "<path style=\"stroke:none;\" d=\"M -2.140625 -4.6875 C -3.40625 -4.6875 -4.46875 -3.703125 -4.46875 -2.5 C -4.46875 -1.25 -3.375 -0.28125 -2.140625 -0.28125 C -0.84375 -0.28125 0.109375 -1.3125 0.109375 -2.484375 C 0.109375 -3.6875 -0.875 -4.6875 -2.140625 -4.6875 Z M -0.140625 -2.5 C -0.140625 -2.0625 -0.34375 -1.625 -0.8125 -1.359375 C -1.25 -1.109375 -1.859375 -1.109375 -2.21875 -1.109375 C -2.609375 -1.109375 -3.140625 -1.109375 -3.578125 -1.34375 C -4.03125 -1.609375 -4.25 -2.078125 -4.25 -2.484375 C -4.25 -2.921875 -4.03125 -3.34375 -3.59375 -3.609375 C -3.171875 -3.875 -2.59375 -3.875 -2.21875 -3.875 C -1.859375 -3.875 -1.3125 -3.875 -0.875 -3.65625 C -0.421875 -3.421875 -0.140625 -2.984375 -0.140625 -2.5 Z M -0.140625 -2.5 \"/>\n",
       "</symbol>\n",
       "<symbol overflow=\"visible\" id=\"glyph-1540328653717164-4-4\">\n",
       "<path style=\"stroke:none;\" d=\"M 2.390625 -3.296875 C 2.359375 -3.296875 2.34375 -3.296875 2.171875 -3.125 C 0.921875 -1.890625 -0.96875 -1.5625 -2.5 -1.5625 C -4.234375 -1.5625 -5.96875 -1.9375 -7.203125 -3.171875 C -7.328125 -3.296875 -7.34375 -3.296875 -7.375 -3.296875 C -7.453125 -3.296875 -7.484375 -3.265625 -7.484375 -3.203125 C -7.484375 -3.09375 -6.796875 -2.203125 -5.53125 -1.609375 C -4.4375 -1.109375 -3.328125 -0.984375 -2.5 -0.984375 C -1.71875 -0.984375 -0.515625 -1.09375 0.625 -1.640625 C 1.84375 -2.25 2.5 -3.09375 2.5 -3.203125 C 2.5 -3.265625 2.46875 -3.296875 2.390625 -3.296875 Z M 2.390625 -3.296875 \"/>\n",
       "</symbol>\n",
       "<symbol overflow=\"visible\" id=\"glyph-1540328653717164-4-5\">\n",
       "<path style=\"stroke:none;\" d=\"M -0.75 -3.3125 C -0.359375 -3.359375 0.0625 -3.625 0.0625 -4.09375 C 0.0625 -4.3125 -0.078125 -4.921875 -0.890625 -4.921875 L -1.453125 -4.921875 L -1.453125 -4.671875 L -0.890625 -4.671875 C -0.3125 -4.671875 -0.25 -4.421875 -0.25 -4.3125 C -0.25 -3.984375 -0.703125 -3.9375 -0.75 -3.9375 L -2.734375 -3.9375 C -3.15625 -3.9375 -3.546875 -3.9375 -3.921875 -3.578125 C -4.3125 -3.1875 -4.46875 -2.6875 -4.46875 -2.21875 C -4.46875 -1.390625 -4 -0.703125 -3.34375 -0.703125 C -3.046875 -0.703125 -2.875 -0.90625 -2.875 -1.171875 C -2.875 -1.453125 -3.078125 -1.625 -3.328125 -1.625 C -3.453125 -1.625 -3.78125 -1.578125 -3.78125 -1.109375 C -4.140625 -1.390625 -4.25 -1.875 -4.25 -2.1875 C -4.25 -2.6875 -3.859375 -3.25 -2.96875 -3.25 L -2.609375 -3.25 C -2.578125 -2.734375 -2.546875 -2.046875 -2.25 -1.421875 C -1.90625 -0.671875 -1.390625 -0.421875 -0.953125 -0.421875 C -0.140625 -0.421875 0.109375 -1.390625 0.109375 -2.015625 C 0.109375 -2.671875 -0.296875 -3.125 -0.75 -3.3125 Z M -2.390625 -3.25 L -1.390625 -3.25 C -0.453125 -3.25 -0.109375 -2.53125 -0.109375 -2.078125 C -0.109375 -1.59375 -0.453125 -1.1875 -0.953125 -1.1875 C -1.5 -1.1875 -2.328125 -1.609375 -2.390625 -3.25 Z M -2.390625 -3.25 \"/>\n",
       "</symbol>\n",
       "<symbol overflow=\"visible\" id=\"glyph-1540328653717164-4-6\">\n",
       "<path style=\"stroke:none;\" d=\"M -0.546875 -3.78125 L 0.109375 -3.78125 L 0 -5.25 L -0.3125 -5.25 C -0.3125 -4.5625 -0.375 -4.46875 -0.875 -4.46875 L -6.921875 -4.46875 L -6.8125 -3.046875 L -6.5 -3.046875 C -6.5 -3.734375 -6.4375 -3.8125 -5.9375 -3.8125 L -3.78125 -3.8125 C -4.140625 -3.53125 -4.40625 -3.09375 -4.40625 -2.5625 C -4.40625 -1.390625 -3.421875 -0.34375 -2.140625 -0.34375 C -0.875 -0.34375 0.109375 -1.3125 0.109375 -2.453125 C 0.109375 -3.09375 -0.234375 -3.53125 -0.546875 -3.78125 Z M -3.21875 -3.78125 L -1.171875 -3.78125 C -1 -3.78125 -0.984375 -3.78125 -0.8125 -3.671875 C -0.328125 -3.375 -0.109375 -2.9375 -0.109375 -2.5 C -0.109375 -2.046875 -0.375 -1.6875 -0.75 -1.453125 C -1.15625 -1.203125 -1.71875 -1.171875 -2.140625 -1.171875 C -2.5 -1.171875 -3.09375 -1.1875 -3.546875 -1.46875 C -3.859375 -1.6875 -4.1875 -2.0625 -4.1875 -2.609375 C -4.1875 -2.953125 -4.03125 -3.375 -3.59375 -3.671875 C -3.421875 -3.78125 -3.40625 -3.78125 -3.21875 -3.78125 Z M -3.21875 -3.78125 \"/>\n",
       "</symbol>\n",
       "<symbol overflow=\"visible\" id=\"glyph-1540328653717164-4-7\">\n",
       "<path style=\"stroke:none;\" d=\"M -2.5 -2.875 C -3.265625 -2.875 -4.46875 -2.765625 -5.609375 -2.21875 C -6.828125 -1.625 -7.484375 -0.765625 -7.484375 -0.671875 C -7.484375 -0.609375 -7.4375 -0.5625 -7.375 -0.5625 C -7.34375 -0.5625 -7.328125 -0.5625 -7.140625 -0.75 C -6.15625 -1.734375 -4.578125 -2.296875 -2.5 -2.296875 C -0.78125 -2.296875 0.96875 -1.9375 2.21875 -0.703125 C 2.34375 -0.5625 2.359375 -0.5625 2.390625 -0.5625 C 2.453125 -0.5625 2.5 -0.609375 2.5 -0.671875 C 2.5 -0.765625 1.8125 -1.671875 0.546875 -2.25 C -0.546875 -2.765625 -1.65625 -2.875 -2.5 -2.875 Z M -2.5 -2.875 \"/>\n",
       "</symbol>\n",
       "</g>\n",
       "<clipPath id=\"clip-1540328653717164-1\">\n",
       "  <path d=\"M 0 0 L 236.125 0 L 236.125 191.65625 L 0 191.65625 Z M 0 0 \"/>\n",
       "</clipPath>\n",
       "<clipPath id=\"clip-1540328653717164-2\">\n",
       "  <path d=\"M 36.042969 8 L 230.316406 8 L 230.316406 154 L 36.042969 154 Z M 36.042969 8 \"/>\n",
       "</clipPath>\n",
       "<clipPath id=\"clip-1540328653717164-3\">\n",
       "  <path d=\"M 222 140 L 236.125 140 L 236.125 156 L 222 156 Z M 222 140 \"/>\n",
       "</clipPath>\n",
       "</defs>\n",
       "<g id=\"surface1\">\n",
       "<g clip-path=\"url(#clip-1540328653717164-1)\" clip-rule=\"nonzero\">\n",
       "<path style=\" stroke:none;fill-rule:nonzero;fill:rgb(100%,100%,100%);fill-opacity:1;\" d=\"M 0 191.65625 L 237.007812 191.65625 L 237.007812 -0.71875 L 0 -0.71875 Z M 0 191.65625 \"/>\n",
       "</g>\n",
       "<path style=\"fill:none;stroke-width:0.3985;stroke-linecap:butt;stroke-linejoin:miter;stroke:rgb(75%,75%,75%);stroke-opacity:1;stroke-miterlimit:10;\" d=\"M 0.00096875 -13.44975 L 0.00096875 147.944781 M 38.856437 -13.44975 L 38.856437 147.944781 M 77.708 -13.44975 L 77.708 147.944781 M 116.563469 -13.44975 L 116.563469 147.944781 M 155.418937 -13.44975 L 155.418937 147.944781 M 194.274406 -13.44975 L 194.274406 147.944781 \" transform=\"matrix(1,0,0,-1,36.042,148.144)\"/>\n",
       "<path style=\"fill:none;stroke-width:0.3985;stroke-linecap:butt;stroke-linejoin:miter;stroke:rgb(75%,75%,75%);stroke-opacity:1;stroke-miterlimit:10;\" d=\"M 0.00096875 -12.555219 L 194.274406 -12.555219 M 0.00096875 36.628375 L 194.274406 36.628375 M 0.00096875 85.815875 L 194.274406 85.815875 M 0.00096875 135.003375 L 194.274406 135.003375 \" transform=\"matrix(1,0,0,-1,36.042,148.144)\"/>\n",
       "<path style=\"fill:none;stroke-width:0.19925;stroke-linecap:butt;stroke-linejoin:miter;stroke:rgb(50%,50%,50%);stroke-opacity:1;stroke-miterlimit:10;\" d=\"M 0.00096875 -13.44975 L 0.00096875 -9.19975 M 38.856437 -13.44975 L 38.856437 -9.19975 M 77.708 -13.44975 L 77.708 -9.19975 M 116.563469 -13.44975 L 116.563469 -9.19975 M 155.418937 -13.44975 L 155.418937 -9.19975 M 194.274406 -13.44975 L 194.274406 -9.19975 M 0.00096875 147.944781 L 0.00096875 143.694781 M 38.856437 147.944781 L 38.856437 143.694781 M 77.708 147.944781 L 77.708 143.694781 M 116.563469 147.944781 L 116.563469 143.694781 M 155.418937 147.944781 L 155.418937 143.694781 M 194.274406 147.944781 L 194.274406 143.694781 \" transform=\"matrix(1,0,0,-1,36.042,148.144)\"/>\n",
       "<path style=\"fill:none;stroke-width:0.19925;stroke-linecap:butt;stroke-linejoin:miter;stroke:rgb(50%,50%,50%);stroke-opacity:1;stroke-miterlimit:10;\" d=\"M 0.00096875 -12.555219 L 4.250969 -12.555219 M 0.00096875 36.628375 L 4.250969 36.628375 M 0.00096875 85.815875 L 4.250969 85.815875 M 0.00096875 135.003375 L 4.250969 135.003375 M 194.274406 -12.555219 L 190.0205 -12.555219 M 194.274406 36.628375 L 190.0205 36.628375 M 194.274406 85.815875 L 190.0205 85.815875 M 194.274406 135.003375 L 190.0205 135.003375 \" transform=\"matrix(1,0,0,-1,36.042,148.144)\"/>\n",
       "<path style=\"fill:none;stroke-width:0.3985;stroke-linecap:butt;stroke-linejoin:miter;stroke:rgb(0%,0%,0%);stroke-opacity:1;stroke-miterlimit:10;\" d=\"M 0.00096875 -13.44975 L 0.00096875 147.944781 L 194.274406 147.944781 L 194.274406 -13.44975 Z M 0.00096875 -13.44975 \" transform=\"matrix(1,0,0,-1,36.042,148.144)\"/>\n",
       "<g style=\"fill:rgb(0%,0%,0%);fill-opacity:1;\">\n",
       "  <use xlink:href=\"#glyph-1540328653717164-0-1\" x=\"33.551\" y=\"171.535\"/>\n",
       "</g>\n",
       "<g style=\"fill:rgb(0%,0%,0%);fill-opacity:1;\">\n",
       "  <use xlink:href=\"#glyph-1540328653717164-0-1\" x=\"68.531\" y=\"171.535\"/>\n",
       "</g>\n",
       "<g style=\"fill:rgb(0%,0%,0%);fill-opacity:1;\">\n",
       "  <use xlink:href=\"#glyph-1540328653717164-1-1\" x=\"73.512\" y=\"171.535\"/>\n",
       "</g>\n",
       "<g style=\"fill:rgb(0%,0%,0%);fill-opacity:1;\">\n",
       "  <use xlink:href=\"#glyph-1540328653717164-0-2\" x=\"76.28\" y=\"171.535\"/>\n",
       "</g>\n",
       "<g style=\"fill:rgb(0%,0%,0%);fill-opacity:1;\">\n",
       "  <use xlink:href=\"#glyph-1540328653717164-0-1\" x=\"107.385\" y=\"171.535\"/>\n",
       "</g>\n",
       "<g style=\"fill:rgb(0%,0%,0%);fill-opacity:1;\">\n",
       "  <use xlink:href=\"#glyph-1540328653717164-1-1\" x=\"112.367\" y=\"171.535\"/>\n",
       "</g>\n",
       "<g style=\"fill:rgb(0%,0%,0%);fill-opacity:1;\">\n",
       "  <use xlink:href=\"#glyph-1540328653717164-0-3\" x=\"115.134\" y=\"171.535\"/>\n",
       "</g>\n",
       "<g style=\"fill:rgb(0%,0%,0%);fill-opacity:1;\">\n",
       "  <use xlink:href=\"#glyph-1540328653717164-0-1\" x=\"146.24\" y=\"171.535\"/>\n",
       "</g>\n",
       "<g style=\"fill:rgb(0%,0%,0%);fill-opacity:1;\">\n",
       "  <use xlink:href=\"#glyph-1540328653717164-1-1\" x=\"151.221\" y=\"171.535\"/>\n",
       "</g>\n",
       "<g style=\"fill:rgb(0%,0%,0%);fill-opacity:1;\">\n",
       "  <use xlink:href=\"#glyph-1540328653717164-0-4\" x=\"153.988\" y=\"171.535\"/>\n",
       "</g>\n",
       "<g style=\"fill:rgb(0%,0%,0%);fill-opacity:1;\">\n",
       "  <use xlink:href=\"#glyph-1540328653717164-0-1\" x=\"185.094\" y=\"171.535\"/>\n",
       "</g>\n",
       "<g style=\"fill:rgb(0%,0%,0%);fill-opacity:1;\">\n",
       "  <use xlink:href=\"#glyph-1540328653717164-1-1\" x=\"190.075\" y=\"171.535\"/>\n",
       "</g>\n",
       "<g style=\"fill:rgb(0%,0%,0%);fill-opacity:1;\">\n",
       "  <use xlink:href=\"#glyph-1540328653717164-0-5\" x=\"192.843\" y=\"171.535\"/>\n",
       "</g>\n",
       "<g style=\"fill:rgb(0%,0%,0%);fill-opacity:1;\">\n",
       "  <use xlink:href=\"#glyph-1540328653717164-0-6\" x=\"227.822\" y=\"171.535\"/>\n",
       "</g>\n",
       "<g style=\"fill:rgb(0%,0%,0%);fill-opacity:1;\">\n",
       "  <use xlink:href=\"#glyph-1540328653717164-0-1\" x=\"27.541\" y=\"163.91\"/>\n",
       "</g>\n",
       "<g style=\"fill:rgb(0%,0%,0%);fill-opacity:1;\">\n",
       "  <use xlink:href=\"#glyph-1540328653717164-2-1\" x=\"21.319\" y=\"110.083\"/>\n",
       "</g>\n",
       "<path style=\"fill:none;stroke-width:0.398;stroke-linecap:butt;stroke-linejoin:miter;stroke:rgb(0%,0%,0%);stroke-opacity:1;stroke-miterlimit:10;\" d=\"M 0.0013125 -0.001625 L 3.970062 -0.001625 \" transform=\"matrix(1,0,0,-1,21.319,111.514)\"/>\n",
       "<g style=\"fill:rgb(0%,0%,0%);fill-opacity:1;\">\n",
       "  <use xlink:href=\"#glyph-1540328653717164-2-2\" x=\"21.319\" y=\"117.441\"/>\n",
       "</g>\n",
       "<g style=\"fill:rgb(0%,0%,0%);fill-opacity:1;\">\n",
       "  <use xlink:href=\"#glyph-1540328653717164-1-2\" x=\"26.486\" y=\"114.005\"/>\n",
       "</g>\n",
       "<g style=\"fill:rgb(0%,0%,0%);fill-opacity:1;\">\n",
       "  <use xlink:href=\"#glyph-1540328653717164-2-1\" x=\"21.319\" y=\"60.897\"/>\n",
       "</g>\n",
       "<path style=\"fill:none;stroke-width:0.398;stroke-linecap:butt;stroke-linejoin:miter;stroke:rgb(0%,0%,0%);stroke-opacity:1;stroke-miterlimit:10;\" d=\"M 0.0013125 0.000875 L 3.970062 0.000875 \" transform=\"matrix(1,0,0,-1,21.319,62.329)\"/>\n",
       "<g style=\"fill:rgb(0%,0%,0%);fill-opacity:1;\">\n",
       "  <use xlink:href=\"#glyph-1540328653717164-2-3\" x=\"21.319\" y=\"68.255\"/>\n",
       "</g>\n",
       "<g style=\"fill:rgb(0%,0%,0%);fill-opacity:1;\">\n",
       "  <use xlink:href=\"#glyph-1540328653717164-1-2\" x=\"26.486\" y=\"64.819\"/>\n",
       "</g>\n",
       "<g style=\"fill:rgb(0%,0%,0%);fill-opacity:1;\">\n",
       "  <use xlink:href=\"#glyph-1540328653717164-2-4\" x=\"21.319\" y=\"11.711\"/>\n",
       "</g>\n",
       "<path style=\"fill:none;stroke-width:0.398;stroke-linecap:butt;stroke-linejoin:miter;stroke:rgb(0%,0%,0%);stroke-opacity:1;stroke-miterlimit:10;\" d=\"M 0.0013125 -0.00153125 L 3.970062 -0.00153125 \" transform=\"matrix(1,0,0,-1,21.319,13.143)\"/>\n",
       "<g style=\"fill:rgb(0%,0%,0%);fill-opacity:1;\">\n",
       "  <use xlink:href=\"#glyph-1540328653717164-2-2\" x=\"21.319\" y=\"19.069\"/>\n",
       "</g>\n",
       "<g style=\"fill:rgb(0%,0%,0%);fill-opacity:1;\">\n",
       "  <use xlink:href=\"#glyph-1540328653717164-1-2\" x=\"26.486\" y=\"15.634\"/>\n",
       "</g>\n",
       "<g clip-path=\"url(#clip-1540328653717164-2)\" clip-rule=\"nonzero\">\n",
       "<path style=\"fill:none;stroke-width:0.3985;stroke-linecap:butt;stroke-linejoin:miter;stroke:rgb(0%,0%,100%);stroke-opacity:1;stroke-miterlimit:10;\" d=\"M 0.00096875 134.495563 L 19.42675 131.214313 L 38.856437 124.655719 L 58.282219 114.835406 L 77.708 101.776813 L 97.137687 85.522906 L 116.563469 66.179156 L 135.993156 44.030719 L 155.418937 21.179156 L 174.844719 0.308063 L 194.274406 -0.00053125 \" transform=\"matrix(1,0,0,-1,36.042,148.144)\"/>\n",
       "</g>\n",
       "<path style=\"fill-rule:nonzero;fill:rgb(0%,0%,79.998779%);fill-opacity:1;stroke-width:0.3985;stroke-linecap:butt;stroke-linejoin:miter;stroke:rgb(0%,0%,100%);stroke-opacity:1;stroke-miterlimit:10;\" d=\"M 1.993156 134.495563 C 1.993156 135.597125 1.098625 136.48775 0.00096875 136.48775 C -1.100594 136.48775 -1.991219 135.597125 -1.991219 134.495563 C -1.991219 133.394 -1.100594 132.503375 0.00096875 132.503375 C 1.098625 132.503375 1.993156 133.394 1.993156 134.495563 Z M 1.993156 134.495563 \" transform=\"matrix(1,0,0,-1,36.042,148.144)\"/>\n",
       "<path style=\"fill-rule:nonzero;fill:rgb(0%,0%,79.998779%);fill-opacity:1;stroke-width:0.3985;stroke-linecap:butt;stroke-linejoin:miter;stroke:rgb(0%,0%,100%);stroke-opacity:1;stroke-miterlimit:10;\" d=\"M 21.418937 131.214313 C 21.418937 132.315875 20.528312 133.2065 19.42675 133.2065 C 18.325187 133.2065 17.434562 132.315875 17.434562 131.214313 C 17.434562 130.11275 18.325187 129.222125 19.42675 129.222125 C 20.528312 129.222125 21.418937 130.11275 21.418937 131.214313 Z M 21.418937 131.214313 \" transform=\"matrix(1,0,0,-1,36.042,148.144)\"/>\n",
       "<path style=\"fill-rule:nonzero;fill:rgb(0%,0%,79.998779%);fill-opacity:1;stroke-width:0.3985;stroke-linecap:butt;stroke-linejoin:miter;stroke:rgb(0%,0%,100%);stroke-opacity:1;stroke-miterlimit:10;\" d=\"M 40.848625 124.655719 C 40.848625 125.757281 39.954094 126.647906 38.856437 126.647906 C 37.754875 126.647906 36.860344 125.757281 36.860344 124.655719 C 36.860344 123.554156 37.754875 122.663531 38.856437 122.663531 C 39.954094 122.663531 40.848625 123.554156 40.848625 124.655719 Z M 40.848625 124.655719 \" transform=\"matrix(1,0,0,-1,36.042,148.144)\"/>\n",
       "<path style=\"fill-rule:nonzero;fill:rgb(0%,0%,79.998779%);fill-opacity:1;stroke-width:0.3985;stroke-linecap:butt;stroke-linejoin:miter;stroke:rgb(0%,0%,100%);stroke-opacity:1;stroke-miterlimit:10;\" d=\"M 60.274406 114.835406 C 60.274406 115.936969 59.383781 116.827594 58.282219 116.827594 C 57.180656 116.827594 56.290031 115.936969 56.290031 114.835406 C 56.290031 113.733844 57.180656 112.843219 58.282219 112.843219 C 59.383781 112.843219 60.274406 113.733844 60.274406 114.835406 Z M 60.274406 114.835406 \" transform=\"matrix(1,0,0,-1,36.042,148.144)\"/>\n",
       "<path style=\"fill-rule:nonzero;fill:rgb(0%,0%,79.998779%);fill-opacity:1;stroke-width:0.3985;stroke-linecap:butt;stroke-linejoin:miter;stroke:rgb(0%,0%,100%);stroke-opacity:1;stroke-miterlimit:10;\" d=\"M 79.700187 101.776813 C 79.700187 102.874469 78.809562 103.769 77.708 103.769 C 76.610344 103.769 75.715812 102.874469 75.715812 101.776813 C 75.715812 100.67525 76.610344 99.780719 77.708 99.780719 C 78.809562 99.780719 79.700187 100.67525 79.700187 101.776813 Z M 79.700187 101.776813 \" transform=\"matrix(1,0,0,-1,36.042,148.144)\"/>\n",
       "<path style=\"fill-rule:nonzero;fill:rgb(0%,0%,79.998779%);fill-opacity:1;stroke-width:0.3985;stroke-linecap:butt;stroke-linejoin:miter;stroke:rgb(0%,0%,100%);stroke-opacity:1;stroke-miterlimit:10;\" d=\"M 99.129875 85.522906 C 99.129875 86.624469 98.23925 87.515094 97.137687 87.515094 C 96.036125 87.515094 95.1455 86.624469 95.1455 85.522906 C 95.1455 84.421344 96.036125 83.530719 97.137687 83.530719 C 98.23925 83.530719 99.129875 84.421344 99.129875 85.522906 Z M 99.129875 85.522906 \" transform=\"matrix(1,0,0,-1,36.042,148.144)\"/>\n",
       "<path style=\"fill-rule:nonzero;fill:rgb(0%,0%,79.998779%);fill-opacity:1;stroke-width:0.3985;stroke-linecap:butt;stroke-linejoin:miter;stroke:rgb(0%,0%,100%);stroke-opacity:1;stroke-miterlimit:10;\" d=\"M 118.555656 66.179156 C 118.555656 67.280719 117.665031 68.171344 116.563469 68.171344 C 115.461906 68.171344 114.571281 67.280719 114.571281 66.179156 C 114.571281 65.077594 115.461906 64.186969 116.563469 64.186969 C 117.665031 64.186969 118.555656 65.077594 118.555656 66.179156 Z M 118.555656 66.179156 \" transform=\"matrix(1,0,0,-1,36.042,148.144)\"/>\n",
       "<path style=\"fill-rule:nonzero;fill:rgb(0%,0%,79.998779%);fill-opacity:1;stroke-width:0.3985;stroke-linecap:butt;stroke-linejoin:miter;stroke:rgb(0%,0%,100%);stroke-opacity:1;stroke-miterlimit:10;\" d=\"M 137.985344 44.030719 C 137.985344 45.128375 137.090812 46.022906 135.993156 46.022906 C 134.891594 46.022906 134.000969 45.128375 134.000969 44.030719 C 134.000969 42.929156 134.891594 42.038531 135.993156 42.038531 C 137.090812 42.038531 137.985344 42.929156 137.985344 44.030719 Z M 137.985344 44.030719 \" transform=\"matrix(1,0,0,-1,36.042,148.144)\"/>\n",
       "<path style=\"fill-rule:nonzero;fill:rgb(0%,0%,79.998779%);fill-opacity:1;stroke-width:0.3985;stroke-linecap:butt;stroke-linejoin:miter;stroke:rgb(0%,0%,100%);stroke-opacity:1;stroke-miterlimit:10;\" d=\"M 157.411125 21.179156 C 157.411125 22.280719 156.5205 23.171344 155.418937 23.171344 C 154.317375 23.171344 153.42675 22.280719 153.42675 21.179156 C 153.42675 20.077594 154.317375 19.186969 155.418937 19.186969 C 156.5205 19.186969 157.411125 20.077594 157.411125 21.179156 Z M 157.411125 21.179156 \" transform=\"matrix(1,0,0,-1,36.042,148.144)\"/>\n",
       "<path style=\"fill-rule:nonzero;fill:rgb(0%,0%,79.998779%);fill-opacity:1;stroke-width:0.3985;stroke-linecap:butt;stroke-linejoin:miter;stroke:rgb(0%,0%,100%);stroke-opacity:1;stroke-miterlimit:10;\" d=\"M 176.840812 0.308063 C 176.840812 1.405719 175.946281 2.30025 174.844719 2.30025 C 173.747062 2.30025 172.852531 1.405719 172.852531 0.308063 C 172.852531 -0.7935 173.747062 -1.684125 174.844719 -1.684125 C 175.946281 -1.684125 176.840812 -0.7935 176.840812 0.308063 Z M 176.840812 0.308063 \" transform=\"matrix(1,0,0,-1,36.042,148.144)\"/>\n",
       "<path style=\" stroke:none;fill-rule:nonzero;fill:rgb(0%,0%,79.998779%);fill-opacity:1;\" d=\"M 232.308594 148.144531 C 232.308594 147.042969 231.417969 146.152344 230.316406 146.152344 C 229.214844 146.152344 228.324219 147.042969 228.324219 148.144531 C 228.324219 149.246094 229.214844 150.136719 230.316406 150.136719 C 231.417969 150.136719 232.308594 149.246094 232.308594 148.144531 Z M 232.308594 148.144531 \"/>\n",
       "<g clip-path=\"url(#clip-1540328653717164-3)\" clip-rule=\"nonzero\">\n",
       "<path style=\"fill:none;stroke-width:0.3985;stroke-linecap:butt;stroke-linejoin:miter;stroke:rgb(0%,0%,100%);stroke-opacity:1;stroke-miterlimit:10;\" d=\"M 196.266594 -0.00053125 C 196.266594 1.101031 195.375969 1.991656 194.274406 1.991656 C 193.172844 1.991656 192.282219 1.101031 192.282219 -0.00053125 C 192.282219 -1.102094 193.172844 -1.992719 194.274406 -1.992719 C 195.375969 -1.992719 196.266594 -1.102094 196.266594 -0.00053125 Z M 196.266594 -0.00053125 \" transform=\"matrix(1,0,0,-1,36.042,148.144)\"/>\n",
       "</g>\n",
       "<g style=\"fill:rgb(0%,0%,0%);fill-opacity:1;\">\n",
       "  <use xlink:href=\"#glyph-1540328653717164-1-3\" x=\"123.879\" y=\"185.847\"/>\n",
       "</g>\n",
       "<g style=\"fill:rgb(0%,0%,0%);fill-opacity:1;\">\n",
       "  <use xlink:href=\"#glyph-1540328653717164-0-7\" x=\"130.797\" y=\"185.847\"/>\n",
       "  <use xlink:href=\"#glyph-1540328653717164-0-8\" x=\"134.671455\" y=\"185.847\"/>\n",
       "  <use xlink:href=\"#glyph-1540328653717164-0-9\" x=\"138.600705\" y=\"185.847\"/>\n",
       "</g>\n",
       "<g style=\"fill:rgb(0%,0%,0%);fill-opacity:1;\">\n",
       "  <use xlink:href=\"#glyph-1540328653717164-3-1\" x=\"10.792\" y=\"108.336\"/>\n",
       "</g>\n",
       "<g style=\"fill:rgb(0%,0%,0%);fill-opacity:1;\">\n",
       "  <use xlink:href=\"#glyph-1540328653717164-4-1\" x=\"10.792\" y=\"100.061\"/>\n",
       "  <use xlink:href=\"#glyph-1540328653717164-4-2\" x=\"10.792\" y=\"95.633621\"/>\n",
       "  <use xlink:href=\"#glyph-1540328653717164-4-2\" x=\"10.792\" y=\"91.73127\"/>\n",
       "  <use xlink:href=\"#glyph-1540328653717164-4-3\" x=\"10.792\" y=\"87.82892\"/>\n",
       "  <use xlink:href=\"#glyph-1540328653717164-4-2\" x=\"10.792\" y=\"82.84762\"/>\n",
       "</g>\n",
       "<g style=\"fill:rgb(0%,0%,0%);fill-opacity:1;\">\n",
       "  <use xlink:href=\"#glyph-1540328653717164-4-4\" x=\"10.792\" y=\"75.627724\"/>\n",
       "  <use xlink:href=\"#glyph-1540328653717164-4-2\" x=\"10.792\" y=\"71.753268\"/>\n",
       "  <use xlink:href=\"#glyph-1540328653717164-4-5\" x=\"10.792\" y=\"67.850918\"/>\n",
       "  <use xlink:href=\"#glyph-1540328653717164-4-6\" x=\"10.792\" y=\"62.869618\"/>\n",
       "  <use xlink:href=\"#glyph-1540328653717164-4-7\" x=\"10.792\" y=\"57.334397\"/>\n",
       "</g>\n",
       "</g>\n",
       "</svg>\n",
       "\n"
      ],
      "text/plain": [
       "Axis(PGFPlotsX.Options(OrderedCollections.OrderedDict{Any,Any}(\"xmajorgrids\"=>nothing,\"ymajorgrids\"=>nothing,\"xmin\"=>0.0,\"xmax\"=>1.0,\"enlarge_y_limits\"=>nothing,\"xlabel\"=>L\"$t$ (s)\",\"ylabel\"=>L\"$\\theta$ error (rad)\",\"ytick\"=>0.0:0.7853981633974483:2.356194490192345,\"yticklabels\"=>LaTeXString[L\"$0$\", L\"$\\frac{1}{4}\\pi$\", L\"$\\frac{1}{2}\\pi$\", L\"$\\frac{3}{4}\\pi$\"]), true), Any[Plot(false, false, Options(OrderedCollections.OrderedDict{Any,Any}(), false), Table(Options(OrderedCollections.OrderedDict{Any,Any}(), false), TableData([0.0 2.3481; 0.1 2.29569; … ; 0.9 0.205399; 1.0 0.200496], nothing, Int64[], true)), Any[])])"
      ]
     },
     "execution_count": 12,
     "metadata": {},
     "output_type": "execute_result"
    }
   ],
   "source": [
    "p = timeplot(t, θs; ylabel=L\"$\\theta$ error (rad)\")\n",
    "piticks!(p, 1//4, θs; axis=:y)\n",
    "save_data && pgfsave(joinpath(datadir, \"error.pdf\"), p)\n",
    "p"
   ]
  },
  {
   "cell_type": "code",
   "execution_count": 13,
   "metadata": {},
   "outputs": [],
   "source": [
    "using RigidBodyDynamics"
   ]
  },
  {
   "cell_type": "code",
   "execution_count": 14,
   "metadata": {},
   "outputs": [],
   "source": [
    "world = RigidBody{Float64}(\"world\")\n",
    "mechanism = Mechanism(world)\n",
    "joint = Joint(\"joint\", QuaternionSpherical{Float64}())\n",
    "inertia = SpatialInertia(joint.frame_after, Diagonal([parameters.Ixx, parameters.Iyy, parameters.Izz]), zeros(3), 30.0)\n",
    "body = RigidBody(inertia)\n",
    "attach!(mechanism, world, body, joint);"
   ]
  },
  {
   "cell_type": "code",
   "execution_count": 15,
   "metadata": {},
   "outputs": [
    {
     "data": {
      "text/html": [
       "    <script class='js-collapse-script'>\n",
       "        var curMatch =\n",
       "            window.location.href\n",
       "            .match(/(.*?)\\/notebooks\\/.*\\.ipynb/);\n",
       "\n",
       "        curMatch = curMatch ||\n",
       "            window.location.href\n",
       "            .match(/(.*?)\\/apps\\/.*\\.ipynb/);\n",
       "\n",
       "        if ( curMatch ) {\n",
       "            $('head').append('<base href=\"' + curMatch[1] + '/\">');\n",
       "        }\n",
       "    </script>\n"
      ],
      "text/plain": [
       "HTML{String}(\"    <script class='js-collapse-script'>\\n        var curMatch =\\n            window.location.href\\n            .match(/(.*?)\\\\/notebooks\\\\/.*\\\\.ipynb/);\\n\\n        curMatch = curMatch ||\\n            window.location.href\\n            .match(/(.*?)\\\\/apps\\\\/.*\\\\.ipynb/);\\n\\n        if ( curMatch ) {\\n            \\$('head').append('<base href=\\\"' + curMatch[1] + '/\\\">');\\n        }\\n    </script>\\n\")"
      ]
     },
     "metadata": {},
     "output_type": "display_data"
    },
    {
     "data": {
      "text/html": [
       "<script class='js-collapse-script' src='/assetserver/25f9570346b69729e3f0d089746606f6943c897a-assets/webio/dist/bundle.js'></script>"
      ],
      "text/plain": [
       "HTML{String}(\"<script class='js-collapse-script' src='/assetserver/25f9570346b69729e3f0d089746606f6943c897a-assets/webio/dist/bundle.js'></script>\")"
      ]
     },
     "metadata": {},
     "output_type": "display_data"
    },
    {
     "data": {
      "text/html": [
       "<script class='js-collapse-script' src='/assetserver/25f9570346b69729e3f0d089746606f6943c897a-assets/providers/ijulia_setup.js'></script>"
      ],
      "text/plain": [
       "HTML{String}(\"<script class='js-collapse-script' src='/assetserver/25f9570346b69729e3f0d089746606f6943c897a-assets/providers/ijulia_setup.js'></script>\")"
      ]
     },
     "metadata": {},
     "output_type": "display_data"
    },
    {
     "data": {
      "text/html": [
       "  <script class='js-collapse-script'>\n",
       "    $('.js-collapse-script').parent('.output_subarea').css('padding', '0');\n",
       "  </script>\n"
      ],
      "text/plain": [
       "HTML{String}(\"  <script class='js-collapse-script'>\\n    \\$('.js-collapse-script').parent('.output_subarea').css('padding', '0');\\n  </script>\\n\")"
      ]
     },
     "metadata": {},
     "output_type": "display_data"
    }
   ],
   "source": [
    "using MeshCat, MeshCatMechanisms, MechanismGeometries, Logging"
   ]
  },
  {
   "cell_type": "code",
   "execution_count": 16,
   "metadata": {},
   "outputs": [],
   "source": [
    "mvis = MechanismVisualizer(mechanism, Skeleton(inertias=true));\n",
    "with_logger(NullLogger()) do\n",
    "    open(mvis)\n",
    "end;"
   ]
  },
  {
   "cell_type": "code",
   "execution_count": 17,
   "metadata": {},
   "outputs": [],
   "source": [
    "frame = frame_after(joint)\n",
    "setobject!(mvis[frame][\"triad\"], Triad(0.5));"
   ]
  },
  {
   "cell_type": "code",
   "execution_count": 18,
   "metadata": {},
   "outputs": [
    {
     "name": "stderr",
     "output_type": "stream",
     "text": [
      "┌ Warning: `getindex(itp::AbstractInterpolation{T, N}, i::Vararg{Number, N}) where {T, N}` is deprecated, use `itp(i...)` instead.\n",
      "│   caller = #setanimation!#4(::Int64, ::Bool, ::Int64, ::Function, ::MechanismVisualizer{MechanismState{Float64,Float64,Float64,TypeSortedCollections.TypeSortedCollection{Tuple{Array{Joint{Float64,QuaternionSpherical{Float64}},1}},1}},Visualizer}, ::StepRangeLen{Float64,Base.TwicePrecision{Float64},Base.TwicePrecision{Float64}}, ::Array{Array{Float64,1},1}) at animate.jl:46\n",
      "└ @ MeshCatMechanisms /home/twan/.julia/packages/MeshCatMechanisms/AHOtT/src/animate.jl:46\n"
     ]
    }
   ],
   "source": [
    "setanimation!(mvis, t, qs);"
   ]
  }
 ],
 "metadata": {
  "kernelspec": {
   "display_name": "Julia 1.0.0",
   "language": "julia",
   "name": "julia-1.0"
  },
  "language_info": {
   "file_extension": ".jl",
   "mimetype": "application/julia",
   "name": "julia",
   "version": "1.0.0"
  }
 },
 "nbformat": 4,
 "nbformat_minor": 2
}
