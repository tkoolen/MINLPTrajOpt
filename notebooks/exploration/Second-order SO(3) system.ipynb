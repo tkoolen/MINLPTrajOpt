{
 "cells": [
  {
   "cell_type": "code",
   "execution_count": 1,
   "metadata": {},
   "outputs": [
    {
     "name": "stdout",
     "output_type": "stream",
     "text": [
      "\u001b[32m\u001b[1m  Updating\u001b[22m\u001b[39m registry at `~/.julia/registries/General`\n",
      "\u001b[32m\u001b[1m  Updating\u001b[22m\u001b[39m git-repo `https://github.com/JuliaRegistries/General.git`\n",
      "\u001b[2K\u001b[?25h[1mFetching:\u001b[22m\u001b[39m [========================================>]  100.0 %.0 %"
     ]
    }
   ],
   "source": [
    "using Pkg\n",
    "Pkg.activate(@__DIR__)\n",
    "push!(LOAD_PATH, joinpath(@__DIR__, \"..\", \"..\"))\n",
    "Pkg.instantiate()"
   ]
  },
  {
   "cell_type": "code",
   "execution_count": 61,
   "metadata": {},
   "outputs": [],
   "source": [
    "using JuMP\n",
    "using BARON\n",
    "using LinearAlgebra\n",
    "using StaticArrays\n",
    "using MINLPTrajOpt\n",
    "using MINLPTrajOpt.SO3\n",
    "using Rotations\n",
    "using Random"
   ]
  },
  {
   "cell_type": "code",
   "execution_count": 62,
   "metadata": {},
   "outputs": [],
   "source": [
    "rootdir = joinpath(dirname(pathof(MINLPTrajOpt)), \"..\")\n",
    "save_data = true;"
   ]
  },
  {
   "cell_type": "code",
   "execution_count": 63,
   "metadata": {},
   "outputs": [],
   "source": [
    "solver = BaronSolver(threads=Sys.CPU_THREADS, EpsA=1e-2, MaxTime=10 * 60.0, PrTimeFreq=5.)\n",
    "# solver = CouenneNLSolver()\n",
    "parameters = SO3Parameters(Ixx = 1., Iyy = 0.7, Izz = 1.4)\n",
    "τmax = 10.0\n",
    "Random.seed!(1)\n",
    "quat0 = rand(Quat)\n",
    "ω0 = zero(SVector{3})\n",
    "\n",
    "N = 15\n",
    "T = 4.0\n",
    "Δt = T / N\n",
    "Δθmax = 0.5\n",
    "\n",
    "problem = SO3Problem(parameters, quat0, ω0, solver; τmax=τmax, Δt=Δt, N=N, Δθmax=Δθmax);"
   ]
  },
  {
   "cell_type": "code",
   "execution_count": 64,
   "metadata": {
    "scrolled": false
   },
   "outputs": [
    {
     "name": "stdout",
     "output_type": "stream",
     "text": [
      "===========================================================================\n",
      " BARON version 18.8.23. Built: LNX-64 Thu Aug 23 14:46:44 EDT 2018\n",
      "\n",
      " BARON is a product of The Optimization Firm.\n",
      " For information on BARON, see https://minlp.com/about-baron\n",
      " Licensee: MIT at Twan Koolen, tkoolen@mit.edu.\n",
      "\n",
      " If you use this software, please cite publications from\n",
      " https://minlp.com/baron-publications, such as: \n",
      "\n",
      " Khajavirad, A. and N. V. Sahinidis,\n",
      " A hybrid LP/NLP paradigm for global optimization relaxations,\n",
      " Mathematical Programming Computation, 10, 383-421, 2018.\n",
      "===========================================================================\n",
      " This BARON run may utilize the following subsolver(s)\n",
      " For LP/MIP: ILOG CPLEX                                      \n",
      " For NLP: IPOPT, FILTERSD, FILTERSQP\n",
      "===========================================================================\n",
      " Doing local search\n",
      " Unable to find/load CPLEX library libcplex.so: cannot open shared object file: No such file or directory\n",
      " Using CPLEX library libcplex1280.so.\n",
      " Preprocessing found feasible solution with value  3.42981266142     \n",
      " Solving bounding LP\n",
      " Starting multi-start local search\n",
      " Done with local search\n",
      "===========================================================================\n",
      "  Iteration    Open nodes         Time (s)    Lower bound      Upper bound\n",
      "          1             1            17.00     1.37205          3.42981    \n",
      "          2+            2            39.00     1.37205          3.42981    \n",
      "          3             2            68.00     1.37205          3.42981    \n",
      "          6             4            75.00     1.72571          3.42981    \n",
      "         11             7            81.00     1.72571          3.42981    \n",
      "*        14            10           117.00     1.72571          3.42788    \n",
      "         23            16           146.00     1.72571          3.42788    \n",
      "         32            24           152.00     1.73424          3.42788    \n",
      "         46            32           159.00     1.74000          3.42788    \n",
      "         66            38           164.00     1.77600          3.42788    \n",
      "         68+           39           169.00     1.77600          3.42788    \n",
      "         75            38           174.00     1.81231          3.42788    \n",
      "         75+           38           179.00     1.81231          3.42788    \n",
      "         77+           37           185.00     1.81231          3.42788    \n",
      "         77+           37           190.00     1.81231          3.42788    \n",
      "         79+           37           195.00     1.81348          3.42788    \n",
      "         79+           37           201.00     1.81348          3.42788    \n",
      "         79+           37           206.00     1.81348          3.42788    \n",
      "         79+           37           212.00     1.81348          3.42788    \n",
      "         79+           37           217.00     1.81348          3.42788    \n",
      "         80+           37           222.00     1.81348          3.42788    \n",
      "         81+           38           227.00     1.81384          3.42788    \n",
      "         81+           38           233.00     1.81384          3.42788    \n",
      "         81+           38           238.00     1.81384          3.42788    \n",
      "         81+           38           244.00     1.81384          3.42788    \n",
      "         81+           38           249.00     1.81384          3.42788    \n",
      "         81+           38           254.00     1.81384          3.42788    \n",
      "         81+           38           260.00     1.81384          3.42788    \n",
      "         81+           38           266.00     1.81384          3.42788    \n",
      "         81+           38           272.00     1.81384          3.42788    \n",
      "         81+           38           278.00     1.81384          3.42788    \n",
      "         81+           38           283.00     1.81384          3.42788    \n",
      "         81+           38           288.00     1.81384          3.42788    \n",
      "         81+           38           296.00     1.81384          3.42788    \n",
      "         81+           38           304.00     1.81384          3.42788    \n",
      "         81+           38           309.00     1.81384          3.42788    \n",
      "         81            38           317.00     1.81384          3.42788    \n",
      "         82+           39           322.00     1.81384          3.42788    \n",
      "         82+           39           327.00     1.81384          3.42788    \n",
      "         83+           39           333.00     1.81384          3.42788    \n",
      "         83+           39           338.00     1.81384          3.42788    \n",
      "         83+           39           343.00     1.81384          3.42788    \n",
      "         83+           39           348.00     1.81384          3.42788    \n",
      "         83+           39           354.00     1.81384          3.42788    \n",
      "         84+           39           359.00     1.86760          3.42788    \n",
      "         84+           39           364.00     1.86760          3.42788    \n",
      "         85+           40           369.00     1.86760          3.42788    \n",
      "         85+           40           375.00     1.86760          3.42788    \n",
      "         85+           40           381.00     1.86760          3.42788    \n",
      "         85+           40           386.00     1.86760          3.42788    \n",
      "         85+           40           391.00     1.86760          3.42788    \n",
      "         85+           40           398.00     1.86760          3.42788    \n",
      "         85+           40           403.00     1.86760          3.42788    \n",
      "         86+           41           408.00     1.86760          3.42788    \n",
      "         86+           41           413.00     1.86760          3.42788    \n",
      "         87+           41           418.00     1.86760          3.42788    \n",
      "         89+           42           423.00     1.87405          3.42788    \n",
      "         89+           42           429.00     1.87405          3.42788    \n",
      "         89            42           434.00     1.87405          3.42788    \n",
      "         90+           43           439.00     1.87405          3.42788    \n",
      "         90+           43           463.00     1.87405          3.42788    \n",
      "         90+           43           468.00     1.87405          3.42788    \n",
      "         91+           44           474.00     1.87405          3.42788    \n",
      "         91+           44           479.00     1.87405          3.42788    \n",
      "         92+           45           484.00     1.87405          3.42788    \n",
      "         93+           44           489.00     1.87405          3.42788    \n",
      "         93+           44           494.00     1.87405          3.42788    \n",
      "         93+           44           499.00     1.87405          3.42788    \n",
      "         94+           44           504.00     1.87405          3.42788    \n",
      "         94+           44           509.00     1.87405          3.42788    \n",
      "         94+           44           514.00     1.87405          3.42788    \n",
      "         95+           44           520.00     1.87405          3.42788    \n",
      "         95            44           525.00     1.87405          3.42788    \n",
      "         97+           45           530.00     1.87524          3.42788    \n",
      "         97+           45           535.00     1.87524          3.42788    \n",
      "         97+           45           541.00     1.87524          3.42788    \n",
      "         97+           45           547.00     1.87524          3.42788    \n",
      "         97+           45           552.00     1.87524          3.42788    \n",
      "         97+           45           558.00     1.87524          3.42788    \n",
      "         97+           45           564.00     1.87524          3.42788    \n",
      "         97+           45           569.00     1.87524          3.42788    \n",
      "         97+           45           575.00     1.87524          3.42788    \n",
      "         97+           45           580.00     1.87524          3.42788    \n",
      "         97+           45           585.00     1.87524          3.42788    \n",
      "         97+           45           591.00     1.87524          3.42788    \n",
      "         97+           45           596.00     1.87524          3.42788    \n",
      "         97            45           600.00     1.87524          3.42788    \n",
      "\n",
      "                    *** Max. allowable time exceeded ***      \n",
      "\n",
      " Wall clock time:                   600.00\n",
      " Total CPU time used:               600.02\n",
      "\n",
      " Total no. of BaR iterations:      97\n",
      " Best solution found at node:      14\n",
      " Max. no. of nodes in memory:      45\n",
      " \n",
      " All done\n",
      "===========================================================================\n"
     ]
    },
    {
     "name": "stderr",
     "output_type": "stream",
     "text": [
      "┌ Warning: Not solved to optimality, status: UserLimit\n",
      "└ @ JuMP /home/twan/.julia/packages/JuMP/Xvn0n/src/nlp.jl:1283\n"
     ]
    },
    {
     "ename": "AssertionError",
     "evalue": "AssertionError: status == :Optimal",
     "output_type": "error",
     "traceback": [
      "AssertionError: status == :Optimal",
      "",
      "Stacktrace:",
      " [1] top-level scope at In[64]:2"
     ]
    }
   ],
   "source": [
    "status = solve(problem.model)\n",
    "@assert status == :Optimal"
   ]
  },
  {
   "cell_type": "code",
   "execution_count": 65,
   "metadata": {},
   "outputs": [
    {
     "data": {
      "text/plain": [
       "\"/home/twan/code/julia-projects/MINLPTrajOpt/src/../data/so3/run0/baronfiles\""
      ]
     },
     "execution_count": 65,
     "metadata": {},
     "output_type": "execute_result"
    }
   ],
   "source": [
    "if save_data\n",
    "    i = 0\n",
    "    while (datadir = joinpath(rootdir, \"data\", \"so3\", \"run$i\"); isdir(datadir))\n",
    "        i += 1\n",
    "    end\n",
    "    mkpath(datadir)\n",
    "end\n",
    "if save_data && solver isa BaronSolver\n",
    "    cp(dirname(problem.model.internalModel.options[:SumName]), joinpath(datadir, \"baronfiles\"))\n",
    "end"
   ]
  },
  {
   "cell_type": "code",
   "execution_count": 66,
   "metadata": {},
   "outputs": [
    {
     "data": {
      "text/plain": [
       "\"/tmp/tmpjhCHpl/sum.lst\""
      ]
     },
     "execution_count": 66,
     "metadata": {},
     "output_type": "execute_result"
    }
   ],
   "source": [
    "problem.model.internalModel.options[:SumName]"
   ]
  },
  {
   "cell_type": "code",
   "execution_count": 67,
   "metadata": {},
   "outputs": [],
   "source": [
    "t = range(0, T, length=N+1)\n",
    "quats = getvalue.(problem.q)\n",
    "pushfirst!(quats, problem.q0)\n",
    "θs = map(rotation_angle, quats)\n",
    "qs = [[quat.w, quat.x, quat.y, quat.z] for quat in quats]\n",
    "Δquats = getvalue.(problem.Δq)\n",
    "ωs = getvalue.(problem.ω)\n",
    "ωds = getvalue.(problem.ωd)\n",
    "τs = getvalue.(problem.τ);"
   ]
  },
  {
   "cell_type": "code",
   "execution_count": 68,
   "metadata": {},
   "outputs": [
    {
     "name": "stdout",
     "output_type": "stream",
     "text": [
      "Δθ = 0.2598815165497173\n",
      "Δθ = 0.3788110380414757\n",
      "Δθ = 0.401062929939656\n",
      "Δθ = 0.3652245762140158\n",
      "Δθ = 0.3021981878390375\n",
      "Δθ = 0.23292002794089933\n",
      "Δθ = 0.16926214688468022\n",
      "Δθ = 0.11654965404747339\n",
      "Δθ = 0.07606194848361304\n",
      "Δθ = 0.04691386667538001\n",
      "Δθ = 0.027292885034983404\n",
      "Δθ = 0.015197464562498061\n",
      "Δθ = 0.008775469607533195\n",
      "Δθ = 0.006168900599297764\n",
      "Δθ = 0.005435149603111585\n"
     ]
    }
   ],
   "source": [
    "using Test\n",
    "for Δquat in Δquats\n",
    "    Δθ = 2 * acos(Δquat.w)\n",
    "    @show Δθ\n",
    "    @test Δθ <= Δθmax + 1e-6\n",
    "    @test norm([Δquat.w, Δquat.x, Δquat.y, Δquat.z]) ≈ 1 atol=1e-6\n",
    "end"
   ]
  },
  {
   "cell_type": "code",
   "execution_count": 69,
   "metadata": {},
   "outputs": [],
   "source": [
    "if save_data\n",
    "    open(joinpath(datadir, \"settings.txt\"), write=true) do io\n",
    "        println(io, \"N = $N\")\n",
    "        println(io, \"T = $T\")\n",
    "        println(io, \"τmax = $τmax\")\n",
    "        println(io, \"quat0 = $quat0\")\n",
    "        println(io, \"ω0 = $ω0\")\n",
    "        println(io, \"solver = $solver\")\n",
    "        println(io, \"status = $status\")\n",
    "        println(io, \"objective value = $(getobjectivevalue(problem.model))\")\n",
    "        println(io, \"objective lower bound = $(getobjbound(problem.model))\")\n",
    "        println(io, \"solvetime = $(getsolvetime(problem.model))\")\n",
    "        println(io)\n",
    "    end\n",
    "end"
   ]
  },
  {
   "cell_type": "code",
   "execution_count": 70,
   "metadata": {},
   "outputs": [],
   "source": [
    "include(joinpath(rootdir, \"extras\", \"plotting.jl\"));"
   ]
  },
  {
   "cell_type": "code",
   "execution_count": 71,
   "metadata": {},
   "outputs": [
    {
     "data": {
      "image/png": "[encoded data removed]",
      "image/svg+xml": [
       "<?xml version=\"1.0\" encoding=\"UTF-8\"?>\n",
       "<svg xmlns=\"http://www.w3.org/2000/svg\" xmlns:xlink=\"http://www.w3.org/1999/xlink\" width=\"236.12pt\" height=\"191.658pt\" viewBox=\"0 0 236.12 191.658\" version=\"1.1\">\n",
       "<defs>\n",
       "<g>\n",
       "<symbol overflow=\"visible\" id=\"glyph-1540328653717167-0-0\">\n",
       "<path style=\"stroke:none;\" d=\"\"/>\n",
       "</symbol>\n",
       "<symbol overflow=\"visible\" id=\"glyph-1540328653717167-0-1\">\n",
       "<path style=\"stroke:none;\" d=\"M 4.578125 -3.1875 C 4.578125 -3.984375 4.53125 -4.78125 4.1875 -5.515625 C 3.734375 -6.484375 2.90625 -6.640625 2.5 -6.640625 C 1.890625 -6.640625 1.171875 -6.375 0.75 -5.453125 C 0.4375 -4.765625 0.390625 -3.984375 0.390625 -3.1875 C 0.390625 -2.4375 0.421875 -1.546875 0.84375 -0.78125 C 1.265625 0.015625 2 0.21875 2.484375 0.21875 C 3.015625 0.21875 3.78125 0.015625 4.21875 -0.9375 C 4.53125 -1.625 4.578125 -2.40625 4.578125 -3.1875 Z M 2.484375 0 C 2.09375 0 1.5 -0.25 1.328125 -1.203125 C 1.21875 -1.796875 1.21875 -2.71875 1.21875 -3.3125 C 1.21875 -3.953125 1.21875 -4.609375 1.296875 -5.140625 C 1.484375 -6.328125 2.234375 -6.421875 2.484375 -6.421875 C 2.8125 -6.421875 3.46875 -6.234375 3.65625 -5.25 C 3.765625 -4.6875 3.765625 -3.9375 3.765625 -3.3125 C 3.765625 -2.5625 3.765625 -1.890625 3.65625 -1.25 C 3.5 -0.296875 2.9375 0 2.484375 0 Z M 2.484375 0 \"/>\n",
       "</symbol>\n",
       "<symbol overflow=\"visible\" id=\"glyph-1540328653717167-0-2\">\n",
       "<path style=\"stroke:none;\" d=\"M 2.9375 -6.375 C 2.9375 -6.625 2.9375 -6.640625 2.703125 -6.640625 C 2.078125 -6 1.203125 -6 0.890625 -6 L 0.890625 -5.6875 C 1.09375 -5.6875 1.671875 -5.6875 2.1875 -5.953125 L 2.1875 -0.78125 C 2.1875 -0.421875 2.15625 -0.3125 1.265625 -0.3125 L 0.953125 -0.3125 L 0.953125 0 C 1.296875 -0.03125 2.15625 -0.03125 2.5625 -0.03125 C 2.953125 -0.03125 3.828125 -0.03125 4.171875 0 L 4.171875 -0.3125 L 3.859375 -0.3125 C 2.953125 -0.3125 2.9375 -0.421875 2.9375 -0.78125 Z M 2.9375 -6.375 \"/>\n",
       "</symbol>\n",
       "<symbol overflow=\"visible\" id=\"glyph-1540328653717167-0-3\">\n",
       "<path style=\"stroke:none;\" d=\"M 1.265625 -0.765625 L 2.328125 -1.796875 C 3.875 -3.171875 4.46875 -3.703125 4.46875 -4.703125 C 4.46875 -5.84375 3.578125 -6.640625 2.359375 -6.640625 C 1.234375 -6.640625 0.5 -5.71875 0.5 -4.828125 C 0.5 -4.28125 1 -4.28125 1.03125 -4.28125 C 1.203125 -4.28125 1.546875 -4.390625 1.546875 -4.8125 C 1.546875 -5.0625 1.359375 -5.328125 1.015625 -5.328125 C 0.9375 -5.328125 0.921875 -5.328125 0.890625 -5.3125 C 1.109375 -5.96875 1.65625 -6.328125 2.234375 -6.328125 C 3.140625 -6.328125 3.5625 -5.515625 3.5625 -4.703125 C 3.5625 -3.90625 3.078125 -3.125 2.515625 -2.5 L 0.609375 -0.375 C 0.5 -0.265625 0.5 -0.234375 0.5 0 L 4.203125 0 L 4.46875 -1.734375 L 4.234375 -1.734375 C 4.171875 -1.4375 4.109375 -1 4 -0.84375 C 3.9375 -0.765625 3.28125 -0.765625 3.0625 -0.765625 Z M 1.265625 -0.765625 \"/>\n",
       "</symbol>\n",
       "<symbol overflow=\"visible\" id=\"glyph-1540328653717167-0-4\">\n",
       "<path style=\"stroke:none;\" d=\"M 2.890625 -3.515625 C 3.703125 -3.78125 4.28125 -4.46875 4.28125 -5.265625 C 4.28125 -6.078125 3.40625 -6.640625 2.453125 -6.640625 C 1.453125 -6.640625 0.6875 -6.046875 0.6875 -5.28125 C 0.6875 -4.953125 0.90625 -4.765625 1.203125 -4.765625 C 1.5 -4.765625 1.703125 -4.984375 1.703125 -5.28125 C 1.703125 -5.765625 1.234375 -5.765625 1.09375 -5.765625 C 1.390625 -6.265625 2.046875 -6.390625 2.40625 -6.390625 C 2.828125 -6.390625 3.375 -6.171875 3.375 -5.28125 C 3.375 -5.15625 3.34375 -4.578125 3.09375 -4.140625 C 2.796875 -3.65625 2.453125 -3.625 2.203125 -3.625 C 2.125 -3.609375 1.890625 -3.59375 1.8125 -3.59375 C 1.734375 -3.578125 1.671875 -3.5625 1.671875 -3.46875 C 1.671875 -3.359375 1.734375 -3.359375 1.90625 -3.359375 L 2.34375 -3.359375 C 3.15625 -3.359375 3.53125 -2.6875 3.53125 -1.703125 C 3.53125 -0.34375 2.84375 -0.0625 2.40625 -0.0625 C 1.96875 -0.0625 1.21875 -0.234375 0.875 -0.8125 C 1.21875 -0.765625 1.53125 -0.984375 1.53125 -1.359375 C 1.53125 -1.71875 1.265625 -1.921875 0.984375 -1.921875 C 0.734375 -1.921875 0.421875 -1.78125 0.421875 -1.34375 C 0.421875 -0.4375 1.34375 0.21875 2.4375 0.21875 C 3.65625 0.21875 4.5625 -0.6875 4.5625 -1.703125 C 4.5625 -2.515625 3.921875 -3.296875 2.890625 -3.515625 Z M 2.890625 -3.515625 \"/>\n",
       "</symbol>\n",
       "<symbol overflow=\"visible\" id=\"glyph-1540328653717167-0-5\">\n",
       "<path style=\"stroke:none;\" d=\"M 2.9375 -1.640625 L 2.9375 -0.78125 C 2.9375 -0.421875 2.90625 -0.3125 2.171875 -0.3125 L 1.96875 -0.3125 L 1.96875 0 C 2.375 -0.03125 2.890625 -0.03125 3.3125 -0.03125 C 3.734375 -0.03125 4.25 -0.03125 4.671875 0 L 4.671875 -0.3125 L 4.453125 -0.3125 C 3.71875 -0.3125 3.703125 -0.421875 3.703125 -0.78125 L 3.703125 -1.640625 L 4.6875 -1.640625 L 4.6875 -1.953125 L 3.703125 -1.953125 L 3.703125 -6.484375 C 3.703125 -6.6875 3.703125 -6.75 3.53125 -6.75 C 3.453125 -6.75 3.421875 -6.75 3.34375 -6.625 L 0.28125 -1.953125 L 0.28125 -1.640625 Z M 2.984375 -1.953125 L 0.5625 -1.953125 L 2.984375 -5.671875 Z M 2.984375 -1.953125 \"/>\n",
       "</symbol>\n",
       "<symbol overflow=\"visible\" id=\"glyph-1540328653717167-0-6\">\n",
       "<path style=\"stroke:none;\" d=\"M 3.296875 2.390625 C 3.296875 2.359375 3.296875 2.34375 3.125 2.171875 C 1.890625 0.921875 1.5625 -0.96875 1.5625 -2.5 C 1.5625 -4.234375 1.9375 -5.96875 3.171875 -7.203125 C 3.296875 -7.328125 3.296875 -7.34375 3.296875 -7.375 C 3.296875 -7.453125 3.265625 -7.484375 3.203125 -7.484375 C 3.09375 -7.484375 2.203125 -6.796875 1.609375 -5.53125 C 1.109375 -4.4375 0.984375 -3.328125 0.984375 -2.5 C 0.984375 -1.71875 1.09375 -0.515625 1.640625 0.625 C 2.25 1.84375 3.09375 2.5 3.203125 2.5 C 3.265625 2.5 3.296875 2.46875 3.296875 2.390625 Z M 3.296875 2.390625 \"/>\n",
       "</symbol>\n",
       "<symbol overflow=\"visible\" id=\"glyph-1540328653717167-0-7\">\n",
       "<path style=\"stroke:none;\" d=\"M 2.078125 -1.9375 C 2.296875 -1.890625 3.109375 -1.734375 3.109375 -1.015625 C 3.109375 -0.515625 2.765625 -0.109375 1.984375 -0.109375 C 1.140625 -0.109375 0.78125 -0.671875 0.59375 -1.53125 C 0.5625 -1.65625 0.5625 -1.6875 0.453125 -1.6875 C 0.328125 -1.6875 0.328125 -1.625 0.328125 -1.453125 L 0.328125 -0.125 C 0.328125 0.046875 0.328125 0.109375 0.4375 0.109375 C 0.484375 0.109375 0.5 0.09375 0.6875 -0.09375 C 0.703125 -0.109375 0.703125 -0.125 0.890625 -0.3125 C 1.328125 0.09375 1.78125 0.109375 1.984375 0.109375 C 3.125 0.109375 3.59375 -0.5625 3.59375 -1.28125 C 3.59375 -1.796875 3.296875 -2.109375 3.171875 -2.21875 C 2.84375 -2.546875 2.453125 -2.625 2.03125 -2.703125 C 1.46875 -2.8125 0.8125 -2.9375 0.8125 -3.515625 C 0.8125 -3.875 1.0625 -4.28125 1.921875 -4.28125 C 3.015625 -4.28125 3.078125 -3.375 3.09375 -3.078125 C 3.09375 -2.984375 3.1875 -2.984375 3.203125 -2.984375 C 3.34375 -2.984375 3.34375 -3.03125 3.34375 -3.21875 L 3.34375 -4.234375 C 3.34375 -4.390625 3.34375 -4.46875 3.234375 -4.46875 C 3.1875 -4.46875 3.15625 -4.46875 3.03125 -4.34375 C 3 -4.3125 2.90625 -4.21875 2.859375 -4.1875 C 2.484375 -4.46875 2.078125 -4.46875 1.921875 -4.46875 C 0.703125 -4.46875 0.328125 -3.796875 0.328125 -3.234375 C 0.328125 -2.890625 0.484375 -2.609375 0.75 -2.390625 C 1.078125 -2.140625 1.359375 -2.078125 2.078125 -1.9375 Z M 2.078125 -1.9375 \"/>\n",
       "</symbol>\n",
       "<symbol overflow=\"visible\" id=\"glyph-1540328653717167-0-8\">\n",
       "<path style=\"stroke:none;\" d=\"M 2.875 -2.5 C 2.875 -3.265625 2.765625 -4.46875 2.21875 -5.609375 C 1.625 -6.828125 0.765625 -7.484375 0.671875 -7.484375 C 0.609375 -7.484375 0.5625 -7.4375 0.5625 -7.375 C 0.5625 -7.34375 0.5625 -7.328125 0.75 -7.140625 C 1.734375 -6.15625 2.296875 -4.578125 2.296875 -2.5 C 2.296875 -0.78125 1.9375 0.96875 0.703125 2.21875 C 0.5625 2.34375 0.5625 2.359375 0.5625 2.390625 C 0.5625 2.453125 0.609375 2.5 0.671875 2.5 C 0.765625 2.5 1.671875 1.8125 2.25 0.546875 C 2.765625 -0.546875 2.875 -1.65625 2.875 -2.5 Z M 2.875 -2.5 \"/>\n",
       "</symbol>\n",
       "<symbol overflow=\"visible\" id=\"glyph-1540328653717167-1-0\">\n",
       "<path style=\"stroke:none;\" d=\"\"/>\n",
       "</symbol>\n",
       "<symbol overflow=\"visible\" id=\"glyph-1540328653717167-1-1\">\n",
       "<path style=\"stroke:none;\" d=\"M 2.328125 -4.4375 C 2.328125 -4.625 2.328125 -4.625 2.125 -4.625 C 1.671875 -4.1875 1.046875 -4.1875 0.765625 -4.1875 L 0.765625 -3.9375 C 0.921875 -3.9375 1.390625 -3.9375 1.765625 -4.125 L 1.765625 -0.578125 C 1.765625 -0.34375 1.765625 -0.25 1.078125 -0.25 L 0.8125 -0.25 L 0.8125 0 C 0.9375 0 1.796875 -0.03125 2.046875 -0.03125 C 2.265625 -0.03125 3.140625 0 3.296875 0 L 3.296875 -0.25 L 3.03125 -0.25 C 2.328125 -0.25 2.328125 -0.34375 2.328125 -0.578125 Z M 2.328125 -4.4375 \"/>\n",
       "</symbol>\n",
       "<symbol overflow=\"visible\" id=\"glyph-1540328653717167-1-2\">\n",
       "<path style=\"stroke:none;\" d=\"M 3.6875 -1.140625 L 3.6875 -1.390625 L 2.90625 -1.390625 L 2.90625 -4.5 C 2.90625 -4.640625 2.90625 -4.703125 2.765625 -4.703125 C 2.671875 -4.703125 2.640625 -4.703125 2.578125 -4.59375 L 0.265625 -1.390625 L 0.265625 -1.140625 L 2.328125 -1.140625 L 2.328125 -0.578125 C 2.328125 -0.328125 2.328125 -0.25 1.75 -0.25 L 1.5625 -0.25 L 1.5625 0 C 1.921875 -0.015625 2.359375 -0.03125 2.609375 -0.03125 C 2.875 -0.03125 3.3125 -0.015625 3.671875 0 L 3.671875 -0.25 L 3.484375 -0.25 C 2.90625 -0.25 2.90625 -0.328125 2.90625 -0.578125 L 2.90625 -1.140625 Z M 2.375 -3.9375 L 2.375 -1.390625 L 0.53125 -1.390625 Z M 2.375 -3.9375 \"/>\n",
       "</symbol>\n",
       "<symbol overflow=\"visible\" id=\"glyph-1540328653717167-1-3\">\n",
       "<path style=\"stroke:none;\" d=\"M 3.515625 -1.265625 L 3.28125 -1.265625 C 3.265625 -1.109375 3.1875 -0.703125 3.09375 -0.640625 C 3.046875 -0.59375 2.515625 -0.59375 2.40625 -0.59375 L 1.125 -0.59375 C 1.859375 -1.234375 2.109375 -1.4375 2.515625 -1.765625 C 3.03125 -2.171875 3.515625 -2.609375 3.515625 -3.265625 C 3.515625 -4.109375 2.78125 -4.625 1.890625 -4.625 C 1.03125 -4.625 0.4375 -4.015625 0.4375 -3.375 C 0.4375 -3.03125 0.734375 -2.984375 0.8125 -2.984375 C 0.96875 -2.984375 1.171875 -3.109375 1.171875 -3.359375 C 1.171875 -3.484375 1.125 -3.734375 0.765625 -3.734375 C 0.984375 -4.21875 1.453125 -4.375 1.78125 -4.375 C 2.484375 -4.375 2.84375 -3.828125 2.84375 -3.265625 C 2.84375 -2.65625 2.40625 -2.1875 2.1875 -1.9375 L 0.515625 -0.265625 C 0.4375 -0.203125 0.4375 -0.1875 0.4375 0 L 3.3125 0 Z M 3.515625 -1.265625 \"/>\n",
       "</symbol>\n",
       "<symbol overflow=\"visible\" id=\"glyph-1540328653717167-1-4\">\n",
       "<path style=\"stroke:none;\" d=\"M 1.90625 -2.328125 C 2.453125 -2.328125 2.84375 -1.953125 2.84375 -1.203125 C 2.84375 -0.34375 2.328125 -0.078125 1.9375 -0.078125 C 1.65625 -0.078125 1.03125 -0.15625 0.75 -0.578125 C 1.078125 -0.578125 1.15625 -0.8125 1.15625 -0.96875 C 1.15625 -1.1875 0.984375 -1.34375 0.765625 -1.34375 C 0.578125 -1.34375 0.375 -1.21875 0.375 -0.9375 C 0.375 -0.28125 1.09375 0.140625 1.9375 0.140625 C 2.90625 0.140625 3.578125 -0.515625 3.578125 -1.203125 C 3.578125 -1.75 3.140625 -2.296875 2.375 -2.453125 C 3.09375 -2.71875 3.359375 -3.234375 3.359375 -3.671875 C 3.359375 -4.21875 2.734375 -4.625 1.953125 -4.625 C 1.1875 -4.625 0.59375 -4.25 0.59375 -3.6875 C 0.59375 -3.453125 0.75 -3.328125 0.953125 -3.328125 C 1.171875 -3.328125 1.3125 -3.484375 1.3125 -3.671875 C 1.3125 -3.875 1.171875 -4.03125 0.953125 -4.046875 C 1.203125 -4.34375 1.671875 -4.421875 1.9375 -4.421875 C 2.25 -4.421875 2.6875 -4.265625 2.6875 -3.671875 C 2.6875 -3.375 2.59375 -3.046875 2.40625 -2.84375 C 2.1875 -2.578125 1.984375 -2.5625 1.640625 -2.53125 C 1.46875 -2.515625 1.453125 -2.515625 1.421875 -2.515625 C 1.40625 -2.515625 1.34375 -2.5 1.34375 -2.421875 C 1.34375 -2.328125 1.40625 -2.328125 1.53125 -2.328125 Z M 1.90625 -2.328125 \"/>\n",
       "</symbol>\n",
       "<symbol overflow=\"visible\" id=\"glyph-1540328653717167-2-0\">\n",
       "<path style=\"stroke:none;\" d=\"\"/>\n",
       "</symbol>\n",
       "<symbol overflow=\"visible\" id=\"glyph-1540328653717167-2-1\">\n",
       "<path style=\"stroke:none;\" d=\"M 2.640625 -3.71875 L 3.765625 -3.71875 C 3.4375 -2.25 3.34375 -1.8125 3.34375 -1.140625 C 3.34375 -1 3.34375 -0.734375 3.421875 -0.390625 C 3.53125 0.046875 3.640625 0.109375 3.78125 0.109375 C 3.984375 0.109375 4.203125 -0.0625 4.203125 -0.265625 C 4.203125 -0.328125 4.203125 -0.34375 4.140625 -0.484375 C 3.84375 -1.203125 3.84375 -1.859375 3.84375 -2.140625 C 3.84375 -2.65625 3.921875 -3.203125 4.03125 -3.71875 L 5.15625 -3.71875 C 5.296875 -3.71875 5.65625 -3.71875 5.65625 -4.0625 C 5.65625 -4.296875 5.4375 -4.296875 5.25 -4.296875 L 1.90625 -4.296875 C 1.6875 -4.296875 1.3125 -4.296875 0.875 -3.828125 C 0.53125 -3.4375 0.265625 -2.984375 0.265625 -2.9375 C 0.265625 -2.921875 0.265625 -2.828125 0.390625 -2.828125 C 0.46875 -2.828125 0.484375 -2.875 0.546875 -2.953125 C 1.03125 -3.71875 1.609375 -3.71875 1.8125 -3.71875 L 2.375 -3.71875 C 2.0625 -2.515625 1.53125 -1.3125 1.109375 -0.40625 C 1.03125 -0.25 1.03125 -0.234375 1.03125 -0.15625 C 1.03125 0.03125 1.1875 0.109375 1.3125 0.109375 C 1.609375 0.109375 1.6875 -0.171875 1.8125 -0.53125 C 1.953125 -1 1.953125 -1.015625 2.078125 -1.515625 Z M 2.640625 -3.71875 \"/>\n",
       "</symbol>\n",
       "<symbol overflow=\"visible\" id=\"glyph-1540328653717167-2-2\">\n",
       "<path style=\"stroke:none;\" d=\"M 2.046875 -3.984375 L 2.984375 -3.984375 C 3.1875 -3.984375 3.296875 -3.984375 3.296875 -4.1875 C 3.296875 -4.296875 3.1875 -4.296875 3.015625 -4.296875 L 2.140625 -4.296875 C 2.5 -5.71875 2.546875 -5.90625 2.546875 -5.96875 C 2.546875 -6.140625 2.421875 -6.234375 2.25 -6.234375 C 2.21875 -6.234375 1.9375 -6.234375 1.859375 -5.875 L 1.46875 -4.296875 L 0.53125 -4.296875 C 0.328125 -4.296875 0.234375 -4.296875 0.234375 -4.109375 C 0.234375 -3.984375 0.3125 -3.984375 0.515625 -3.984375 L 1.390625 -3.984375 C 0.671875 -1.15625 0.625 -0.984375 0.625 -0.8125 C 0.625 -0.265625 1 0.109375 1.546875 0.109375 C 2.5625 0.109375 3.125 -1.34375 3.125 -1.421875 C 3.125 -1.53125 3.046875 -1.53125 3.015625 -1.53125 C 2.921875 -1.53125 2.90625 -1.5 2.859375 -1.390625 C 2.4375 -0.34375 1.90625 -0.109375 1.5625 -0.109375 C 1.359375 -0.109375 1.25 -0.234375 1.25 -0.5625 C 1.25 -0.8125 1.28125 -0.875 1.3125 -1.046875 Z M 2.046875 -3.984375 \"/>\n",
       "</symbol>\n",
       "<symbol overflow=\"visible\" id=\"glyph-1540328653717167-3-0\">\n",
       "<path style=\"stroke:none;\" d=\"\"/>\n",
       "</symbol>\n",
       "<symbol overflow=\"visible\" id=\"glyph-1540328653717167-3-1\">\n",
       "<path style=\"stroke:none;\" d=\"M -4.984375 -4.53125 C -5.640625 -4.53125 -7.03125 -4.359375 -7.03125 -3.34375 C -7.03125 -1.953125 -4.21875 -0.421875 -1.9375 -0.421875 C -1 -0.421875 0.109375 -0.703125 0.109375 -1.609375 C 0.109375 -3.015625 -2.75 -4.53125 -4.984375 -4.53125 Z M -3.625 -1.46875 C -4.25 -1.640625 -5.046875 -1.84375 -5.765625 -2.25 C -6.25 -2.515625 -6.8125 -2.875 -6.8125 -3.328125 C -6.8125 -3.8125 -6.171875 -3.875 -5.609375 -3.875 C -5.109375 -3.875 -4.609375 -3.796875 -3.625 -3.5625 Z M -3.296875 -3.46875 C -2.84375 -3.359375 -2 -3.15625 -1.28125 -2.765625 C -0.59375 -2.421875 -0.109375 -2.046875 -0.109375 -1.609375 C -0.109375 -1.28125 -0.40625 -1.078125 -1.328125 -1.078125 C -1.75 -1.078125 -2.328125 -1.140625 -3.296875 -1.390625 Z M -3.296875 -3.46875 \"/>\n",
       "</symbol>\n",
       "<symbol overflow=\"visible\" id=\"glyph-1540328653717167-4-0\">\n",
       "<path style=\"stroke:none;\" d=\"\"/>\n",
       "</symbol>\n",
       "<symbol overflow=\"visible\" id=\"glyph-1540328653717167-4-1\">\n",
       "<path style=\"stroke:none;\" d=\"M -2.515625 -1.109375 C -4 -1.171875 -4.25 -2.015625 -4.25 -2.359375 C -4.25 -3.375 -2.90625 -3.484375 -2.515625 -3.484375 Z M -2.296875 -1.109375 L -2.296875 -3.890625 C -2.296875 -4.109375 -2.296875 -4.140625 -2.515625 -4.140625 C -3.5 -4.140625 -4.46875 -3.59375 -4.46875 -2.359375 C -4.46875 -1.203125 -3.4375 -0.28125 -2.1875 -0.28125 C -0.859375 -0.28125 0.109375 -1.328125 0.109375 -2.46875 C 0.109375 -3.6875 -1 -4.140625 -1.1875 -4.140625 C -1.28125 -4.140625 -1.3125 -4.0625 -1.3125 -4 C -1.3125 -3.921875 -1.25 -3.890625 -1.171875 -3.875 C -0.140625 -3.53125 -0.140625 -2.625 -0.140625 -2.53125 C -0.140625 -2.03125 -0.4375 -1.640625 -0.8125 -1.40625 C -1.28125 -1.109375 -1.9375 -1.109375 -2.296875 -1.109375 Z M -2.296875 -1.109375 \"/>\n",
       "</symbol>\n",
       "<symbol overflow=\"visible\" id=\"glyph-1540328653717167-4-2\">\n",
       "<path style=\"stroke:none;\" d=\"M -3.3125 -1.671875 L -4.40625 -1.671875 L -4.296875 -0.28125 L -3.984375 -0.28125 C -3.984375 -0.984375 -3.921875 -1.0625 -3.421875 -1.0625 L -0.75 -1.0625 C -0.3125 -1.0625 -0.3125 -0.953125 -0.3125 -0.28125 L 0 -0.28125 C -0.015625 -0.671875 -0.03125 -1.140625 -0.03125 -1.421875 C -0.03125 -1.8125 -0.03125 -2.28125 0 -2.6875 L -0.3125 -2.6875 L -0.3125 -2.46875 C -0.3125 -1.734375 -0.421875 -1.71875 -0.78125 -1.71875 L -2.3125 -1.71875 C -3.296875 -1.71875 -4.1875 -2.140625 -4.1875 -2.890625 C -4.1875 -2.953125 -4.1875 -2.984375 -4.171875 -3 C -4.171875 -2.96875 -4.046875 -2.765625 -3.78125 -2.765625 C -3.515625 -2.765625 -3.359375 -2.984375 -3.359375 -3.203125 C -3.359375 -3.375 -3.484375 -3.625 -3.796875 -3.625 C -4.109375 -3.625 -4.40625 -3.3125 -4.40625 -2.890625 C -4.40625 -2.15625 -3.734375 -1.796875 -3.3125 -1.671875 Z M -3.3125 -1.671875 \"/>\n",
       "</symbol>\n",
       "<symbol overflow=\"visible\" id=\"glyph-1540328653717167-4-3\">\n",
       "<path style=\"stroke:none;\" d=\"M -2.140625 -4.6875 C -3.40625 -4.6875 -4.46875 -3.703125 -4.46875 -2.5 C -4.46875 -1.25 -3.375 -0.28125 -2.140625 -0.28125 C -0.84375 -0.28125 0.109375 -1.3125 0.109375 -2.484375 C 0.109375 -3.6875 -0.875 -4.6875 -2.140625 -4.6875 Z M -0.140625 -2.5 C -0.140625 -2.0625 -0.34375 -1.625 -0.8125 -1.359375 C -1.25 -1.109375 -1.859375 -1.109375 -2.21875 -1.109375 C -2.609375 -1.109375 -3.140625 -1.109375 -3.578125 -1.34375 C -4.03125 -1.609375 -4.25 -2.078125 -4.25 -2.484375 C -4.25 -2.921875 -4.03125 -3.34375 -3.59375 -3.609375 C -3.171875 -3.875 -2.59375 -3.875 -2.21875 -3.875 C -1.859375 -3.875 -1.3125 -3.875 -0.875 -3.65625 C -0.421875 -3.421875 -0.140625 -2.984375 -0.140625 -2.5 Z M -0.140625 -2.5 \"/>\n",
       "</symbol>\n",
       "<symbol overflow=\"visible\" id=\"glyph-1540328653717167-4-4\">\n",
       "<path style=\"stroke:none;\" d=\"M 2.390625 -3.296875 C 2.359375 -3.296875 2.34375 -3.296875 2.171875 -3.125 C 0.921875 -1.890625 -0.96875 -1.5625 -2.5 -1.5625 C -4.234375 -1.5625 -5.96875 -1.9375 -7.203125 -3.171875 C -7.328125 -3.296875 -7.34375 -3.296875 -7.375 -3.296875 C -7.453125 -3.296875 -7.484375 -3.265625 -7.484375 -3.203125 C -7.484375 -3.09375 -6.796875 -2.203125 -5.53125 -1.609375 C -4.4375 -1.109375 -3.328125 -0.984375 -2.5 -0.984375 C -1.71875 -0.984375 -0.515625 -1.09375 0.625 -1.640625 C 1.84375 -2.25 2.5 -3.09375 2.5 -3.203125 C 2.5 -3.265625 2.46875 -3.296875 2.390625 -3.296875 Z M 2.390625 -3.296875 \"/>\n",
       "</symbol>\n",
       "<symbol overflow=\"visible\" id=\"glyph-1540328653717167-4-5\">\n",
       "<path style=\"stroke:none;\" d=\"M -0.75 -3.3125 C -0.359375 -3.359375 0.0625 -3.625 0.0625 -4.09375 C 0.0625 -4.3125 -0.078125 -4.921875 -0.890625 -4.921875 L -1.453125 -4.921875 L -1.453125 -4.671875 L -0.890625 -4.671875 C -0.3125 -4.671875 -0.25 -4.421875 -0.25 -4.3125 C -0.25 -3.984375 -0.703125 -3.9375 -0.75 -3.9375 L -2.734375 -3.9375 C -3.15625 -3.9375 -3.546875 -3.9375 -3.921875 -3.578125 C -4.3125 -3.1875 -4.46875 -2.6875 -4.46875 -2.21875 C -4.46875 -1.390625 -4 -0.703125 -3.34375 -0.703125 C -3.046875 -0.703125 -2.875 -0.90625 -2.875 -1.171875 C -2.875 -1.453125 -3.078125 -1.625 -3.328125 -1.625 C -3.453125 -1.625 -3.78125 -1.578125 -3.78125 -1.109375 C -4.140625 -1.390625 -4.25 -1.875 -4.25 -2.1875 C -4.25 -2.6875 -3.859375 -3.25 -2.96875 -3.25 L -2.609375 -3.25 C -2.578125 -2.734375 -2.546875 -2.046875 -2.25 -1.421875 C -1.90625 -0.671875 -1.390625 -0.421875 -0.953125 -0.421875 C -0.140625 -0.421875 0.109375 -1.390625 0.109375 -2.015625 C 0.109375 -2.671875 -0.296875 -3.125 -0.75 -3.3125 Z M -2.390625 -3.25 L -1.390625 -3.25 C -0.453125 -3.25 -0.109375 -2.53125 -0.109375 -2.078125 C -0.109375 -1.59375 -0.453125 -1.1875 -0.953125 -1.1875 C -1.5 -1.1875 -2.328125 -1.609375 -2.390625 -3.25 Z M -2.390625 -3.25 \"/>\n",
       "</symbol>\n",
       "<symbol overflow=\"visible\" id=\"glyph-1540328653717167-4-6\">\n",
       "<path style=\"stroke:none;\" d=\"M -0.546875 -3.78125 L 0.109375 -3.78125 L 0 -5.25 L -0.3125 -5.25 C -0.3125 -4.5625 -0.375 -4.46875 -0.875 -4.46875 L -6.921875 -4.46875 L -6.8125 -3.046875 L -6.5 -3.046875 C -6.5 -3.734375 -6.4375 -3.8125 -5.9375 -3.8125 L -3.78125 -3.8125 C -4.140625 -3.53125 -4.40625 -3.09375 -4.40625 -2.5625 C -4.40625 -1.390625 -3.421875 -0.34375 -2.140625 -0.34375 C -0.875 -0.34375 0.109375 -1.3125 0.109375 -2.453125 C 0.109375 -3.09375 -0.234375 -3.53125 -0.546875 -3.78125 Z M -3.21875 -3.78125 L -1.171875 -3.78125 C -1 -3.78125 -0.984375 -3.78125 -0.8125 -3.671875 C -0.328125 -3.375 -0.109375 -2.9375 -0.109375 -2.5 C -0.109375 -2.046875 -0.375 -1.6875 -0.75 -1.453125 C -1.15625 -1.203125 -1.71875 -1.171875 -2.140625 -1.171875 C -2.5 -1.171875 -3.09375 -1.1875 -3.546875 -1.46875 C -3.859375 -1.6875 -4.1875 -2.0625 -4.1875 -2.609375 C -4.1875 -2.953125 -4.03125 -3.375 -3.59375 -3.671875 C -3.421875 -3.78125 -3.40625 -3.78125 -3.21875 -3.78125 Z M -3.21875 -3.78125 \"/>\n",
       "</symbol>\n",
       "<symbol overflow=\"visible\" id=\"glyph-1540328653717167-4-7\">\n",
       "<path style=\"stroke:none;\" d=\"M -2.5 -2.875 C -3.265625 -2.875 -4.46875 -2.765625 -5.609375 -2.21875 C -6.828125 -1.625 -7.484375 -0.765625 -7.484375 -0.671875 C -7.484375 -0.609375 -7.4375 -0.5625 -7.375 -0.5625 C -7.34375 -0.5625 -7.328125 -0.5625 -7.140625 -0.75 C -6.15625 -1.734375 -4.578125 -2.296875 -2.5 -2.296875 C -0.78125 -2.296875 0.96875 -1.9375 2.21875 -0.703125 C 2.34375 -0.5625 2.359375 -0.5625 2.390625 -0.5625 C 2.453125 -0.5625 2.5 -0.609375 2.5 -0.671875 C 2.5 -0.765625 1.8125 -1.671875 0.546875 -2.25 C -0.546875 -2.765625 -1.65625 -2.875 -2.5 -2.875 Z M -2.5 -2.875 \"/>\n",
       "</symbol>\n",
       "</g>\n",
       "<clipPath id=\"clip-1540328653717167-1\">\n",
       "  <path d=\"M 0 0 L 236.121094 0 L 236.121094 191.65625 L 0 191.65625 Z M 0 0 \"/>\n",
       "</clipPath>\n",
       "<clipPath id=\"clip-1540328653717167-2\">\n",
       "  <path d=\"M 36.042969 8 L 230.3125 8 L 230.3125 154 L 36.042969 154 Z M 36.042969 8 \"/>\n",
       "</clipPath>\n",
       "<clipPath id=\"clip-1540328653717167-3\">\n",
       "  <path d=\"M 222 139 L 236.121094 139 L 236.121094 155 L 222 155 Z M 222 139 \"/>\n",
       "</clipPath>\n",
       "</defs>\n",
       "<g id=\"surface1\">\n",
       "<g clip-path=\"url(#clip-1540328653717167-1)\" clip-rule=\"nonzero\">\n",
       "<path style=\" stroke:none;fill-rule:nonzero;fill:rgb(100%,100%,100%);fill-opacity:1;\" d=\"M 0 191.65625 L 237.003906 191.65625 L 237.003906 -0.71875 L 0 -0.71875 Z M 0 191.65625 \"/>\n",
       "</g>\n",
       "<path style=\"fill:none;stroke-width:0.3985;stroke-linecap:butt;stroke-linejoin:miter;stroke:rgb(75%,75%,75%);stroke-opacity:1;stroke-miterlimit:10;\" d=\"M 0.00096875 -13.44975 L 0.00096875 147.944781 M 48.567375 -13.44975 L 48.567375 147.944781 M 97.133781 -13.44975 L 97.133781 147.944781 M 145.700187 -13.44975 L 145.700187 147.944781 M 194.2705 -13.44975 L 194.2705 147.944781 \" transform=\"matrix(1,0,0,-1,36.042,148.144)\"/>\n",
       "<path style=\"fill:none;stroke-width:0.3985;stroke-linecap:butt;stroke-linejoin:miter;stroke:rgb(75%,75%,75%);stroke-opacity:1;stroke-miterlimit:10;\" d=\"M 0.00096875 -1.000531 L 194.2705 -1.000531 M 0.00096875 44.319781 L 194.2705 44.319781 M 0.00096875 89.640094 L 194.2705 89.640094 M 0.00096875 134.964313 L 194.2705 134.964313 \" transform=\"matrix(1,0,0,-1,36.042,148.144)\"/>\n",
       "<path style=\"fill:none;stroke-width:0.19925;stroke-linecap:butt;stroke-linejoin:miter;stroke:rgb(50%,50%,50%);stroke-opacity:1;stroke-miterlimit:10;\" d=\"M 0.00096875 -13.44975 L 0.00096875 -9.19975 M 48.567375 -13.44975 L 48.567375 -9.19975 M 97.133781 -13.44975 L 97.133781 -9.19975 M 145.700187 -13.44975 L 145.700187 -9.19975 M 194.2705 -13.44975 L 194.2705 -9.19975 M 0.00096875 147.944781 L 0.00096875 143.694781 M 48.567375 147.944781 L 48.567375 143.694781 M 97.133781 147.944781 L 97.133781 143.694781 M 145.700187 147.944781 L 145.700187 143.694781 M 194.2705 147.944781 L 194.2705 143.694781 \" transform=\"matrix(1,0,0,-1,36.042,148.144)\"/>\n",
       "<path style=\"fill:none;stroke-width:0.19925;stroke-linecap:butt;stroke-linejoin:miter;stroke:rgb(50%,50%,50%);stroke-opacity:1;stroke-miterlimit:10;\" d=\"M 0.00096875 -1.000531 L 4.250969 -1.000531 M 0.00096875 44.319781 L 4.250969 44.319781 M 0.00096875 89.640094 L 4.250969 89.640094 M 0.00096875 134.964313 L 4.250969 134.964313 M 194.2705 -1.000531 L 190.016594 -1.000531 M 194.2705 44.319781 L 190.016594 44.319781 M 194.2705 89.640094 L 190.016594 89.640094 M 194.2705 134.964313 L 190.016594 134.964313 \" transform=\"matrix(1,0,0,-1,36.042,148.144)\"/>\n",
       "<path style=\"fill:none;stroke-width:0.3985;stroke-linecap:butt;stroke-linejoin:miter;stroke:rgb(0%,0%,0%);stroke-opacity:1;stroke-miterlimit:10;\" d=\"M 0.00096875 -13.44975 L 0.00096875 147.944781 L 194.2705 147.944781 L 194.2705 -13.44975 Z M 0.00096875 -13.44975 \" transform=\"matrix(1,0,0,-1,36.042,148.144)\"/>\n",
       "<g style=\"fill:rgb(0%,0%,0%);fill-opacity:1;\">\n",
       "  <use xlink:href=\"#glyph-1540328653717167-0-1\" x=\"33.551\" y=\"171.535\"/>\n",
       "</g>\n",
       "<g style=\"fill:rgb(0%,0%,0%);fill-opacity:1;\">\n",
       "  <use xlink:href=\"#glyph-1540328653717167-0-2\" x=\"82.118\" y=\"171.535\"/>\n",
       "</g>\n",
       "<g style=\"fill:rgb(0%,0%,0%);fill-opacity:1;\">\n",
       "  <use xlink:href=\"#glyph-1540328653717167-0-3\" x=\"130.685\" y=\"171.535\"/>\n",
       "</g>\n",
       "<g style=\"fill:rgb(0%,0%,0%);fill-opacity:1;\">\n",
       "  <use xlink:href=\"#glyph-1540328653717167-0-4\" x=\"179.251\" y=\"171.535\"/>\n",
       "</g>\n",
       "<g style=\"fill:rgb(0%,0%,0%);fill-opacity:1;\">\n",
       "  <use xlink:href=\"#glyph-1540328653717167-0-5\" x=\"227.818\" y=\"171.535\"/>\n",
       "</g>\n",
       "<g style=\"fill:rgb(0%,0%,0%);fill-opacity:1;\">\n",
       "  <use xlink:href=\"#glyph-1540328653717167-0-1\" x=\"27.541\" y=\"152.356\"/>\n",
       "</g>\n",
       "<g style=\"fill:rgb(0%,0%,0%);fill-opacity:1;\">\n",
       "  <use xlink:href=\"#glyph-1540328653717167-1-1\" x=\"21.319\" y=\"102.393\"/>\n",
       "</g>\n",
       "<path style=\"fill:none;stroke-width:0.398;stroke-linecap:butt;stroke-linejoin:miter;stroke:rgb(0%,0%,0%);stroke-opacity:1;stroke-miterlimit:10;\" d=\"M 0.0013125 0.00078125 L 3.970062 0.00078125 \" transform=\"matrix(1,0,0,-1,21.319,103.825)\"/>\n",
       "<g style=\"fill:rgb(0%,0%,0%);fill-opacity:1;\">\n",
       "  <use xlink:href=\"#glyph-1540328653717167-1-2\" x=\"21.319\" y=\"109.751\"/>\n",
       "</g>\n",
       "<g style=\"fill:rgb(0%,0%,0%);fill-opacity:1;\">\n",
       "  <use xlink:href=\"#glyph-1540328653717167-2-1\" x=\"26.486\" y=\"106.315\"/>\n",
       "</g>\n",
       "<g style=\"fill:rgb(0%,0%,0%);fill-opacity:1;\">\n",
       "  <use xlink:href=\"#glyph-1540328653717167-1-1\" x=\"21.319\" y=\"57.072\"/>\n",
       "</g>\n",
       "<path style=\"fill:none;stroke-width:0.398;stroke-linecap:butt;stroke-linejoin:miter;stroke:rgb(0%,0%,0%);stroke-opacity:1;stroke-miterlimit:10;\" d=\"M 0.0013125 0.00009375 L 3.970062 0.00009375 \" transform=\"matrix(1,0,0,-1,21.319,58.504)\"/>\n",
       "<g style=\"fill:rgb(0%,0%,0%);fill-opacity:1;\">\n",
       "  <use xlink:href=\"#glyph-1540328653717167-1-3\" x=\"21.319\" y=\"64.43\"/>\n",
       "</g>\n",
       "<g style=\"fill:rgb(0%,0%,0%);fill-opacity:1;\">\n",
       "  <use xlink:href=\"#glyph-1540328653717167-2-1\" x=\"26.486\" y=\"60.994\"/>\n",
       "</g>\n",
       "<g style=\"fill:rgb(0%,0%,0%);fill-opacity:1;\">\n",
       "  <use xlink:href=\"#glyph-1540328653717167-1-4\" x=\"21.319\" y=\"11.751\"/>\n",
       "</g>\n",
       "<path style=\"fill:none;stroke-width:0.398;stroke-linecap:butt;stroke-linejoin:miter;stroke:rgb(0%,0%,0%);stroke-opacity:1;stroke-miterlimit:10;\" d=\"M 0.0013125 -0.00059375 L 3.970062 -0.00059375 \" transform=\"matrix(1,0,0,-1,21.319,13.183)\"/>\n",
       "<g style=\"fill:rgb(0%,0%,0%);fill-opacity:1;\">\n",
       "  <use xlink:href=\"#glyph-1540328653717167-1-2\" x=\"21.319\" y=\"19.109\"/>\n",
       "</g>\n",
       "<g style=\"fill:rgb(0%,0%,0%);fill-opacity:1;\">\n",
       "  <use xlink:href=\"#glyph-1540328653717167-2-1\" x=\"26.486\" y=\"15.673\"/>\n",
       "</g>\n",
       "<g clip-path=\"url(#clip-1540328653717167-2)\" clip-rule=\"nonzero\">\n",
       "<path style=\"fill:none;stroke-width:0.3985;stroke-linecap:butt;stroke-linejoin:miter;stroke:rgb(0%,0%,100%);stroke-opacity:1;stroke-miterlimit:10;\" d=\"M 0.00096875 134.495563 L 12.950187 119.644 L 25.903312 97.948688 L 38.852531 74.948688 L 51.805656 53.991656 L 64.754875 36.651813 L 77.708 23.288531 L 90.657219 13.585406 L 103.610344 6.929156 L 116.559562 2.628375 L 129.512687 0.167438 L 142.465812 -0.00053125 L 155.415031 0.647906 L 168.368156 1.026813 L 181.317375 1.253375 L 194.2705 1.436969 \" transform=\"matrix(1,0,0,-1,36.042,148.144)\"/>\n",
       "</g>\n",
       "<path style=\"fill-rule:nonzero;fill:rgb(0%,0%,79.998779%);fill-opacity:1;stroke-width:0.3985;stroke-linecap:butt;stroke-linejoin:miter;stroke:rgb(0%,0%,100%);stroke-opacity:1;stroke-miterlimit:10;\" d=\"M 1.993156 134.495563 C 1.993156 135.597125 1.098625 136.48775 0.00096875 136.48775 C -1.100594 136.48775 -1.991219 135.597125 -1.991219 134.495563 C -1.991219 133.394 -1.100594 132.503375 0.00096875 132.503375 C 1.098625 132.503375 1.993156 133.394 1.993156 134.495563 Z M 1.993156 134.495563 \" transform=\"matrix(1,0,0,-1,36.042,148.144)\"/>\n",
       "<path style=\"fill-rule:nonzero;fill:rgb(0%,0%,79.998779%);fill-opacity:1;stroke-width:0.3985;stroke-linecap:butt;stroke-linejoin:miter;stroke:rgb(0%,0%,100%);stroke-opacity:1;stroke-miterlimit:10;\" d=\"M 14.942375 119.644 C 14.942375 120.745563 14.05175 121.636188 12.950187 121.636188 C 11.852531 121.636188 10.958 120.745563 10.958 119.644 C 10.958 118.542438 11.852531 117.651813 12.950187 117.651813 C 14.05175 117.651813 14.942375 118.542438 14.942375 119.644 Z M 14.942375 119.644 \" transform=\"matrix(1,0,0,-1,36.042,148.144)\"/>\n",
       "<path style=\"fill-rule:nonzero;fill:rgb(0%,0%,79.998779%);fill-opacity:1;stroke-width:0.3985;stroke-linecap:butt;stroke-linejoin:miter;stroke:rgb(0%,0%,100%);stroke-opacity:1;stroke-miterlimit:10;\" d=\"M 27.8955 97.948688 C 27.8955 99.05025 27.004875 99.940875 25.903312 99.940875 C 24.80175 99.940875 23.911125 99.05025 23.911125 97.948688 C 23.911125 96.847125 24.80175 95.9565 25.903312 95.9565 C 27.004875 95.9565 27.8955 96.847125 27.8955 97.948688 Z M 27.8955 97.948688 \" transform=\"matrix(1,0,0,-1,36.042,148.144)\"/>\n",
       "<path style=\"fill-rule:nonzero;fill:rgb(0%,0%,79.998779%);fill-opacity:1;stroke-width:0.3985;stroke-linecap:butt;stroke-linejoin:miter;stroke:rgb(0%,0%,100%);stroke-opacity:1;stroke-miterlimit:10;\" d=\"M 40.844719 74.948688 C 40.844719 76.05025 39.954094 76.944781 38.852531 76.944781 C 37.754875 76.944781 36.860344 76.05025 36.860344 74.948688 C 36.860344 73.851031 37.754875 72.9565 38.852531 72.9565 C 39.954094 72.9565 40.844719 73.851031 40.844719 74.948688 Z M 40.844719 74.948688 \" transform=\"matrix(1,0,0,-1,36.042,148.144)\"/>\n",
       "<path style=\"fill-rule:nonzero;fill:rgb(0%,0%,79.998779%);fill-opacity:1;stroke-width:0.3985;stroke-linecap:butt;stroke-linejoin:miter;stroke:rgb(0%,0%,100%);stroke-opacity:1;stroke-miterlimit:10;\" d=\"M 53.797844 53.991656 C 53.797844 55.093219 52.907219 55.98775 51.805656 55.98775 C 50.704094 55.98775 49.813469 55.093219 49.813469 53.991656 C 49.813469 52.894 50.704094 51.999469 51.805656 51.999469 C 52.907219 51.999469 53.797844 52.894 53.797844 53.991656 Z M 53.797844 53.991656 \" transform=\"matrix(1,0,0,-1,36.042,148.144)\"/>\n",
       "<path style=\"fill-rule:nonzero;fill:rgb(0%,0%,79.998779%);fill-opacity:1;stroke-width:0.3985;stroke-linecap:butt;stroke-linejoin:miter;stroke:rgb(0%,0%,100%);stroke-opacity:1;stroke-miterlimit:10;\" d=\"M 66.747062 36.651813 C 66.747062 37.749469 65.856437 38.644 64.754875 38.644 C 63.657219 38.644 62.762687 37.749469 62.762687 36.651813 C 62.762687 35.55025 63.657219 34.655719 64.754875 34.655719 C 65.856437 34.655719 66.747062 35.55025 66.747062 36.651813 Z M 66.747062 36.651813 \" transform=\"matrix(1,0,0,-1,36.042,148.144)\"/>\n",
       "<path style=\"fill-rule:nonzero;fill:rgb(0%,0%,79.998779%);fill-opacity:1;stroke-width:0.3985;stroke-linecap:butt;stroke-linejoin:miter;stroke:rgb(0%,0%,100%);stroke-opacity:1;stroke-miterlimit:10;\" d=\"M 79.700187 23.288531 C 79.700187 24.386188 78.809562 25.280719 77.708 25.280719 C 76.606437 25.280719 75.715812 24.386188 75.715812 23.288531 C 75.715812 22.186969 76.606437 21.296344 77.708 21.296344 C 78.809562 21.296344 79.700187 22.186969 79.700187 23.288531 Z M 79.700187 23.288531 \" transform=\"matrix(1,0,0,-1,36.042,148.144)\"/>\n",
       "<path style=\"fill-rule:nonzero;fill:rgb(0%,0%,79.998779%);fill-opacity:1;stroke-width:0.3985;stroke-linecap:butt;stroke-linejoin:miter;stroke:rgb(0%,0%,100%);stroke-opacity:1;stroke-miterlimit:10;\" d=\"M 92.653312 13.585406 C 92.653312 14.686969 91.758781 15.5815 90.657219 15.5815 C 89.559562 15.5815 88.665031 14.686969 88.665031 13.585406 C 88.665031 12.48775 89.559562 11.593219 90.657219 11.593219 C 91.758781 11.593219 92.653312 12.48775 92.653312 13.585406 Z M 92.653312 13.585406 \" transform=\"matrix(1,0,0,-1,36.042,148.144)\"/>\n",
       "<path style=\"fill-rule:nonzero;fill:rgb(0%,0%,79.998779%);fill-opacity:1;stroke-width:0.3985;stroke-linecap:butt;stroke-linejoin:miter;stroke:rgb(0%,0%,100%);stroke-opacity:1;stroke-miterlimit:10;\" d=\"M 105.602531 6.929156 C 105.602531 8.026813 104.711906 8.921344 103.610344 8.921344 C 102.508781 8.921344 101.618156 8.026813 101.618156 6.929156 C 101.618156 5.827594 102.508781 4.936969 103.610344 4.936969 C 104.711906 4.936969 105.602531 5.827594 105.602531 6.929156 Z M 105.602531 6.929156 \" transform=\"matrix(1,0,0,-1,36.042,148.144)\"/>\n",
       "<path style=\"fill-rule:nonzero;fill:rgb(0%,0%,79.998779%);fill-opacity:1;stroke-width:0.3985;stroke-linecap:butt;stroke-linejoin:miter;stroke:rgb(0%,0%,100%);stroke-opacity:1;stroke-miterlimit:10;\" d=\"M 118.555656 2.628375 C 118.555656 3.729938 117.661125 4.620563 116.559562 4.620563 C 115.461906 4.620563 114.567375 3.729938 114.567375 2.628375 C 114.567375 1.526813 115.461906 0.636188 116.559562 0.636188 C 117.661125 0.636188 118.555656 1.526813 118.555656 2.628375 Z M 118.555656 2.628375 \" transform=\"matrix(1,0,0,-1,36.042,148.144)\"/>\n",
       "<path style=\"fill-rule:nonzero;fill:rgb(0%,0%,79.998779%);fill-opacity:1;stroke-width:0.3985;stroke-linecap:butt;stroke-linejoin:miter;stroke:rgb(0%,0%,100%);stroke-opacity:1;stroke-miterlimit:10;\" d=\"M 131.504875 0.167438 C 131.504875 1.269 130.61425 2.159625 129.512687 2.159625 C 128.411125 2.159625 127.5205 1.269 127.5205 0.167438 C 127.5205 -0.934125 128.411125 -1.82475 129.512687 -1.82475 C 130.61425 -1.82475 131.504875 -0.934125 131.504875 0.167438 Z M 131.504875 0.167438 \" transform=\"matrix(1,0,0,-1,36.042,148.144)\"/>\n",
       "<path style=\"fill-rule:nonzero;fill:rgb(0%,0%,79.998779%);fill-opacity:1;stroke-width:0.3985;stroke-linecap:butt;stroke-linejoin:miter;stroke:rgb(0%,0%,100%);stroke-opacity:1;stroke-miterlimit:10;\" d=\"M 144.458 -0.00053125 C 144.458 1.101031 143.563469 1.991656 142.465812 1.991656 C 141.36425 1.991656 140.469719 1.101031 140.469719 -0.00053125 C 140.469719 -1.102094 141.36425 -1.992719 142.465812 -1.992719 C 143.563469 -1.992719 144.458 -1.102094 144.458 -0.00053125 Z M 144.458 -0.00053125 \" transform=\"matrix(1,0,0,-1,36.042,148.144)\"/>\n",
       "<path style=\"fill-rule:nonzero;fill:rgb(0%,0%,79.998779%);fill-opacity:1;stroke-width:0.3985;stroke-linecap:butt;stroke-linejoin:miter;stroke:rgb(0%,0%,100%);stroke-opacity:1;stroke-miterlimit:10;\" d=\"M 157.407219 0.647906 C 157.407219 1.749469 156.516594 2.640094 155.415031 2.640094 C 154.313469 2.640094 153.422844 1.749469 153.422844 0.647906 C 153.422844 -0.453656 154.313469 -1.344281 155.415031 -1.344281 C 156.516594 -1.344281 157.407219 -0.453656 157.407219 0.647906 Z M 157.407219 0.647906 \" transform=\"matrix(1,0,0,-1,36.042,148.144)\"/>\n",
       "<path style=\"fill-rule:nonzero;fill:rgb(0%,0%,79.998779%);fill-opacity:1;stroke-width:0.3985;stroke-linecap:butt;stroke-linejoin:miter;stroke:rgb(0%,0%,100%);stroke-opacity:1;stroke-miterlimit:10;\" d=\"M 170.360344 1.026813 C 170.360344 2.128375 169.465812 3.022906 168.368156 3.022906 C 167.266594 3.022906 166.372062 2.128375 166.372062 1.026813 C 166.372062 -0.0708437 167.266594 -0.965375 168.368156 -0.965375 C 169.465812 -0.965375 170.360344 -0.0708437 170.360344 1.026813 Z M 170.360344 1.026813 \" transform=\"matrix(1,0,0,-1,36.042,148.144)\"/>\n",
       "<path style=\"fill-rule:nonzero;fill:rgb(0%,0%,79.998779%);fill-opacity:1;stroke-width:0.3985;stroke-linecap:butt;stroke-linejoin:miter;stroke:rgb(0%,0%,100%);stroke-opacity:1;stroke-miterlimit:10;\" d=\"M 183.309562 1.253375 C 183.309562 2.354938 182.418937 3.245563 181.317375 3.245563 C 180.215812 3.245563 179.325187 2.354938 179.325187 1.253375 C 179.325187 0.151813 180.215812 -0.738812 181.317375 -0.738812 C 182.418937 -0.738812 183.309562 0.151813 183.309562 1.253375 Z M 183.309562 1.253375 \" transform=\"matrix(1,0,0,-1,36.042,148.144)\"/>\n",
       "<path style=\" stroke:none;fill-rule:nonzero;fill:rgb(0%,0%,79.998779%);fill-opacity:1;\" d=\"M 232.304688 146.707031 C 232.304688 145.605469 231.410156 144.710938 230.3125 144.710938 C 229.210938 144.710938 228.320312 145.605469 228.320312 146.707031 C 228.320312 147.804688 229.210938 148.699219 230.3125 148.699219 C 231.410156 148.699219 232.304688 147.804688 232.304688 146.707031 Z M 232.304688 146.707031 \"/>\n",
       "<g clip-path=\"url(#clip-1540328653717167-3)\" clip-rule=\"nonzero\">\n",
       "<path style=\"fill:none;stroke-width:0.3985;stroke-linecap:butt;stroke-linejoin:miter;stroke:rgb(0%,0%,100%);stroke-opacity:1;stroke-miterlimit:10;\" d=\"M 196.262687 1.436969 C 196.262687 2.538531 195.368156 3.433063 194.2705 3.433063 C 193.168937 3.433063 192.278312 2.538531 192.278312 1.436969 C 192.278312 0.339313 193.168937 -0.555219 194.2705 -0.555219 C 195.368156 -0.555219 196.262687 0.339313 196.262687 1.436969 Z M 196.262687 1.436969 \" transform=\"matrix(1,0,0,-1,36.042,148.144)\"/>\n",
       "</g>\n",
       "<g style=\"fill:rgb(0%,0%,0%);fill-opacity:1;\">\n",
       "  <use xlink:href=\"#glyph-1540328653717167-2-2\" x=\"123.877\" y=\"185.847\"/>\n",
       "</g>\n",
       "<g style=\"fill:rgb(0%,0%,0%);fill-opacity:1;\">\n",
       "  <use xlink:href=\"#glyph-1540328653717167-0-6\" x=\"130.795\" y=\"185.847\"/>\n",
       "  <use xlink:href=\"#glyph-1540328653717167-0-7\" x=\"134.669455\" y=\"185.847\"/>\n",
       "  <use xlink:href=\"#glyph-1540328653717167-0-8\" x=\"138.598705\" y=\"185.847\"/>\n",
       "</g>\n",
       "<g style=\"fill:rgb(0%,0%,0%);fill-opacity:1;\">\n",
       "  <use xlink:href=\"#glyph-1540328653717167-3-1\" x=\"10.793\" y=\"108.336\"/>\n",
       "</g>\n",
       "<g style=\"fill:rgb(0%,0%,0%);fill-opacity:1;\">\n",
       "  <use xlink:href=\"#glyph-1540328653717167-4-1\" x=\"10.793\" y=\"100.062\"/>\n",
       "  <use xlink:href=\"#glyph-1540328653717167-4-2\" x=\"10.793\" y=\"95.634621\"/>\n",
       "  <use xlink:href=\"#glyph-1540328653717167-4-2\" x=\"10.793\" y=\"91.73227\"/>\n",
       "  <use xlink:href=\"#glyph-1540328653717167-4-3\" x=\"10.793\" y=\"87.82992\"/>\n",
       "  <use xlink:href=\"#glyph-1540328653717167-4-2\" x=\"10.793\" y=\"82.84862\"/>\n",
       "</g>\n",
       "<g style=\"fill:rgb(0%,0%,0%);fill-opacity:1;\">\n",
       "  <use xlink:href=\"#glyph-1540328653717167-4-4\" x=\"10.793\" y=\"75.628724\"/>\n",
       "  <use xlink:href=\"#glyph-1540328653717167-4-2\" x=\"10.793\" y=\"71.754268\"/>\n",
       "  <use xlink:href=\"#glyph-1540328653717167-4-5\" x=\"10.793\" y=\"67.851918\"/>\n",
       "  <use xlink:href=\"#glyph-1540328653717167-4-6\" x=\"10.793\" y=\"62.870618\"/>\n",
       "  <use xlink:href=\"#glyph-1540328653717167-4-7\" x=\"10.793\" y=\"57.335397\"/>\n",
       "</g>\n",
       "</g>\n",
       "</svg>\n",
       "\n"
      ],
      "text/plain": [
       "Axis(PGFPlotsX.Options(OrderedCollections.OrderedDict{Any,Any}(\"xmajorgrids\"=>nothing,\"ymajorgrids\"=>nothing,\"xmin\"=>0.0,\"xmax\"=>4.0,\"enlarge_y_limits\"=>nothing,\"xlabel\"=>L\"$t$ (s)\",\"ylabel\"=>L\"$\\theta$ error (rad)\",\"ytick\"=>0.0:0.7853981633974483:2.356194490192345,\"yticklabels\"=>LaTeXString[L\"$0$\", L\"$\\frac{1}{4}\\pi$\", L\"$\\frac{1}{2}\\pi$\", L\"$\\frac{3}{4}\\pi$\"]), true), Any[Plot(false, false, Options(OrderedCollections.OrderedDict{Any,Any}(), false), Table(Options(OrderedCollections.OrderedDict{Any,Any}(), false), TableData([0.0 2.3481; 0.266667 2.09072; … ; 3.73333 0.0390613; 4.0 0.0422872], nothing, Int64[], true)), Any[])])"
      ]
     },
     "execution_count": 71,
     "metadata": {},
     "output_type": "execute_result"
    }
   ],
   "source": [
    "p = timeplot(t, θs; ylabel=L\"$\\theta$ error (rad)\")\n",
    "piticks!(p, 1//4, θs; axis=:y)\n",
    "save_data && pgfsave(joinpath(datadir, \"error.pdf\"), p)\n",
    "p"
   ]
  },
  {
   "cell_type": "code",
   "execution_count": 72,
   "metadata": {},
   "outputs": [],
   "source": [
    "using RigidBodyDynamics"
   ]
  },
  {
   "cell_type": "code",
   "execution_count": 73,
   "metadata": {},
   "outputs": [],
   "source": [
    "world = RigidBody{Float64}(\"world\")\n",
    "mechanism = Mechanism(world)\n",
    "joint = Joint(\"joint\", QuaternionSpherical{Float64}())\n",
    "inertia = SpatialInertia(joint.frame_after, Diagonal([parameters.Ixx, parameters.Iyy, parameters.Izz]), zeros(3), 30.0)\n",
    "body = RigidBody(inertia)\n",
    "attach!(mechanism, world, body, joint);"
   ]
  },
  {
   "cell_type": "code",
   "execution_count": 74,
   "metadata": {},
   "outputs": [],
   "source": [
    "using MeshCat, MeshCatMechanisms, MechanismGeometries"
   ]
  },
  {
   "cell_type": "code",
   "execution_count": 75,
   "metadata": {},
   "outputs": [
    {
     "name": "stderr",
     "output_type": "stream",
     "text": [
      "┌ Info: Serving MeshCat visualizer at http://127.0.0.1:8703\n",
      "└ @ MeshCat /home/twan/.julia/packages/MeshCat/rjDJh/src/servers.jl:12\n",
      "┌ Info: Listening on: Sockets.InetAddr{Sockets.IPv4}(ip\"127.0.0.1\", 0x21ff)\n",
      "└ @ HTTP.Servers /home/twan/.julia/packages/HTTP/nUK4f/src/Servers.jl:307\n"
     ]
    },
    {
     "data": {
      "text/plain": [
       "Process(`\u001b[4mxdg-open\u001b[24m \u001b[4mhttp://127.0.0.1:8703\u001b[24m`, ProcessExited(0))"
      ]
     },
     "execution_count": 75,
     "metadata": {},
     "output_type": "execute_result"
    },
    {
     "name": "stderr",
     "output_type": "stream",
     "text": [
      "┌ Info: Accept:  🔗    0↑     0↓    0s 127.0.0.1:8703:8703 ≣16\n",
      "└ @ HTTP.Servers /home/twan/.julia/packages/HTTP/nUK4f/src/Servers.jl:366\n",
      "┌ Info: Accept:  🔗    0↑     0↓    0s 127.0.0.1:8703:8703 ≣16\n",
      "└ @ HTTP.Servers /home/twan/.julia/packages/HTTP/nUK4f/src/Servers.jl:366\n",
      "┌ Info: Accept:  🔗    0↑     0↓    0s 127.0.0.1:8703:8703 ≣16\n",
      "└ @ HTTP.Servers /home/twan/.julia/packages/HTTP/nUK4f/src/Servers.jl:366\n"
     ]
    }
   ],
   "source": [
    "mvis = MechanismVisualizer(mechanism, Skeleton(inertias=true));\n",
    "open(mvis)"
   ]
  },
  {
   "cell_type": "code",
   "execution_count": 76,
   "metadata": {},
   "outputs": [
    {
     "data": {
      "text/plain": [
       "MeshCat Visualizer with path /meshcat/world/after_joint/after_joint/triad"
      ]
     },
     "execution_count": 76,
     "metadata": {},
     "output_type": "execute_result"
    }
   ],
   "source": [
    "frame = frame_after(joint)\n",
    "setobject!(mvis[frame][\"triad\"], Triad(0.5))"
   ]
  },
  {
   "cell_type": "code",
   "execution_count": 77,
   "metadata": {},
   "outputs": [],
   "source": [
    "setanimation!(mvis, t, qs)"
   ]
  },
  {
   "cell_type": "code",
   "execution_count": 78,
   "metadata": {},
   "outputs": [
    {
     "data": {
      "text/plain": [
       "15-element Array{Array{Float64,1},1}:\n",
       " [-0.551195, 0.833232, 0.043683]  \n",
       " [-0.633697, 0.773575, 0.00303864]\n",
       " [-0.877274, 0.443378, -0.183864] \n",
       " [0.26145, -0.949631, -0.172754]  \n",
       " [0.478599, -0.876032, -0.0592522]\n",
       " [0.54994, -0.835176, -0.00692099]\n",
       " [0.595225, -0.802894, 0.0326972] \n",
       " [0.631902, -0.772107, 0.0674533] \n",
       " [0.665062, -0.740021, 0.100305]  \n",
       " [0.696398, -0.705211, 0.133071]  \n",
       " [0.72623, -0.666813, 0.167184]   \n",
       " [0.754263, -0.624074, 0.204009]  \n",
       " [0.780018, -0.575665, 0.245321]  \n",
       " [0.803144, -0.517901, 0.294514]  \n",
       " [0.823189, -0.438748, 0.36036]   "
      ]
     },
     "execution_count": 78,
     "metadata": {},
     "output_type": "execute_result"
    }
   ],
   "source": [
    "normalize.(τs)"
   ]
  },
  {
   "cell_type": "code",
   "execution_count": null,
   "metadata": {},
   "outputs": [],
   "source": []
  }
 ],
 "metadata": {
  "kernelspec": {
   "display_name": "Julia 1.0.0",
   "language": "julia",
   "name": "julia-1.0"
  },
  "language_info": {
   "file_extension": ".jl",
   "mimetype": "application/julia",
   "name": "julia",
   "version": "1.0.0"
  }
 },
 "nbformat": 4,
 "nbformat_minor": 2
}
