{
 "cells": [
  {
   "cell_type": "code",
   "execution_count": 4,
   "metadata": {},
   "outputs": [
    {
     "name": "stdout",
     "output_type": "stream",
     "text": [
      "\u001b[32m\u001b[1m  Updating\u001b[22m\u001b[39m registry at `~/.julia/registries/General`\n",
      "\u001b[32m\u001b[1m  Updating\u001b[22m\u001b[39m git-repo `https://github.com/JuliaRegistries/General.git`\n",
      "\u001b[?25l\u001b[2K\u001b[?25h"
     ]
    }
   ],
   "source": [
    "using Pkg\n",
    "Pkg.activate(@__DIR__)\n",
    "push!(LOAD_PATH, joinpath(@__DIR__, \"..\", \"..\"))\n",
    "Pkg.instantiate()"
   ]
  },
  {
   "cell_type": "code",
   "execution_count": 5,
   "metadata": {},
   "outputs": [
    {
     "name": "stderr",
     "output_type": "stream",
     "text": [
      "┌ Info: Recompiling stale cache file /home/twan/.julia/compiled/v1.0/MINLPTrajOpt/myGxE.ji for MINLPTrajOpt [c68a6224-cbe5-11e8-1e7f-b1d3117b2aa4]\n",
      "└ @ Base loading.jl:1184\n"
     ]
    }
   ],
   "source": [
    "using JuMP\n",
    "using BARON\n",
    "using LinearAlgebra\n",
    "using StaticArrays\n",
    "using MINLPTrajOpt\n",
    "using MINLPTrajOpt.SO3\n",
    "using Rotations\n",
    "using Random"
   ]
  },
  {
   "cell_type": "code",
   "execution_count": 6,
   "metadata": {},
   "outputs": [],
   "source": [
    "rootdir = joinpath(dirname(pathof(MINLPTrajOpt)), \"..\")\n",
    "save_data = false;"
   ]
  },
  {
   "cell_type": "code",
   "execution_count": 7,
   "metadata": {},
   "outputs": [],
   "source": [
    "solver = BaronSolver(threads=Sys.CPU_THREADS, EpsA=1e-2)\n",
    "# solver = CouenneNLSolver()\n",
    "parameters = SO3Parameters()\n",
    "τmax = 10.0\n",
    "Random.seed!(1)\n",
    "quat0 = rand(Quat)\n",
    "# ω0 = SVector(0.1, 0.2, 0.3)\n",
    "ω0 = zero(SVector{3})\n",
    "\n",
    "N = 7\n",
    "T = 4.0\n",
    "Δt = T / N\n",
    "Δθmax = 0.5\n",
    "\n",
    "problem = SO3Problem(parameters, quat0, ω0, solver; τmax=τmax, Δt=Δt, N=N, Δθmax=Δθmax);"
   ]
  },
  {
   "cell_type": "code",
   "execution_count": 8,
   "metadata": {},
   "outputs": [
    {
     "name": "stdout",
     "output_type": "stream",
     "text": [
      "===========================================================================\n",
      " BARON version 18.8.23. Built: LNX-64 Thu Aug 23 14:46:44 EDT 2018\n",
      "\n",
      " BARON is a product of The Optimization Firm.\n",
      " For information on BARON, see https://minlp.com/about-baron\n",
      " Licensee: MIT at Twan Koolen, tkoolen@mit.edu.\n",
      "\n",
      " If you use this software, please cite publications from\n",
      " https://minlp.com/baron-publications, such as: \n",
      "\n",
      " Khajavirad, A. and N. V. Sahinidis,\n",
      " A hybrid LP/NLP paradigm for global optimization relaxations,\n",
      " Mathematical Programming Computation, 10, 383-421, 2018.\n",
      "===========================================================================\n",
      " This BARON run may utilize the following subsolver(s)\n",
      " For LP/MIP: ILOG CPLEX                                      \n",
      " For NLP: IPOPT, FILTERSD, FILTERSQP\n",
      "===========================================================================\n",
      " Doing local search\n",
      " Unable to find/load CPLEX library libcplex.so: cannot open shared object file: No such file or directory\n",
      " Using CPLEX library libcplex1280.so.\n",
      " Preprocessing found feasible solution with value  1.61296223848     \n",
      " Solving bounding LP\n",
      " Starting multi-start local search\n",
      " Done with local search\n",
      "===========================================================================\n",
      "  Iteration    Open nodes         Time (s)    Lower bound      Upper bound\n",
      "          1             1             4.00     1.02816          1.61296    \n",
      "*         2             2             5.00     1.02816          1.61242    \n",
      "         15+            6            35.00     1.19455          1.61242    \n",
      "         20+            4            65.00     1.30725          1.61242    \n",
      "         25             0            93.00     1.60242          1.61242    \n",
      "\n",
      " Cleaning up\n",
      "\n",
      "                         *** Normal completion ***            \n",
      "\n",
      " Wall clock time:                    93.00\n",
      " Total CPU time used:                92.95\n",
      "\n",
      " Total no. of BaR iterations:      25\n",
      " Best solution found at node:       3\n",
      " Max. no. of nodes in memory:       7\n",
      " \n",
      " All done\n",
      "===========================================================================\n"
     ]
    }
   ],
   "source": [
    "status = solve(problem.model)\n",
    "@assert status == :Optimal"
   ]
  },
  {
   "cell_type": "code",
   "execution_count": 9,
   "metadata": {},
   "outputs": [],
   "source": [
    "if save_data\n",
    "    i = 0\n",
    "    while (datadir = joinpath(rootdir, \"data\", \"so3\", \"run$i\"); isdir(datadir))\n",
    "        i += 1\n",
    "    end\n",
    "    mkpath(datadir)\n",
    "end\n",
    "if save_data && solver isa BaronSolver\n",
    "    cp(dirname(problem.model.internalModel.options[:SumName]), joinpath(datadir, \"baronfiles\"))\n",
    "end"
   ]
  },
  {
   "cell_type": "code",
   "execution_count": 10,
   "metadata": {},
   "outputs": [
    {
     "data": {
      "text/plain": [
       "\"/tmp/tmp0IzM1d\""
      ]
     },
     "execution_count": 10,
     "metadata": {},
     "output_type": "execute_result"
    }
   ],
   "source": [
    "dirname(problem.model.internalModel.options[:SumName])"
   ]
  },
  {
   "cell_type": "code",
   "execution_count": 11,
   "metadata": {},
   "outputs": [],
   "source": [
    "t = range(0, T, length=N+1)\n",
    "quats = getvalue.(problem.q)\n",
    "pushfirst!(quats, problem.q0)\n",
    "qs = [[quat.w, quat.x, quat.y, quat.z] for quat in quats]\n",
    "Δquats = getvalue.(problem.Δq)\n",
    "ωs = getvalue.(problem.ω)\n",
    "ωds = getvalue.(problem.ωd)\n",
    "τs = getvalue.(problem.τ);"
   ]
  },
  {
   "cell_type": "code",
   "execution_count": 12,
   "metadata": {},
   "outputs": [],
   "source": [
    "using Test\n",
    "for Δquat in Δquats\n",
    "    Δθ = 2 * acos(Δquat.w)\n",
    "    @test Δθ <= Δθmax + 1e-6\n",
    "    @test norm([Δquat.w, Δquat.x, Δquat.y, Δquat.z]) ≈ 1 atol=1e-6\n",
    "end"
   ]
  },
  {
   "cell_type": "code",
   "execution_count": 13,
   "metadata": {},
   "outputs": [],
   "source": [
    "using RigidBodyDynamics"
   ]
  },
  {
   "cell_type": "code",
   "execution_count": 14,
   "metadata": {},
   "outputs": [],
   "source": [
    "world = RigidBody{Float64}(\"world\")\n",
    "mechanism = Mechanism(world)\n",
    "joint = Joint(\"joint\", QuaternionSpherical{Float64}())\n",
    "body = RigidBody{Float64}(\"body\")\n",
    "attach!(mechanism, world, body, joint);"
   ]
  },
  {
   "cell_type": "code",
   "execution_count": 15,
   "metadata": {},
   "outputs": [
    {
     "data": {
      "text/html": [
       "    <script class='js-collapse-script'>\n",
       "        var curMatch =\n",
       "            window.location.href\n",
       "            .match(/(.*?)\\/notebooks\\/.*\\.ipynb/);\n",
       "\n",
       "        curMatch = curMatch ||\n",
       "            window.location.href\n",
       "            .match(/(.*?)\\/apps\\/.*\\.ipynb/);\n",
       "\n",
       "        if ( curMatch ) {\n",
       "            $('head').append('<base href=\"' + curMatch[1] + '/\">');\n",
       "        }\n",
       "    </script>\n"
      ],
      "text/plain": [
       "HTML{String}(\"    <script class='js-collapse-script'>\\n        var curMatch =\\n            window.location.href\\n            .match(/(.*?)\\\\/notebooks\\\\/.*\\\\.ipynb/);\\n\\n        curMatch = curMatch ||\\n            window.location.href\\n            .match(/(.*?)\\\\/apps\\\\/.*\\\\.ipynb/);\\n\\n        if ( curMatch ) {\\n            \\$('head').append('<base href=\\\"' + curMatch[1] + '/\\\">');\\n        }\\n    </script>\\n\")"
      ]
     },
     "metadata": {},
     "output_type": "display_data"
    },
    {
     "data": {
      "text/html": [
       "<script class='js-collapse-script' src='/assetserver/25f9570346b69729e3f0d089746606f6943c897a-assets/webio/dist/bundle.js'></script>"
      ],
      "text/plain": [
       "HTML{String}(\"<script class='js-collapse-script' src='/assetserver/25f9570346b69729e3f0d089746606f6943c897a-assets/webio/dist/bundle.js'></script>\")"
      ]
     },
     "metadata": {},
     "output_type": "display_data"
    },
    {
     "data": {
      "text/html": [
       "<script class='js-collapse-script' src='/assetserver/25f9570346b69729e3f0d089746606f6943c897a-assets/providers/ijulia_setup.js'></script>"
      ],
      "text/plain": [
       "HTML{String}(\"<script class='js-collapse-script' src='/assetserver/25f9570346b69729e3f0d089746606f6943c897a-assets/providers/ijulia_setup.js'></script>\")"
      ]
     },
     "metadata": {},
     "output_type": "display_data"
    },
    {
     "data": {
      "text/html": [
       "  <script class='js-collapse-script'>\n",
       "    $('.js-collapse-script').parent('.output_subarea').css('padding', '0');\n",
       "  </script>\n"
      ],
      "text/plain": [
       "HTML{String}(\"  <script class='js-collapse-script'>\\n    \\$('.js-collapse-script').parent('.output_subarea').css('padding', '0');\\n  </script>\\n\")"
      ]
     },
     "metadata": {},
     "output_type": "display_data"
    }
   ],
   "source": [
    "using MeshCatMechanisms, MechanismGeometries, CoordinateTransformations, ColorTypes, GeometryTypes"
   ]
  },
  {
   "cell_type": "code",
   "execution_count": 33,
   "metadata": {},
   "outputs": [],
   "source": [
    "struct SO3Geometry <: MechanismGeometries.AbstractGeometrySource end\n",
    "function MechanismGeometries.visual_elements(mechanism::Mechanism, source::SO3Geometry)\n",
    "    @assert length(joints(mechanism)) == 1\n",
    "    joint = first(joints(mechanism))\n",
    "    frame = frame_after(joint)\n",
    "    elements = Vector{VisualElement}()\n",
    "    boxdims = Vec(0.3, 0.3, 0.3)\n",
    "    box = HyperRectangle(-boxdims / 2, boxdims)\n",
    "    push!(elements, VisualElement(frame, box, MechanismGeometries.DEFAULT_COLOR, IdentityTransformation()))\n",
    "    elements\n",
    "end"
   ]
  },
  {
   "cell_type": "code",
   "execution_count": 34,
   "metadata": {},
   "outputs": [],
   "source": [
    "mvis = MechanismVisualizer(mechanism, SO3Geometry());"
   ]
  },
  {
   "cell_type": "code",
   "execution_count": 35,
   "metadata": {},
   "outputs": [
    {
     "name": "stderr",
     "output_type": "stream",
     "text": [
      "┌ Info: Serving MeshCat visualizer at http://127.0.0.1:8704\n",
      "└ @ MeshCat /home/twan/.julia/packages/MeshCat/rjDJh/src/servers.jl:12\n",
      "┌ Info: Listening on: Sockets.InetAddr{Sockets.IPv4}(ip\"127.0.0.1\", 0x2200)\n",
      "└ @ HTTP.Servers /home/twan/.julia/packages/HTTP/nUK4f/src/Servers.jl:307\n",
      "┌ Info: Accept:  🔗    0↑     0↓    0s 127.0.0.1:8704:8704 ≣16\n",
      "└ @ HTTP.Servers /home/twan/.julia/packages/HTTP/nUK4f/src/Servers.jl:366\n",
      "┌ Info: Accept:  🔗    0↑     0↓    0s 127.0.0.1:8704:8704 ≣16\n",
      "└ @ HTTP.Servers /home/twan/.julia/packages/HTTP/nUK4f/src/Servers.jl:366\n",
      "┌ Info: Accept:  🔗    0↑     0↓    0s 127.0.0.1:8704:8704 ≣16\n",
      "└ @ HTTP.Servers /home/twan/.julia/packages/HTTP/nUK4f/src/Servers.jl:366\n",
      "Error handling websocket connection:\n",
      "\u001b[91mWebSockets.WebSocketClosedError(\"ws|server respond to OPCODE_CLOSE 1001:Going Away\")\u001b[39m┌ Info: Closed:  💀    1↑     1↓🔒  24s 127.0.0.1:8703:8703 ≣16\n",
      "└ @ HTTP.Servers /home/twan/.julia/packages/HTTP/nUK4f/src/Servers.jl:373\n"
     ]
    }
   ],
   "source": [
    "open(mvis);"
   ]
  },
  {
   "cell_type": "code",
   "execution_count": 38,
   "metadata": {},
   "outputs": [
    {
     "name": "stderr",
     "output_type": "stream",
     "text": [
      "┌ Info: Closed:  💀    1↑     1↓🔒 115s 127.0.0.1:8702:8702 ≣16\n",
      "└ @ HTTP.Servers /home/twan/.julia/packages/HTTP/nUK4f/src/Servers.jl:373\n",
      "┌ Info: Closed:  💀    4↑     4↓🔒 115s 127.0.0.1:8702:8702 ≣16\n",
      "└ @ HTTP.Servers /home/twan/.julia/packages/HTTP/nUK4f/src/Servers.jl:373\n"
     ]
    }
   ],
   "source": [
    "setanimation!(mvis, t, qs)"
   ]
  },
  {
   "cell_type": "code",
   "execution_count": 20,
   "metadata": {},
   "outputs": [
    {
     "data": {
      "text/plain": [
       "7-element Array{Array{Float64,1},1}:\n",
       " [-0.204157, 0.319071, 0.00557661]    \n",
       " [0.0, 0.0, 0.0]                      \n",
       " [0.0, 0.0, 0.0]                      \n",
       " [0.0296464, -0.0463334, -0.000809799]\n",
       " [0.0662166, -0.103488, -0.00180872]  \n",
       " [0.050399, -0.078767, -0.00137666]   \n",
       " [0.0230396, -0.0360078, -0.000629332]"
      ]
     },
     "execution_count": 20,
     "metadata": {},
     "output_type": "execute_result"
    }
   ],
   "source": [
    "τs"
   ]
  },
  {
   "cell_type": "code",
   "execution_count": null,
   "metadata": {},
   "outputs": [],
   "source": []
  }
 ],
 "metadata": {
  "kernelspec": {
   "display_name": "Julia 1.0.0",
   "language": "julia",
   "name": "julia-1.0"
  },
  "language_info": {
   "file_extension": ".jl",
   "mimetype": "application/julia",
   "name": "julia",
   "version": "1.0.0"
  }
 },
 "nbformat": 4,
 "nbformat_minor": 2
}
